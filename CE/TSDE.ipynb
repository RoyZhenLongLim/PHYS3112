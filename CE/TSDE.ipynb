{
 "cells": [
  {
   "metadata": {
    "ExecuteTime": {
     "end_time": "2024-04-19T05:08:06.025970Z",
     "start_time": "2024-04-19T05:08:06.022522Z"
    }
   },
   "cell_type": "code",
   "source": [
    "import numpy as np \n",
    "import matplotlib.pyplot as plt\n",
    "from numba import jit "
   ],
   "id": "6b4e2a87a3a094fc",
   "outputs": [],
   "execution_count": 16
  },
  {
   "metadata": {
    "ExecuteTime": {
     "end_time": "2024-04-19T05:08:06.696947Z",
     "start_time": "2024-04-19T05:08:06.692804Z"
    }
   },
   "cell_type": "code",
   "source": [
    "# Constants\n",
    "hbar = 1.055e-34      # Js\n",
    "q = 1.602e-19         # C\n",
    "m = 9.1e-31           # kg\n",
    "m_dot = 0.2 * m       # kg  \n",
    "bohr_radii = 5.29e-11 # m\n",
    "a = 1e-10             # m"
   ],
   "id": "d6a5e8d8bfd895d1",
   "outputs": [],
   "execution_count": 17
  },
  {
   "metadata": {
    "ExecuteTime": {
     "end_time": "2024-04-19T05:08:07.244486Z",
     "start_time": "2024-04-19T05:08:07.239258Z"
    }
   },
   "cell_type": "code",
   "source": [
    "def VDQD(alpha, x1, x2, x):\n",
    "    return alpha * min((x - x1) ** 2, (x - x2) ** 2)\n",
    "\n",
    "def VFT(alpha, F, omega, x1, x2, x, t):\n",
    "    return alpha * min((x - x1) ** 2, (x - x2) ** 2) + F * x * np.cos(omega * t)"
   ],
   "id": "f1245c9134856ec8",
   "outputs": [],
   "execution_count": 18
  },
  {
   "metadata": {
    "ExecuteTime": {
     "end_time": "2024-04-19T05:08:07.787680Z",
     "start_time": "2024-04-19T05:08:07.782515Z"
    }
   },
   "cell_type": "code",
   "source": [
    "# Constants\n",
    "Np = 100\n",
    "X = a * np.linspace(-500, 500, Np) / 1e-9         # nm\n",
    "dx = (X[1] - X[0]) * 1e-9                         # m\n",
    "x1 = 10                                           # nm\n",
    "x2 = -10                                          # nm\n",
    "alpha = 2.10e-5                                   # eV / nm^2\n",
    "F = 5e-4                                           # V/m"
   ],
   "id": "af706ee5b9ce70fd",
   "outputs": [],
   "execution_count": 19
  },
  {
   "metadata": {
    "ExecuteTime": {
     "end_time": "2024-04-19T05:08:08.402719Z",
     "start_time": "2024-04-19T05:08:08.398435Z"
    }
   },
   "cell_type": "code",
   "source": [
    "@jit\n",
    "def construct_H(U):\n",
    "    t0 = (hbar * hbar) / (2 * m_dot * dx ** 2) \n",
    "    on = 2.0 * t0 * np.ones(Np)\n",
    "    off = -t0 * np.ones(Np - 1)\n",
    "    H = np.diag(on + U) + np.diag(off, 1) + np.diag(off, -1)\n",
    "    return H "
   ],
   "id": "42734e8571186897",
   "outputs": [],
   "execution_count": 20
  },
  {
   "metadata": {
    "ExecuteTime": {
     "end_time": "2024-04-19T05:08:09.049717Z",
     "start_time": "2024-04-19T05:08:09.044569Z"
    }
   },
   "cell_type": "code",
   "source": [
    "@jit\n",
    "def compute_eigenvalue_eigenstates(U):\n",
    "    H = construct_H(U)\n",
    "    W, V = np.linalg.eig(H)\n",
    "    idx = W.argsort()[::1]\n",
    "    W = W[idx]\n",
    "    V = V[:, idx]\n",
    "    return W, V"
   ],
   "id": "dcfb056f5e955a1e",
   "outputs": [],
   "execution_count": 21
  },
  {
   "metadata": {
    "ExecuteTime": {
     "end_time": "2024-04-19T05:08:11.105174Z",
     "start_time": "2024-04-19T05:08:09.577782Z"
    }
   },
   "cell_type": "code",
   "source": [
    "# Finding Initial Condition\n",
    "U = np.array([VDQD(alpha, x1, x2, x) for x in X])\n",
    "W, V = compute_eigenvalue_eigenstates(U * q)"
   ],
   "id": "e318d0a13a59fc0a",
   "outputs": [],
   "execution_count": 22
  },
  {
   "metadata": {
    "ExecuteTime": {
     "end_time": "2024-04-19T05:08:11.127537Z",
     "start_time": "2024-04-19T05:08:11.107086Z"
    }
   },
   "cell_type": "code",
   "source": [
    "omega = (W[1] - W[0]) / hbar\n",
    "print(f'Energy Gap is {(W[1] - W[0]) * 1e3 / q:.2F} meV')\n",
    "print(f'Frequency of Oscillation is {omega / (2 * np.pi):.2E}')\n",
    "print(f'Period of Oscillation is {2 * np.pi / omega:.2E}')"
   ],
   "id": "9f8cf1d718c70ed5",
   "outputs": [
    {
     "name": "stdout",
     "output_type": "stream",
     "text": [
      "Energy Gap is 1.65 meV\n",
      "Frequency of Oscillation is 3.98E+11\n",
      "Period of Oscillation is 2.51E-12\n"
     ]
    }
   ],
   "execution_count": 23
  },
  {
   "metadata": {
    "ExecuteTime": {
     "end_time": "2024-04-19T05:08:11.494056Z",
     "start_time": "2024-04-19T05:08:11.489348Z"
    }
   },
   "cell_type": "code",
   "source": [
    "# Constants Derived\n",
    "Nt = 500\n",
    "T = np.linspace(0, 2 * np.pi / omega, Nt)           # s (double the period)\n",
    "dt = T[1] - T[0]                                    # s\n",
    "gamma = alpha * dt / dx ** 2                        # Check that method is valid for given value of dt and dx\n",
    "print(f'Gamma = {gamma:.2E}')"
   ],
   "id": "5777cec8cb3ced24",
   "outputs": [
    {
     "name": "stdout",
     "output_type": "stream",
     "text": [
      "Gamma = 1.04E-01\n"
     ]
    }
   ],
   "execution_count": 24
  },
  {
   "metadata": {
    "ExecuteTime": {
     "end_time": "2024-04-19T05:08:12.297556Z",
     "start_time": "2024-04-19T05:08:12.292556Z"
    }
   },
   "cell_type": "code",
   "source": [
    "# Set initial psi to be ground state\n",
    "psi0 = np.array(V[:, 0], dtype='complex_')\n",
    "psi = np.zeros((Nt, Np), dtype='complex_')\n",
    "H = construct_H(U * q)"
   ],
   "id": "bd47ffefb2f8dba0",
   "outputs": [],
   "execution_count": 25
  },
  {
   "metadata": {
    "ExecuteTime": {
     "end_time": "2024-04-19T05:08:13.001471Z",
     "start_time": "2024-04-19T05:08:12.997483Z"
    }
   },
   "cell_type": "code",
   "source": [
    "psi_next = psi0\n",
    "psi[0, :] = psi0"
   ],
   "id": "1fda104718dec3cd",
   "outputs": [],
   "execution_count": 26
  },
  {
   "metadata": {
    "ExecuteTime": {
     "end_time": "2024-04-19T05:08:13.662249Z",
     "start_time": "2024-04-19T05:08:13.658335Z"
    }
   },
   "cell_type": "code",
   "source": [
    "p0 = np.array([np.abs(psi_next @ V[:, 0]) ** 2])\n",
    "p1 = np.array([np.abs(psi_next @ V[:, 1]) ** 2])"
   ],
   "id": "7d6ec4e1b03d543b",
   "outputs": [],
   "execution_count": 27
  },
  {
   "metadata": {
    "ExecuteTime": {
     "end_time": "2024-04-19T05:08:14.275945Z",
     "start_time": "2024-04-19T05:08:14.270509Z"
    }
   },
   "cell_type": "code",
   "source": "p0, p1",
   "id": "2e1b253376a0ce03",
   "outputs": [
    {
     "data": {
      "text/plain": [
       "(array([1.]), array([1.54802466e-26]))"
      ]
     },
     "execution_count": 28,
     "metadata": {},
     "output_type": "execute_result"
    }
   ],
   "execution_count": 28
  },
  {
   "metadata": {
    "ExecuteTime": {
     "end_time": "2024-04-19T05:08:29.590318Z",
     "start_time": "2024-04-19T05:08:14.886475Z"
    }
   },
   "cell_type": "code",
   "source": [
    "for i in range(1, Nt):\n",
    "    t = T[i]\n",
    "    U = np.array([VFT(alpha, F, omega, x1, x2, x, t) for x in X])\n",
    "    H_new = construct_H(U * q)\n",
    "    A = (1 + 1j * dt / (2 * hbar) * H_new) \n",
    "    B = (1 - 1j * dt / (2 * hbar) * H) @ psi_next\n",
    "    psi_next = np.linalg.solve(A, B)\n",
    "    _, V = np.linalg.eig(H)\n",
    "    p0 = np.append(p0, np.abs(psi_next @ V[:, 0]) ** 2) \n",
    "    p1 = np.append(p1, np.abs(psi_next @ V[:, 1]) ** 2)\n",
    "    H = H_new\n",
    "    psi[i, :] = psi_next\n",
    "    "
   ],
   "id": "17cdd1b6a32c8cc3",
   "outputs": [],
   "execution_count": 29
  },
  {
   "metadata": {
    "ExecuteTime": {
     "end_time": "2024-04-19T05:08:29.890822Z",
     "start_time": "2024-04-19T05:08:29.594324Z"
    }
   },
   "cell_type": "code",
   "source": [
    "plt.plot(T / (2 * np.pi / omega), p0, '-', label='Probability of being in state 0')\n",
    "plt.plot(T / (2 * np.pi / omega), p1, '-', label='Probability of being in state 1')\n",
    "plt.legend()"
   ],
   "id": "1f9bab9849cd7f9c",
   "outputs": [
    {
     "data": {
      "text/plain": [
       "<matplotlib.legend.Legend at 0x717125ca1120>"
      ]
     },
     "execution_count": 30,
     "metadata": {},
     "output_type": "execute_result"
    },
    {
     "data": {
      "text/plain": [
       "<Figure size 640x480 with 1 Axes>"
      ],
      "image/png": "[encoded data removed]"
     },
     "metadata": {},
     "output_type": "display_data"
    }
   ],
   "execution_count": 30
  }
 ],
 "metadata": {
  "kernelspec": {
   "display_name": "Python 3",
   "language": "python",
   "name": "python3"
  },
  "language_info": {
   "codemirror_mode": {
    "name": "ipython",
    "version": 2
   },
   "file_extension": ".py",
   "mimetype": "text/x-python",
   "name": "python",
   "nbconvert_exporter": "python",
   "pygments_lexer": "ipython2",
   "version": "2.7.6"
  }
 },
 "nbformat": 4,
 "nbformat_minor": 5
}

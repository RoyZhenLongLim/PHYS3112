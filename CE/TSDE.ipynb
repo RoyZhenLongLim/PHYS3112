{
 "cells": [
  {
   "metadata": {
    "ExecuteTime": {
     "end_time": "2024-04-17T01:47:45.704666Z",
     "start_time": "2024-04-17T01:47:45.699475Z"
    }
   },
   "cell_type": "code",
   "source": [
    "import numpy as np \n",
    "import matplotlib.pyplot as plt\n",
    "from numba import jit "
   ],
   "id": "6b4e2a87a3a094fc",
   "outputs": [],
   "execution_count": 43
  },
  {
   "metadata": {
    "ExecuteTime": {
     "end_time": "2024-04-17T01:47:46.388058Z",
     "start_time": "2024-04-17T01:47:46.384730Z"
    }
   },
   "cell_type": "code",
   "source": [
    "# Constants\n",
    "hbar = 1.055e-34      # Js\n",
    "q = 1.602e-19         # C\n",
    "m = 9.1e-31           # kg\n",
    "m_dot = 0.2 * m       # kg  \n",
    "bohr_radii = 5.29e-11 # m\n",
    "a = 1e-10             # m"
   ],
   "id": "d6a5e8d8bfd895d1",
   "outputs": [],
   "execution_count": 44
  },
  {
   "metadata": {
    "ExecuteTime": {
     "end_time": "2024-04-17T01:47:46.930223Z",
     "start_time": "2024-04-17T01:47:46.924377Z"
    }
   },
   "cell_type": "code",
   "source": [
    "def VQD(alpha, x1, x):\n",
    "    return alpha * (x - x1) ** 2\n",
    "\n",
    "def VDQD(alpha, x1, x2, x):\n",
    "    return alpha * min((x - x1) ** 2, (x - x2) ** 2)\n",
    "\n",
    "def VF(alpha, F, x1, x2, x):\n",
    "    return alpha * min((x - x1) ** 2, (x - x2) ** 2) + F * x\n",
    "    # return F * x\n",
    "\n",
    "def VFT(alpha, F, omega, x1, x2, x, t):\n",
    "    return alpha * min((x - x1) ** 2, (x - x2) ** 2) + F * x * np.cos(omega * t)"
   ],
   "id": "f1245c9134856ec8",
   "outputs": [],
   "execution_count": 45
  },
  {
   "metadata": {
    "ExecuteTime": {
     "end_time": "2024-04-17T01:48:33.227097Z",
     "start_time": "2024-04-17T01:48:33.217973Z"
    }
   },
   "cell_type": "code",
   "source": [
    "# Constants\n",
    "Np = 500\n",
    "X = a * np.linspace(-500, 500, Np) / 1e-9         # nm\n",
    "dx = (max(X) - min(X)) / Np                       # nm\n",
    "x1 = 15                                           # nm\n",
    "x2 = -15                                          # nm\n",
    "alpha = 8e-5                                      # eV / nm^2\n",
    "F = 0.5e-3                                        # V/m\n",
    "\n",
    "t0 = (hbar * hbar) / (2 * m_dot * dx * dx) / q\n",
    "on = 2.0 * t0 * np.ones(Np)\n",
    "off = -t0 * np.ones(Np - 1)"
   ],
   "id": "fe9b73eecdf5e490",
   "outputs": [],
   "execution_count": 55
  },
  {
   "metadata": {
    "ExecuteTime": {
     "end_time": "2024-04-17T01:48:33.871466Z",
     "start_time": "2024-04-17T01:48:33.861914Z"
    }
   },
   "cell_type": "code",
   "source": [
    "@jit\n",
    "def compute_eigenvalue_eigenstates(U):\n",
    "    H = np.diag(on + U) + np.diag(off, 1) + np.diag(off, -1)\n",
    "    W, V = np.linalg.eig(H)\n",
    "    idx = W.argsort()[::1]\n",
    "    W = W[idx]\n",
    "    V = V[:, idx]\n",
    "    return W, V"
   ],
   "id": "dcfb056f5e955a1e",
   "outputs": [],
   "execution_count": 56
  },
  {
   "metadata": {
    "ExecuteTime": {
     "end_time": "2024-04-17T05:10:14.818970Z",
     "start_time": "2024-04-17T05:10:14.706656Z"
    }
   },
   "cell_type": "code",
   "source": [
    "# Finding Initial Condition\n",
    "U = np.array([VDQD(alpha, x1, x2, x) for x in X])\n",
    "W, V = compute_eigenvalue_eigenstates(U)"
   ],
   "id": "e318d0a13a59fc0a",
   "outputs": [],
   "execution_count": 60
  },
  {
   "metadata": {
    "ExecuteTime": {
     "end_time": "2024-04-17T05:10:15.673705Z",
     "start_time": "2024-04-17T05:10:15.523251Z"
    }
   },
   "cell_type": "code",
   "source": "plt.plot(X, U)",
   "id": "82be2c9bdd4bb169",
   "outputs": [
    {
     "data": {
      "text/plain": [
       "[<matplotlib.lines.Line2D at 0x7f609a3771f0>]"
      ]
     },
     "execution_count": 61,
     "metadata": {},
     "output_type": "execute_result"
    },
    {
     "data": {
      "text/plain": [
       "<Figure size 640x480 with 1 Axes>"
      ],
      "image/png": "[encoded data removed]"
     },
     "metadata": {},
     "output_type": "display_data"
    }
   ],
   "execution_count": 61
  },
  {
   "metadata": {
    "ExecuteTime": {
     "end_time": "2024-04-17T05:10:16.670312Z",
     "start_time": "2024-04-17T05:10:16.665985Z"
    }
   },
   "cell_type": "code",
   "source": [
    "omega = (W[1] - W[0]) * q / hbar\n",
    "print(f'Energy Gap is {(W[1] - W[0]) * 1e3:.2E} meV')\n",
    "print(f'Frequency of Oscillation is {omega / (2 * np.pi):.2E}')\n",
    "print(f'Period of Oscillation is {2 * np.pi / omega:.2E}')"
   ],
   "id": "9f8cf1d718c70ed5",
   "outputs": [
    {
     "name": "stdout",
     "output_type": "stream",
     "text": [
      "Energy Gap is 2.19E-16 meV\n",
      "Frequency of Oscillation is 5.30E-05\n",
      "Period of Oscillation is 1.89E+04\n"
     ]
    }
   ],
   "execution_count": 62
  },
  {
   "metadata": {
    "ExecuteTime": {
     "end_time": "2024-04-17T05:10:18.342095Z",
     "start_time": "2024-04-17T05:10:18.338009Z"
    }
   },
   "cell_type": "code",
   "source": [
    "# Constants Derived\n",
    "Nt = 250\n",
    "T = np.linspace(0, 4 * np.pi / omega, Nt)           # s (double the period)\n",
    "dt = 4 * np.pi / omega / Nt                         # s\n",
    "gamma = alpha * dt / dx ** 2                        # Check that method is valid for given value of dt and dx\n",
    "print(f'Gamma = {gamma:.2E}')"
   ],
   "id": "5777cec8cb3ced24",
   "outputs": [
    {
     "name": "stdout",
     "output_type": "stream",
     "text": [
      "Gamma = 3.02E-01\n"
     ]
    }
   ],
   "execution_count": 63
  },
  {
   "metadata": {
    "ExecuteTime": {
     "end_time": "2024-04-17T05:10:19.118080Z",
     "start_time": "2024-04-17T05:10:19.113993Z"
    }
   },
   "cell_type": "code",
   "source": [
    "@jit\n",
    "def construct_H(U):\n",
    "    t0 = (hbar * hbar) / (2 * m_dot * a * a) \n",
    "    on = 2.0 * t0 * np.ones(Np)\n",
    "    off = -t0 * np.ones(Np - 1)\n",
    "    H = np.diag(on + U) + np.diag(off, 1) + np.diag(off, -1)\n",
    "    return H "
   ],
   "id": "7761afc28a72d0fc",
   "outputs": [],
   "execution_count": 64
  },
  {
   "metadata": {
    "ExecuteTime": {
     "end_time": "2024-04-17T05:10:20.483149Z",
     "start_time": "2024-04-17T05:10:19.733443Z"
    }
   },
   "cell_type": "code",
   "source": [
    "# Set initial psi to be ground state\n",
    "psi0 = np.array(V[:, 0], dtype='complex_')\n",
    "psi = np.zeros((Nt, Np), dtype='complex_')\n",
    "H = construct_H(U * q)"
   ],
   "id": "bd47ffefb2f8dba0",
   "outputs": [],
   "execution_count": 65
  },
  {
   "metadata": {
    "ExecuteTime": {
     "end_time": "2024-04-17T05:10:20.490200Z",
     "start_time": "2024-04-17T05:10:20.485357Z"
    }
   },
   "cell_type": "code",
   "source": [
    "psi_next = psi0\n",
    "psi[0, :] = psi0"
   ],
   "id": "1fda104718dec3cd",
   "outputs": [],
   "execution_count": 66
  },
  {
   "metadata": {
    "ExecuteTime": {
     "end_time": "2024-04-17T05:10:20.836391Z",
     "start_time": "2024-04-17T05:10:20.830214Z"
    }
   },
   "cell_type": "code",
   "source": [
    "vectorized_VFT = np.vectorize(VFT)\n",
    "p0 = np.array([np.abs(psi_next @ V[:, 0]) ** 2])\n",
    "p1 = np.array([np.abs(psi_next @ V[:, 1]) ** 2])"
   ],
   "id": "7d6ec4e1b03d543b",
   "outputs": [],
   "execution_count": 67
  },
  {
   "metadata": {
    "ExecuteTime": {
     "end_time": "2024-04-17T05:18:55.902545Z",
     "start_time": "2024-04-17T05:10:21.387228Z"
    }
   },
   "cell_type": "code",
   "source": [
    "for i in range(1, Nt):\n",
    "    t = T[i]\n",
    "    U = vectorized_VFT(alpha, F, omega, x1, x2, X, t) * q\n",
    "    H_new = construct_H(U)\n",
    "    A = (1 + 1j * dt / (2 * hbar) * H_new) \n",
    "    B = (1 - 1j * dt / (2 * hbar) * H) @ psi_next\n",
    "    psi_next = np.linalg.solve(A, B)\n",
    "    _, V = np.linalg.eig(H)\n",
    "    p0 = np.append(p0, np.abs(psi_next @ V[:, 0]) ** 2) \n",
    "    p1 = np.append(p1, np.abs(psi_next @ V[:, 1]) ** 2)\n",
    "    H = H_new\n",
    "    psi[i, :] = psi_next\n",
    "    "
   ],
   "id": "17cdd1b6a32c8cc3",
   "outputs": [],
   "execution_count": 68
  },
  {
   "metadata": {
    "ExecuteTime": {
     "end_time": "2024-04-17T05:18:56.107765Z",
     "start_time": "2024-04-17T05:18:55.904321Z"
    }
   },
   "cell_type": "code",
   "source": [
    "plt.plot(T / (2 * np.pi / omega), p0, '-', label='Probability of being in state 0')\n",
    "plt.plot(T / (2 * np.pi / omega), p1, '-', label='Probability of being in state 1')"
   ],
   "id": "1f9bab9849cd7f9c",
   "outputs": [
    {
     "data": {
      "text/plain": [
       "[<matplotlib.lines.Line2D at 0x7f6099c1a9b0>]"
      ]
     },
     "execution_count": 69,
     "metadata": {},
     "output_type": "execute_result"
    },
    {
     "data": {
      "text/plain": [
       "<Figure size 640x480 with 1 Axes>"
      ],
      "image/png": "[encoded data removed]"
     },
     "metadata": {},
     "output_type": "display_data"
    }
   ],
   "execution_count": 69
  }
 ],
 "metadata": {
  "kernelspec": {
   "display_name": "Python 3",
   "language": "python",
   "name": "python3"
  },
  "language_info": {
   "codemirror_mode": {
    "name": "ipython",
    "version": 2
   },
   "file_extension": ".py",
   "mimetype": "text/x-python",
   "name": "python",
   "nbconvert_exporter": "python",
   "pygments_lexer": "ipython2",
   "version": "2.7.6"
  }
 },
 "nbformat": 4,
 "nbformat_minor": 5
}

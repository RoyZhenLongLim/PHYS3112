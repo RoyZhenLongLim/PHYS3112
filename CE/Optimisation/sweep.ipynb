{
 "cells": [
  {
   "metadata": {
    "ExecuteTime": {
     "end_time": "2024-04-25T01:36:49.785455Z",
     "start_time": "2024-04-25T01:36:49.782098Z"
    }
   },
   "cell_type": "code",
   "source": [
    "import numpy as np\n",
    "import matplotlib.pyplot as plt\n",
    "from numba import jit"
   ],
   "id": "c188cf9b680ee309",
   "outputs": [],
   "execution_count": 7
  },
  {
   "metadata": {
    "ExecuteTime": {
     "end_time": "2024-04-25T01:36:49.793344Z",
     "start_time": "2024-04-25T01:36:49.789685Z"
    }
   },
   "cell_type": "code",
   "source": [
    "# Physical Constants\n",
    "hbar = 1.055e-34      # Js\n",
    "q = 1.602e-19         # C\n",
    "m = 9.1e-31           # kg\n",
    "m_dot = 0.2 * m       # kg  \n",
    "bohr_radii = 5.29e-11 # m\n",
    "a = 1e-10             # m"
   ],
   "id": "326e89c14020e951",
   "outputs": [],
   "execution_count": 8
  },
  {
   "metadata": {
    "ExecuteTime": {
     "end_time": "2024-04-25T01:36:49.838650Z",
     "start_time": "2024-04-25T01:36:49.834259Z"
    }
   },
   "cell_type": "code",
   "source": [
    "def VDQD(alpha, x1, x2, x):\n",
    "    return alpha * min((x - x1) ** 2, (x - x2) ** 2)\n",
    "\n",
    "def VFT(alpha, F, omega, x1, x2, x, t):\n",
    "    return alpha * min((x - x1) ** 2, (x - x2) ** 2) + F * x * np.cos(omega * t)"
   ],
   "id": "47ecf744c0573f6d",
   "outputs": [],
   "execution_count": 9
  },
  {
   "metadata": {
    "ExecuteTime": {
     "end_time": "2024-04-25T01:36:49.889704Z",
     "start_time": "2024-04-25T01:36:49.870842Z"
    }
   },
   "cell_type": "code",
   "source": [
    "@jit\n",
    "def construct_H(U):\n",
    "    return np.diag(on + U) + np.diag(off, 1) + np.diag(off, -1)"
   ],
   "id": "8da17d4f161a65b7",
   "outputs": [],
   "execution_count": 10
  },
  {
   "metadata": {
    "ExecuteTime": {
     "end_time": "2024-04-25T01:36:49.905572Z",
     "start_time": "2024-04-25T01:36:49.898953Z"
    }
   },
   "cell_type": "code",
   "source": [
    "@jit\n",
    "def compute_eigenvalue_eigenstates(U):\n",
    "    H = construct_H(U)\n",
    "    W, V = np.linalg.eigh(H)\n",
    "    idx = W.argsort()[::1]\n",
    "    W = W[idx]\n",
    "    V = V[:, idx]\n",
    "    return W, V"
   ],
   "id": "99daae90c299bc73",
   "outputs": [],
   "execution_count": 11
  },
  {
   "metadata": {
    "ExecuteTime": {
     "end_time": "2024-04-25T01:36:49.921434Z",
     "start_time": "2024-04-25T01:36:49.914022Z"
    }
   },
   "cell_type": "code",
   "source": [
    "# Spatial Constants\n",
    "Np = 700\n",
    "X = a * np.linspace(-Np / 2, Np / 2, Np) / 1e-9  # nm\n",
    "dx = (X[1] - X[0]) * 1e-9\n",
    "\n",
    "t0 = hbar ** 2 / (2 * m_dot * (dx ** 2)) / q\n",
    "on = 2.0 * t0 * np.ones(Np)\n",
    "off = -t0 * np.ones(Np - 1)\n",
    "\n",
    "alpha = 2.1e-5"
   ],
   "id": "888757ef6cda9a02",
   "outputs": [],
   "execution_count": 12
  },
  {
   "metadata": {
    "ExecuteTime": {
     "end_time": "2024-04-25T01:36:49.928341Z",
     "start_time": "2024-04-25T01:36:49.924107Z"
    }
   },
   "cell_type": "code",
   "source": [
    "# Temporal Constants\n",
    "Nt = 100"
   ],
   "id": "1332a0b680edcda3",
   "outputs": [],
   "execution_count": 13
  },
  {
   "metadata": {
    "ExecuteTime": {
     "end_time": "2024-04-25T04:10:09.764392Z",
     "start_time": "2024-04-25T04:00:37.123663Z"
    }
   },
   "cell_type": "code",
   "source": [
    "index = 0\n",
    "for R in [12.5, 15, 17.5,]:\n",
    "    x1, x2 = R, -R\n",
    "    U = np.array([VDQD(alpha, x1, x2, x) for x in X])\n",
    "    W, V = compute_eigenvalue_eigenstates(U)\n",
    "    \n",
    "    omega = (W[1] - W[0]) / hbar * q\n",
    "    T = np.linspace(0, 4 * np.pi / omega, Nt)         \n",
    "    dt = T[1] - T[0]                                  \n",
    "    \n",
    "    for F in np.arange(0, 15, 0.5) * 1e-5:\n",
    "        U = np.array([VFT(alpha, F, omega, x1, x2, x, 0) for x in X])\n",
    "        W, V = compute_eigenvalue_eigenstates(U)\n",
    "\n",
    "        psi = np.array(V[:, 0], dtype=np.complex128)\n",
    "        H = construct_H(U).astype(np.complex128)\n",
    "\n",
    "        p0 = np.array([np.abs(psi @ V[:, 0])])\n",
    "        p1 = np.array([np.abs(psi @ V[:, 1])])\n",
    "\n",
    "        for i in range(1, Nt):\n",
    "            t = T[i]\n",
    "            U_new = np.array([VFT(alpha, F, omega, x1, x2, x, t) for x in X])\n",
    "            H_new = construct_H(U_new).astype(np.complex128)\n",
    "\n",
    "            A = (np.identity(Np) + 1j * dt / (2 * hbar) * H_new * q)\n",
    "            B = (np.identity(Np) - 1j * dt / (2 * hbar) * H * q) @ psi\n",
    "            psi_new = np.linalg.solve(A, B)\n",
    "\n",
    "            pr0 = np.abs(psi_new @ V[:, 0]) ** 2\n",
    "            pr1 = np.abs(psi_new @ V[:, 1]) ** 2\n",
    "\n",
    "            p0 = np.append(p0, pr0)\n",
    "            p1 = np.append(p1, pr1)\n",
    "\n",
    "            psi = psi_new\n",
    "            H = H_new\n",
    "\n",
    "        plt.figure(index)\n",
    "        plt.plot(p0)\n",
    "        plt.plot(p1)\n",
    "        index += 1\n",
    "        plt.savefig(f'R={R:.2f}+F={F}.png')\n",
    "        plt.close()\n",
    "        print(f'Did R={R:.2f}+F={F}')"
   ],
   "id": "f0de5c1a4982f224",
   "outputs": [
    {
     "name": "stdout",
     "output_type": "stream",
     "text": [
      "Did R=12.50+F=0.0\n",
      "Did R=12.50+F=5e-06\n",
      "Did R=12.50+F=1e-05\n",
      "Did R=12.50+F=1.5000000000000002e-05\n",
      "Did R=12.50+F=2e-05\n",
      "Did R=12.50+F=2.5e-05\n",
      "Did R=12.50+F=3.0000000000000004e-05\n",
      "Did R=12.50+F=3.5000000000000004e-05\n",
      "Did R=12.50+F=4e-05\n",
      "Did R=12.50+F=4.5e-05\n",
      "Did R=12.50+F=5e-05\n",
      "Did R=12.50+F=5.5e-05\n",
      "Did R=12.50+F=6.000000000000001e-05\n",
      "Did R=12.50+F=6.500000000000001e-05\n",
      "Did R=12.50+F=7.000000000000001e-05\n",
      "Did R=12.50+F=7.500000000000001e-05\n",
      "Did R=12.50+F=8e-05\n",
      "Did R=12.50+F=8.5e-05\n",
      "Did R=12.50+F=9e-05\n",
      "Did R=12.50+F=9.5e-05\n",
      "Did R=12.50+F=0.0001\n",
      "Did R=12.50+F=0.000105\n",
      "Did R=12.50+F=0.00011\n",
      "Did R=12.50+F=0.000115\n",
      "Did R=12.50+F=0.00012000000000000002\n",
      "Did R=12.50+F=0.000125\n",
      "Did R=12.50+F=0.00013000000000000002\n",
      "Did R=12.50+F=0.000135\n",
      "Did R=12.50+F=0.00014000000000000001\n",
      "Did R=12.50+F=0.000145\n",
      "Did R=15.00+F=0.0\n",
      "Did R=15.00+F=5e-06\n",
      "Did R=15.00+F=1e-05\n",
      "Did R=15.00+F=1.5000000000000002e-05\n",
      "Did R=15.00+F=2e-05\n",
      "Did R=15.00+F=2.5e-05\n",
      "Did R=15.00+F=3.0000000000000004e-05\n",
      "Did R=15.00+F=3.5000000000000004e-05\n",
      "Did R=15.00+F=4e-05\n",
      "Did R=15.00+F=4.5e-05\n",
      "Did R=15.00+F=5e-05\n",
      "Did R=15.00+F=5.5e-05\n",
      "Did R=15.00+F=6.000000000000001e-05\n",
      "Did R=15.00+F=6.500000000000001e-05\n",
      "Did R=15.00+F=7.000000000000001e-05\n",
      "Did R=15.00+F=7.500000000000001e-05\n",
      "Did R=15.00+F=8e-05\n",
      "Did R=15.00+F=8.5e-05\n",
      "Did R=15.00+F=9e-05\n",
      "Did R=15.00+F=9.5e-05\n",
      "Did R=15.00+F=0.0001\n",
      "Did R=15.00+F=0.000105\n",
      "Did R=15.00+F=0.00011\n",
      "Did R=15.00+F=0.000115\n",
      "Did R=15.00+F=0.00012000000000000002\n",
      "Did R=15.00+F=0.000125\n",
      "Did R=15.00+F=0.00013000000000000002\n",
      "Did R=15.00+F=0.000135\n",
      "Did R=15.00+F=0.00014000000000000001\n",
      "Did R=15.00+F=0.000145\n",
      "Did R=17.50+F=0.0\n",
      "Did R=17.50+F=5e-06\n",
      "Did R=17.50+F=1e-05\n",
      "Did R=17.50+F=1.5000000000000002e-05\n",
      "Did R=17.50+F=2e-05\n",
      "Did R=17.50+F=2.5e-05\n",
      "Did R=17.50+F=3.0000000000000004e-05\n",
      "Did R=17.50+F=3.5000000000000004e-05\n",
      "Did R=17.50+F=4e-05\n",
      "Did R=17.50+F=4.5e-05\n",
      "Did R=17.50+F=5e-05\n",
      "Did R=17.50+F=5.5e-05\n",
      "Did R=17.50+F=6.000000000000001e-05\n",
      "Did R=17.50+F=6.500000000000001e-05\n",
      "Did R=17.50+F=7.000000000000001e-05\n",
      "Did R=17.50+F=7.500000000000001e-05\n",
      "Did R=17.50+F=8e-05\n",
      "Did R=17.50+F=8.5e-05\n",
      "Did R=17.50+F=9e-05\n",
      "Did R=17.50+F=9.5e-05\n",
      "Did R=17.50+F=0.0001\n",
      "Did R=17.50+F=0.000105\n",
      "Did R=17.50+F=0.00011\n",
      "Did R=17.50+F=0.000115\n",
      "Did R=17.50+F=0.00012000000000000002\n",
      "Did R=17.50+F=0.000125\n",
      "Did R=17.50+F=0.00013000000000000002\n",
      "Did R=17.50+F=0.000135\n",
      "Did R=17.50+F=0.00014000000000000001\n",
      "Did R=17.50+F=0.000145\n"
     ]
    }
   ],
   "execution_count": 27
  }
 ],
 "metadata": {
  "kernelspec": {
   "display_name": "Python 3",
   "language": "python",
   "name": "python3"
  },
  "language_info": {
   "codemirror_mode": {
    "name": "ipython",
    "version": 2
   },
   "file_extension": ".py",
   "mimetype": "text/x-python",
   "name": "python",
   "nbconvert_exporter": "python",
   "pygments_lexer": "ipython2",
   "version": "2.7.6"
  }
 },
 "nbformat": 4,
 "nbformat_minor": 5
}

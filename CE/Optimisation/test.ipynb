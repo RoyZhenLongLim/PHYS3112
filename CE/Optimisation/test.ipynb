{
 "cells": [
  {
   "metadata": {
    "ExecuteTime": {
     "end_time": "2024-04-24T03:21:21.236863Z",
     "start_time": "2024-04-24T03:21:20.916138Z"
    }
   },
   "cell_type": "code",
   "source": [
    "import numpy as np\n",
    "import matplotlib.pyplot as plt\n",
    "\n",
    "# Parameters\n",
    "omega_0 = 1.0  # Transition frequency\n",
    "omega = 0.1  # Drive frequency\n",
    "delta = 0.2  # Detuning\n",
    "gamma = 0.05  # Dissipation rate\n",
    "\n",
    "# Time parameters\n",
    "T = 20  # Total time\n",
    "dt = 0.01  # Time step\n",
    "steps = int(T / dt)  # Number of steps\n",
    "\n",
    "# Pauli matrices\n",
    "sigma_x = np.array([[0, 1], [1, 0]], dtype=np.complex_)\n",
    "sigma_z = np.array([[1, 0], [0, -1]], dtype=np.complex_)\n",
    "\n",
    "# Hamiltonian\n",
    "H0 = 0.5 * omega_0 * sigma_z + 0.5 * delta * (sigma_z @ sigma_z)\n",
    "H1 = 0.5 * omega * sigma_x\n",
    "\n",
    "# Finite difference method\n",
    "U = np.zeros((2, 2, steps), dtype=np.complex_)\n",
    "U[:, :, 0] = np.eye(2)\n",
    "for i in range(1, steps):\n",
    "    H = H0 - np.sin(omega * i * dt) * H1\n",
    "    U[:, :, i] = np.eye(2) - 1j * (H * dt)\n",
    "\n",
    "# Initial state\n",
    "psi = np.array([1, 0], dtype=np.complex_)\n",
    "\n",
    "# Evolution\n",
    "state_evolution = np.zeros((2, steps), dtype=np.complex_)\n",
    "for i in range(steps):\n",
    "    state_evolution[:, i] = U[:, :, i] @ psi\n",
    "\n",
    "# Plot the results\n",
    "plt.plot(np.arange(0, T, dt), np.abs(state_evolution[0]) ** 2, label=r'$|0\\rangle$')\n",
    "plt.plot(np.arange(0, T, dt), np.abs(state_evolution[1]) ** 2, label=r'$|1\\rangle$')\n",
    "plt.xlabel('Time')\n",
    "plt.ylabel('Population')\n",
    "plt.title('Rabi Oscillations with Detuning Bias')\n",
    "plt.legend()\n",
    "plt.show()"
   ],
   "id": "d851dbfe13424e2a",
   "execution_count": 3,
   "outputs": []
  }
 ],
 "metadata": {
  "kernelspec": {
   "display_name": "Python 3",
   "language": "python",
   "name": "python3"
  },
  "language_info": {
   "codemirror_mode": {
    "name": "ipython",
    "version": 2
   },
   "file_extension": ".py",
   "mimetype": "text/x-python",
   "name": "python",
   "nbconvert_exporter": "python",
   "pygments_lexer": "ipython2",
   "version": "2.7.6"
  }
 },
 "nbformat": 4,
 "nbformat_minor": 5
}

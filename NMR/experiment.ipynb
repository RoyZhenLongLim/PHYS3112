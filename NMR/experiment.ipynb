{
 "cells": [
  {
   "cell_type": "code",
   "execution_count": null,
   "id": "initial_id",
   "metadata": {
    "collapsed": true,
    "is_executing": true
   },
   "outputs": [],
   "source": [
    "import numpy as np\n",
    "import pandas as pd"
   ]
  },
  {
   "cell_type": "markdown",
   "id": "d9808cb145f95f9f",
   "metadata": {},
   "source": [
    "# NMR"
   ]
  },
  {
   "cell_type": "code",
   "execution_count": 2,
   "id": "580a42012f47a3c7",
   "metadata": {
    "ExecuteTime": {
     "end_time": "2024-03-29T08:28:00.220565Z",
     "start_time": "2024-03-29T08:28:00.216333Z"
    }
   },
   "outputs": [],
   "source": [
    "g = 2\n",
    "e = 1.602e-19\n",
    "hbar = 6.626e-34 / (2 * np.pi)\n",
    "me = 9.109e-31\n",
    "mp = 1.673e-27\n",
    "bohr_magneton = e * hbar / (2 * me)\n",
    "nuclear_magneton = e * hbar / (2 * mp)\n",
    "gauss = 1e-4 # T"
   ]
  },
  {
   "cell_type": "code",
   "execution_count": 3,
   "id": "35a3c9ba5efe55da",
   "metadata": {
    "ExecuteTime": {
     "end_time": "2024-03-29T08:28:00.228979Z",
     "start_time": "2024-03-29T08:28:00.222186Z"
    }
   },
   "outputs": [],
   "source": [
    "# In Nuclear Magnetron\n",
    "mup = 2.79277 \n",
    "muf = 2.28321 "
   ]
  },
  {
   "cell_type": "code",
   "execution_count": 5,
   "id": "9c8d1dd517824c35",
   "metadata": {
    "ExecuteTime": {
     "end_time": "2024-03-29T08:28:00.246378Z",
     "start_time": "2024-03-29T08:28:00.242139Z"
    }
   },
   "outputs": [],
   "source": [
    "# B in Gauss\n",
    "# f in Hz\n",
    "# mu_thy is in Nuclear Magnetron\n",
    "nmr = pd.DataFrame({\n",
    "    'Sample': ['Water', 'Teflon', 'Acrylic'],\n",
    "    'f': [14e6, 14e6, 13581e3],\n",
    "    'B': [3284.82 - 2.20, 3374.88 + 6.70, 3274.72 + 4.10],\n",
    "    'dB': [1.70 / 2, 3.60 / 2, 7.20 / 2],\n",
    "    'mu_thy': [mup, mup, muf]\n",
    "})"
   ]
  },
  {
   "cell_type": "code",
   "execution_count": 6,
   "id": "f8170bcb39d6615b",
   "metadata": {
    "ExecuteTime": {
     "end_time": "2024-03-29T08:28:00.257435Z",
     "start_time": "2024-03-29T08:28:00.247747Z"
    }
   },
   "outputs": [],
   "source": [
    "nmr['mu_exp'] = (2 * np.pi * nmr.f * hbar) / (g * nmr.B * gauss) / nuclear_magneton\n",
    "nmr['dmu_exp'] = (2 * np.pi * nmr.f * hbar) / g * (nmr.dB * gauss) / (nmr.B * gauss) ** 2 / nuclear_magneton"
   ]
  },
  {
   "cell_type": "code",
   "execution_count": 7,
   "id": "4a73841ee9dfaa0d",
   "metadata": {
    "ExecuteTime": {
     "end_time": "2024-03-29T08:28:00.273512Z",
     "start_time": "2024-03-29T08:28:00.259559Z"
    }
   },
   "outputs": [
    {
     "data": {
      "text/html": [
       "<div>\n",
       "<style scoped>\n",
       "    .dataframe tbody tr th:only-of-type {\n",
       "        vertical-align: middle;\n",
       "    }\n",
       "\n",
       "    .dataframe tbody tr th {\n",
       "        vertical-align: top;\n",
       "    }\n",
       "\n",
       "    .dataframe thead th {\n",
       "        text-align: right;\n",
       "    }\n",
       "</style>\n",
       "<table border=\"1\" class=\"dataframe\">\n",
       "  <thead>\n",
       "    <tr style=\"text-align: right;\">\n",
       "      <th></th>\n",
       "      <th>Sample</th>\n",
       "      <th>f</th>\n",
       "      <th>B</th>\n",
       "      <th>dB</th>\n",
       "      <th>mu_thy</th>\n",
       "      <th>mu_exp</th>\n",
       "      <th>dmu_exp</th>\n",
       "    </tr>\n",
       "  </thead>\n",
       "  <tbody>\n",
       "    <tr>\n",
       "      <th>0</th>\n",
       "      <td>Water</td>\n",
       "      <td>14000000.0</td>\n",
       "      <td>3282.62</td>\n",
       "      <td>0.85</td>\n",
       "      <td>2.79277</td>\n",
       "      <td>2.798470</td>\n",
       "      <td>0.000725</td>\n",
       "    </tr>\n",
       "    <tr>\n",
       "      <th>1</th>\n",
       "      <td>Teflon</td>\n",
       "      <td>14000000.0</td>\n",
       "      <td>3381.58</td>\n",
       "      <td>1.80</td>\n",
       "      <td>2.79277</td>\n",
       "      <td>2.716575</td>\n",
       "      <td>0.001446</td>\n",
       "    </tr>\n",
       "    <tr>\n",
       "      <th>2</th>\n",
       "      <td>Acrylic</td>\n",
       "      <td>13581000.0</td>\n",
       "      <td>3278.82</td>\n",
       "      <td>3.60</td>\n",
       "      <td>2.28321</td>\n",
       "      <td>2.717862</td>\n",
       "      <td>0.002984</td>\n",
       "    </tr>\n",
       "  </tbody>\n",
       "</table>\n",
       "</div>"
      ],
      "text/plain": [
       "    Sample           f        B    dB   mu_thy    mu_exp   dmu_exp\n",
       "0    Water  14000000.0  3282.62  0.85  2.79277  2.798470  0.000725\n",
       "1   Teflon  14000000.0  3381.58  1.80  2.79277  2.716575  0.001446\n",
       "2  Acrylic  13581000.0  3278.82  3.60  2.28321  2.717862  0.002984"
      ]
     },
     "execution_count": 7,
     "metadata": {},
     "output_type": "execute_result"
    }
   ],
   "source": [
    "nmr"
   ]
  },
  {
   "cell_type": "code",
   "execution_count": 8,
   "id": "b628b8680a288e49",
   "metadata": {
    "ExecuteTime": {
     "end_time": "2024-03-29T08:28:00.691072Z",
     "start_time": "2024-03-29T08:28:00.274918Z"
    }
   },
   "outputs": [
    {
     "name": "stdout",
     "output_type": "stream",
     "text": [
      "\\begin{tabular}{|c|c|c|c|c|c|c|c|}\n",
      "\\hline\n",
      "Sample & $f (MHz)$ & $B (G)$ & $\\Delta B (G)$ & $\\mu_{thy} (\\mu_N)$ & $\\mu_{exp} (\\mu_N)$ & $\\Delta \\mu_{exp} (\\mu_N)$ \\\\\n",
      "\\hline\n",
      "Water & 14.0000 & 3282.6200 & 0.8500 & 2.7928 & 2.7985 & 0.0007 \\\\\n",
      "Teflon & 14.0000 & 3381.5800 & 1.8000 & 2.7928 & 2.7166 & 0.0014 \\\\\n",
      "Acrylic & 13.5810 & 3278.8200 & 3.6000 & 2.2832 & 2.7179 & 0.0030 \\\\\n",
      "\\hline\n",
      "\\end{tabular}\n"
     ]
    }
   ],
   "source": [
    "latex_nmr = nmr.copy()\n",
    "latex_nmr.f = latex_nmr.f / 1e6\n",
    "columns = ['Sample', r'$f (MHz)$', r'$B (G)$', r'$\\Delta B (G)$', r'$\\mu_{thy} (\\mu_N)$', r'$\\mu_{exp} (\\mu_N)$', r'$\\Delta \\mu_{exp} (\\mu_N)$']\n",
    "latex_nmr.columns = columns\n",
    "\n",
    "latex_nmr = latex_nmr.to_latex(index=False, column_format='|c|c|c|c|c|c|c|c|', float_format='{:.4f}'.format)\n",
    "for old, new in [\n",
    "    (r'\\toprule', r'\\hline'),\n",
    "    (r'\\midrule', r'\\hline'),\n",
    "    (r'\\bottomrule', r'\\hline')\n",
    "]: latex_nmr = latex_nmr.replace(old, new)\n",
    "print(latex_nmr)"
   ]
  },
  {
   "cell_type": "markdown",
   "id": "9a15d68c55d7f24f",
   "metadata": {},
   "source": [
    "# ESR"
   ]
  },
  {
   "cell_type": "code",
   "execution_count": 11,
   "id": "77ff4e88ae192a6d",
   "metadata": {
    "ExecuteTime": {
     "end_time": "2024-03-29T08:28:14.223569Z",
     "start_time": "2024-03-29T08:28:14.219256Z"
    }
   },
   "outputs": [],
   "source": [
    "esr = pd.DataFrame({\n",
    "    'Sample': ['TCNQ'],\n",
    "    'f': [50000e3],\n",
    "    'B': [18 + - 0.14],\n",
    "    'dB': [0.31 / 2],\n",
    "    'mu_thy': [1]\n",
    "})"
   ]
  },
  {
   "cell_type": "code",
   "execution_count": 14,
   "id": "189105933eb94a3e",
   "metadata": {
    "ExecuteTime": {
     "end_time": "2024-03-29T08:28:39.459325Z",
     "start_time": "2024-03-29T08:28:39.444405Z"
    }
   },
   "outputs": [],
   "source": [
    "esr['mu_exp'] = (2 * np.pi * esr.f * hbar) / (g * esr.B * gauss) / bohr_magneton\n",
    "esr['dmu_exp'] = (2 * np.pi * esr.f * hbar) / g * (esr.dB * gauss) / (esr.B * gauss) ** 2 / bohr_magneton"
   ]
  },
  {
   "cell_type": "code",
   "execution_count": 15,
   "id": "1e5fb86d8bde84f",
   "metadata": {
    "ExecuteTime": {
     "end_time": "2024-03-29T08:28:40.265853Z",
     "start_time": "2024-03-29T08:28:40.253632Z"
    }
   },
   "outputs": [
    {
     "data": {
      "text/html": [
       "<div>\n",
       "<style scoped>\n",
       "    .dataframe tbody tr th:only-of-type {\n",
       "        vertical-align: middle;\n",
       "    }\n",
       "\n",
       "    .dataframe tbody tr th {\n",
       "        vertical-align: top;\n",
       "    }\n",
       "\n",
       "    .dataframe thead th {\n",
       "        text-align: right;\n",
       "    }\n",
       "</style>\n",
       "<table border=\"1\" class=\"dataframe\">\n",
       "  <thead>\n",
       "    <tr style=\"text-align: right;\">\n",
       "      <th></th>\n",
       "      <th>Sample</th>\n",
       "      <th>f</th>\n",
       "      <th>B</th>\n",
       "      <th>dB</th>\n",
       "      <th>mu_thy</th>\n",
       "      <th>mu_exp</th>\n",
       "      <th>dmu_exp</th>\n",
       "    </tr>\n",
       "  </thead>\n",
       "  <tbody>\n",
       "    <tr>\n",
       "      <th>0</th>\n",
       "      <td>TCNQ</td>\n",
       "      <td>50000000.0</td>\n",
       "      <td>17.86</td>\n",
       "      <td>0.155</td>\n",
       "      <td>1</td>\n",
       "      <td>1.000176</td>\n",
       "      <td>0.00868</td>\n",
       "    </tr>\n",
       "  </tbody>\n",
       "</table>\n",
       "</div>"
      ],
      "text/plain": [
       "  Sample           f      B     dB  mu_thy    mu_exp  dmu_exp\n",
       "0   TCNQ  50000000.0  17.86  0.155       1  1.000176  0.00868"
      ]
     },
     "execution_count": 15,
     "metadata": {},
     "output_type": "execute_result"
    }
   ],
   "source": [
    "esr"
   ]
  },
  {
   "cell_type": "code",
   "execution_count": 16,
   "id": "9645deed0d652c88",
   "metadata": {
    "ExecuteTime": {
     "end_time": "2024-03-29T08:28:43.649224Z",
     "start_time": "2024-03-29T08:28:43.637819Z"
    }
   },
   "outputs": [
    {
     "name": "stdout",
     "output_type": "stream",
     "text": [
      "\\begin{tabular}{|c|c|c|c|c|c|c|c|}\n",
      "\\hline\n",
      "Sample & $f (MHz)$ & $B (G)$ & $\\Delta B (G)$ & $\\mu_{thy} (\\mu_N)$ & $\\mu_{exp} (\\mu_N)$ & $\\Delta \\mu_{exp} (\\mu_N)$ \\\\\n",
      "\\hline\n",
      "TCNQ & 50.0000 & 17.8600 & 0.1550 & 1 & 1.0002 & 0.0087 \\\\\n",
      "\\hline\n",
      "\\end{tabular}\n"
     ]
    }
   ],
   "source": [
    "latex_esr = esr.copy()\n",
    "latex_esr.f = latex_esr.f / 1e6\n",
    "columns = ['Sample', r'$f (MHz)$', r'$B (G)$', r'$\\Delta B (G)$', r'$\\mu_{thy} (\\mu_N)$', r'$\\mu_{exp} (\\mu_N)$',\n",
    "           r'$\\Delta \\mu_{exp} (\\mu_N)$']\n",
    "latex_esr.columns = columns\n",
    "\n",
    "latex_esr = latex_esr.to_latex(index=False, column_format='|c|c|c|c|c|c|c|c|', float_format='{:.4f}'.format)\n",
    "for old, new in [\n",
    "    (r'\\toprule', r'\\hline'),\n",
    "    (r'\\midrule', r'\\hline'),\n",
    "    (r'\\bottomrule', r'\\hline')\n",
    "]: latex_esr = latex_esr.replace(old, new)\n",
    "\n",
    "print(latex_esr)"
   ]
  },
  {
   "cell_type": "markdown",
   "id": "79415f06ebad2af",
   "metadata": {},
   "source": [
    "# Earths Magnetic Field"
   ]
  },
  {
   "cell_type": "code",
   "execution_count": 21,
   "id": "a95b8ae0092a5da5",
   "metadata": {
    "ExecuteTime": {
     "end_time": "2024-03-29T08:37:29.695115Z",
     "start_time": "2024-03-29T08:37:29.686106Z"
    }
   },
   "outputs": [
    {
     "name": "stdout",
     "output_type": "stream",
     "text": [
      "\\begin{tabular}{|c|c|c|}\n",
      "\\hline\n",
      "Direction & $B (G)$ & $\\Delta B (G)$ \\\\\n",
      "\\hline\n",
      "S-N & 0.19 & 0.15 \\\\\n",
      "E-W & 0.04 & 0.17 \\\\\n",
      "N-S & -0.20 & 0.12 \\\\\n",
      "W-E & -0.38 & 0.17 \\\\\n",
      "\\hline\n",
      "\\end{tabular}\n"
     ]
    }
   ],
   "source": [
    "bfield = pd.DataFrame({\n",
    "    'Direction': ['S-N', 'E-W', 'N-S', 'W-E'],\n",
    "    'B': [0.19, 0.04, -0.20, -0.38],\n",
    "    'dB': [0.15, 0.165, 0.12, 0.17]\n",
    "})\n",
    "columns = ['Direction', r'$B (G)$', r'$\\Delta B (G)$']\n",
    "latex_b = bfield.copy()\n",
    "latex_b.columns = columns\n",
    "latex_b = latex_b.to_latex(index=False, column_format='|c|c|c|', float_format='{:.2f}'.format)\n",
    "for old, new in [\n",
    "    (r'\\toprule', r'\\hline'),\n",
    "    (r'\\midrule', r'\\hline'),\n",
    "    (r'\\bottomrule', r'\\hline')\n",
    "]: latex_b = latex_b.replace(old, new)\n",
    "print(latex_b)\n"
   ]
  },
  {
   "cell_type": "code",
   "execution_count": 19,
   "id": "d932d5cb2c7da408",
   "metadata": {
    "ExecuteTime": {
     "end_time": "2024-03-29T08:34:06.629399Z",
     "start_time": "2024-03-29T08:34:06.623311Z"
    }
   },
   "outputs": [
    {
     "data": {
      "text/plain": [
       "0.39"
      ]
     },
     "execution_count": 19,
     "metadata": {},
     "output_type": "execute_result"
    }
   ],
   "source": [
    "earths_field = bfield.B[0] - bfield.B[2]\n",
    "earths_field"
   ]
  },
  {
   "cell_type": "code",
   "execution_count": 24,
   "id": "ccfce8ef43910976",
   "metadata": {
    "ExecuteTime": {
     "end_time": "2024-03-29T08:38:58.508370Z",
     "start_time": "2024-03-29T08:38:58.502247Z"
    }
   },
   "outputs": [
    {
     "data": {
      "text/plain": [
       "0.27"
      ]
     },
     "execution_count": 24,
     "metadata": {},
     "output_type": "execute_result"
    }
   ],
   "source": [
    "dearths_field = abs(bfield.dB[0]) + abs(bfield.dB[2])\n",
    "dearths_field"
   ]
  }
 ],
 "metadata": {
  "kernelspec": {
   "display_name": "Python 3 (ipykernel)",
   "language": "python",
   "name": "python3"
  },
  "language_info": {
   "codemirror_mode": {
    "name": "ipython",
    "version": 3
   },
   "file_extension": ".py",
   "mimetype": "text/x-python",
   "name": "python",
   "nbconvert_exporter": "python",
   "pygments_lexer": "ipython3",
   "version": "3.10.12"
  }
 },
 "nbformat": 4,
 "nbformat_minor": 5
}

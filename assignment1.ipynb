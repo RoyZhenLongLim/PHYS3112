{
 "cells": [
  {
   "cell_type": "markdown",
   "metadata": {
    "collapsed": true
   },
   "source": [
    "# Assignment 1\n",
    "\n",
    "The purpose of this assignment - worth 10% of your mark for PHYS3112 - is to use a computer to explore the physics of coupled pendula.\n",
    "\n",
    "The assignment must be presented as a Jupyter notebook, named z1234567.ipynb (where you replace 1234567 with your student number) and attached to an email to Michael Ashley m.ashley@unsw.edu.au *by midnight on Friday 19 March*, with the exact subject `PHYS3112 assignment`. If absolutely necessary, you can put supplemental files in a zipped archive.\n",
    "\n",
    "Please execute all the cells in your notebook before emailing it (so that the output from programs will appear). Your work should be able to be judged from the ipynb file itself, without having to run the code.\n",
    "\n",
    "OK, on to the assignment itself...\n",
    "\n",
    "### The assignment\n",
    "\n",
    "*Important note:* the equations do not always render correctly using the github website, so you must download the assignment to your computer and display it locally while running the Jupyter notebook.\n",
    "\n",
    "In the case of two pendula, with symbols defined as per the lab notes, we have to solve two coupled 2nd order ODEs (please check these to make sure they are right, at one stage there was an error in the laboratory notes):\n",
    "\n",
    "$$\\begin{align}\n",
    "mL^2\\ddot{\\phi_1}+mgL\\phi_1&=-kl^2(\\phi_1-\\phi_2)\\\\\n",
    "mL^2\\ddot{\\phi_2}+mgL\\phi_2&=+kl^2(\\phi_1-\\phi_2)\n",
    "\\end{align}$$\n",
    "\n",
    "Your first task is to write these as four coupled 1st order ODEs, involving four dependent variables, using the techniques that we learned in lectures. Next, in preparation for calling `scipy.integrate.odeint`, write a function to take these four dependent variables, and return their derivatives. Next, solve the ODEs using `odeint` and plot the behaviour.\n",
    "\n",
    "Verify the correctness of your program by comparing it with your lab results.\n",
    "\n",
    "The rest of the assignment is up to you. The basic idea is to produce a logically arranged notebook that explores coupled pendula. You can achieve a passing mark by doing little more than what is described above, but to do better you will have to go beyond the basics. How you do that is up to you! This is designed to mimic how science is done: when you write a scientific paper you aren't answering someone else's questions, you are coming up with your own questions and answering them. You might like to arrange your notebook with headings such as abstract, introduction, results, discussion, conclusion, bibliography, etc. But this is just one possibility. In general, a notebook that has a few slabs of explanatory text will score more highly than one that only consists of code. The quality of your code (correctness, commenting, logical layout, etc) is also important.\n",
    "\n",
    "Good luck!\n",
    "\n",
    "\n"
   ]
  },
  {
   "cell_type": "code",
   "execution_count": null,
   "metadata": {
    "collapsed": true
   },
   "outputs": [],
   "source": []
  }
 ],
 "metadata": {
  "anaconda-cloud": {},
  "kernelspec": {
   "display_name": "Python 3",
   "language": "python",
   "name": "python3"
  },
  "language_info": {
   "codemirror_mode": {
    "name": "ipython",
    "version": 3
   },
   "file_extension": ".py",
   "mimetype": "text/x-python",
   "name": "python",
   "nbconvert_exporter": "python",
   "pygments_lexer": "ipython3",
   "version": "3.8.5"
  }
 },
 "nbformat": 4,
 "nbformat_minor": 1
}

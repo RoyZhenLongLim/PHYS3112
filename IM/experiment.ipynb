{
 "cells": [
  {
   "cell_type": "code",
   "execution_count": 1,
   "id": "initial_id",
   "metadata": {
    "collapsed": true,
    "ExecuteTime": {
     "end_time": "2024-02-27T04:12:20.825951Z",
     "start_time": "2024-02-27T04:12:19.498903Z"
    }
   },
   "outputs": [],
   "source": [
    "import Ising_model as model"
   ]
  },
  {
   "cell_type": "markdown",
   "source": [
    "# Experiment 1"
   ],
   "metadata": {
    "collapsed": false
   },
   "id": "a81015409a880d5c"
  },
  {
   "cell_type": "markdown",
   "source": [
    "# Experiment 2"
   ],
   "metadata": {
    "collapsed": false
   },
   "id": "fc22d875211828ab"
  },
  {
   "cell_type": "markdown",
   "source": [
    "# Experiment 3"
   ],
   "metadata": {
    "collapsed": false
   },
   "id": "f01acf54f5358add"
  },
  {
   "cell_type": "markdown",
   "source": [
    "# Experiment 4"
   ],
   "metadata": {
    "collapsed": false
   },
   "id": "90e4d97e31cb0067"
  }
 ],
 "metadata": {
  "kernelspec": {
   "display_name": "Python 3",
   "language": "python",
   "name": "python3"
  },
  "language_info": {
   "codemirror_mode": {
    "name": "ipython",
    "version": 2
   },
   "file_extension": ".py",
   "mimetype": "text/x-python",
   "name": "python",
   "nbconvert_exporter": "python",
   "pygments_lexer": "ipython2",
   "version": "2.7.6"
  }
 },
 "nbformat": 4,
 "nbformat_minor": 5
}

{
 "cells": [
  {
   "cell_type": "markdown",
   "source": [
    "# Experiment 3\n",
    "All units are in mm"
   ],
   "metadata": {
    "collapsed": false
   },
   "id": "491d2bbf876377d5"
  },
  {
   "cell_type": "code",
   "outputs": [],
   "source": [
    "import numpy as np"
   ],
   "metadata": {
    "collapsed": false
   },
   "id": "1af13f791cb1ed86",
   "execution_count": 1
  },
  {
   "cell_type": "code",
   "outputs": [],
   "source": [
    "unit_to_mm = 49.3 / 21.5"
   ],
   "metadata": {
    "collapsed": false
   },
   "id": "7708462807cf79f7",
   "execution_count": 2
  },
  {
   "cell_type": "code",
   "outputs": [],
   "source": [
    "yz = [\n",
    "    (3.1, 7.3),\n",
    "    (1.3, 4.2),\n",
    "    (6.7, 3.5),\n",
    "    (4.5, 1.5)\n",
    "]"
   ],
   "metadata": {
    "collapsed": false
   },
   "id": "f818c5d5b1d23749",
   "execution_count": 3
  },
  {
   "cell_type": "code",
   "outputs": [
    {
     "name": "stdout",
     "output_type": "stream",
     "text": [
      "0.4246575342465754\n",
      "0.30952380952380953\n",
      "1.9142857142857144\n",
      "3.0\n"
     ]
    }
   ],
   "source": [
    "for y, z in yz:\n",
    "    print(y / z)"
   ],
   "metadata": {
    "collapsed": false
   },
   "id": "1d56b4618e4f42f4",
   "execution_count": 11
  },
  {
   "cell_type": "code",
   "outputs": [],
   "source": [
    "# Uncertainty = 1/2 lowest increment of graduation\n",
    "uncertainty = 0.5 * unit_to_mm"
   ],
   "metadata": {
    "collapsed": false
   },
   "id": "892664d68d187e58",
   "execution_count": 4
  },
  {
   "cell_type": "code",
   "outputs": [],
   "source": [
    "D = 20"
   ],
   "metadata": {
    "collapsed": false
   },
   "id": "8461d56c097c7ed2",
   "execution_count": 5
  },
  {
   "cell_type": "code",
   "outputs": [],
   "source": [
    "def compute_delta_angle(y, z):\n",
    "    return np.sqrt(\n",
    "        uncertainty * 1/2 * (y / np.sqrt(y ** 2 + z ** 2)) / (1 + (y ** 2 + z ** 2) / D ** 2) + \n",
    "        uncertainty * 1/2 * (z / np.sqrt(y ** 2 + z ** 2)) / (1 + (y ** 2 + z ** 2) / D ** 2)\n",
    "    )"
   ],
   "metadata": {
    "collapsed": false
   },
   "id": "2b1f5cb31f817e85",
   "execution_count": 6
  },
  {
   "cell_type": "code",
   "outputs": [
    {
     "name": "stdout",
     "output_type": "stream",
     "text": [
      "32.70+-0.81\n",
      "15.13+-0.83\n",
      "30.04+-0.82\n",
      "16.47+-0.83\n"
     ]
    }
   ],
   "source": [
    "angles = []\n",
    "\n",
    "for point, (y, z) in zip(['A', 'B', 'C', 'D'], yz):\n",
    "    deg = np.degrees(1/2 * np.arcsin(np.sqrt(y ** 2 + z ** 2) * unit_to_mm / D))\n",
    "    delta_deg = compute_delta_angle(y, z)\n",
    "    print(f\"{deg:.2f}+-{delta_deg:.2f}\")\n",
    "    angles.append(\n",
    "        (point, deg, delta_deg)\n",
    "    )"
   ],
   "metadata": {
    "collapsed": false
   },
   "id": "48777a0cdfe1e345",
   "execution_count": 7
  },
  {
   "cell_type": "code",
   "outputs": [
    {
     "name": "stderr",
     "output_type": "stream",
     "text": [
      "/tmp/ipykernel_133704/3315925370.py:7: RuntimeWarning: invalid value encountered in double_scalars\n",
      "  f\"{h, k, l}\", np.degrees(np.sin(h / np.sqrt(h ** 2 + k ** 2 + l ** 2)))\n"
     ]
    }
   ],
   "source": [
    "degree_expected = []\n",
    "for h in range(4):\n",
    "    for k in range(4):\n",
    "        for l in range(4):\n",
    "            degree_expected.append(\n",
    "                (\n",
    "                    f\"{h, k, l}\", np.degrees(np.sin(h / np.sqrt(h ** 2 + k ** 2 + l ** 2))) \n",
    "                )\n",
    "            )"
   ],
   "metadata": {
    "collapsed": false
   },
   "id": "967bce7138e35d80",
   "execution_count": 8
  },
  {
   "cell_type": "code",
   "outputs": [],
   "source": [
    "def find_similar_planes(degree, delta_degree):\n",
    "    similar = []\n",
    "    for plane, theoretical_degree in degree_expected:\n",
    "        # This should theoretical be best if we could find the uncertainty but not sure if there is an easy way of doing this :(\n",
    "        if abs(degree - theoretical_degree) < delta_degree:\n",
    "            similar.append((plane, theoretical_degree))\n",
    "    return similar"
   ],
   "metadata": {
    "collapsed": false
   },
   "id": "a8d4d04f36e29d52",
   "execution_count": 9
  },
  {
   "cell_type": "code",
   "outputs": [
    {
     "name": "stdout",
     "output_type": "stream",
     "text": [
      "A\n",
      "[]\n",
      "B\n",
      "[('(1, 2, 3)', 15.131294224366904), ('(1, 3, 2)', 15.131294224366904)]\n",
      "C\n",
      "[('(2, 0, 3)', 30.177026630572893), ('(2, 3, 0)', 30.177026630572893)]\n",
      "D\n",
      "[('(1, 1, 3)', 17.014767321817022), ('(1, 3, 1)', 17.014767321817022)]\n"
     ]
    }
   ],
   "source": [
    "for point, deg, delta in angles:\n",
    "    print(point)\n",
    "    print(find_similar_planes(deg, delta))"
   ],
   "metadata": {
    "collapsed": false
   },
   "id": "379129f9a9b7a208",
   "execution_count": 10
  }
 ],
 "metadata": {
  "kernelspec": {
   "display_name": "Python 3",
   "language": "python",
   "name": "python3"
  },
  "language_info": {
   "codemirror_mode": {
    "name": "ipython",
    "version": 2
   },
   "file_extension": ".py",
   "mimetype": "text/x-python",
   "name": "python",
   "nbconvert_exporter": "python",
   "pygments_lexer": "ipython2",
   "version": "2.7.6"
  }
 },
 "nbformat": 4,
 "nbformat_minor": 5
}

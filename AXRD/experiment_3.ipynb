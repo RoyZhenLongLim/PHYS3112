{
 "cells": [
  {
   "cell_type": "markdown",
   "id": "73e8ac5496b5d723",
   "metadata": {},
   "source": [
    "    # Experiment 3\n",
    "All units are in mm"
   ]
  },
  {
   "cell_type": "code",
   "execution_count": 47,
   "id": "a5220c37109a096",
   "metadata": {
    "ExecuteTime": {
     "end_time": "2024-03-30T04:11:51.885586Z",
     "start_time": "2024-03-30T04:11:51.882411Z"
    }
   },
   "outputs": [],
   "source": [
    "import numpy as np\n",
    "import pandas as pd"
   ]
  },
  {
   "cell_type": "code",
   "execution_count": 26,
   "id": "40edd32819a33964",
   "metadata": {
    "ExecuteTime": {
     "end_time": "2024-03-30T03:23:54.533308Z",
     "start_time": "2024-03-30T03:23:54.530236Z"
    }
   },
   "outputs": [],
   "source": [
    "a = 4.04e-10"
   ]
  },
  {
   "cell_type": "code",
   "execution_count": 27,
   "id": "7fd5415bfea8f344",
   "metadata": {
    "ExecuteTime": {
     "end_time": "2024-03-30T03:23:54.578799Z",
     "start_time": "2024-03-30T03:23:54.575967Z"
    }
   },
   "outputs": [],
   "source": [
    "D = 20 # mm\n",
    "dD = 1 # mm"
   ]
  },
  {
   "cell_type": "code",
   "execution_count": 28,
   "id": "24e341232aaef8f9",
   "metadata": {
    "ExecuteTime": {
     "end_time": "2024-03-30T03:23:54.626469Z",
     "start_time": "2024-03-30T03:23:54.622890Z"
    }
   },
   "outputs": [],
   "source": [
    "# Converts arbitrary units into mm\n",
    "ratio = 49.3 / 6.78 "
   ]
  },
  {
   "cell_type": "code",
   "execution_count": 29,
   "id": "cd61a0ccf6e3dc2",
   "metadata": {
    "ExecuteTime": {
     "end_time": "2024-03-30T03:23:54.666066Z",
     "start_time": "2024-03-30T03:23:54.662819Z"
    }
   },
   "outputs": [],
   "source": [
    "dy = 2\n",
    "dz = 2.5"
   ]
  },
  {
   "cell_type": "code",
   "execution_count": 30,
   "id": "44795d3653eaf8db",
   "metadata": {
    "ExecuteTime": {
     "end_time": "2024-03-30T03:23:54.675167Z",
     "start_time": "2024-03-30T03:23:54.667956Z"
    }
   },
   "outputs": [],
   "source": [
    "# Not all measurements have an additional uncertainty of the centre point\n",
    "# Measurement y dy z dz \n",
    "measurements = [\n",
    "    ('A', 0.1, 0.05, 2.35, 0.1,),\n",
    "    ('B', 0.6, 0.2, 2.25, 0.1,),\n",
    "    ('C', 1.4, 0.2,  2.9, 0.1,),\n",
    "    ('D', 1.1, 0.2, 1.3, 0.2, ),\n",
    "    ('E', 1.8, 0.15, 2.05, 0.1),\n",
    "]"
   ]
  },
  {
   "cell_type": "code",
   "execution_count": 31,
   "id": "f73c8f26300ffa2f",
   "metadata": {
    "ExecuteTime": {
     "end_time": "2024-03-30T03:23:54.708098Z",
     "start_time": "2024-03-30T03:23:54.702006Z"
    }
   },
   "outputs": [],
   "source": [
    "columns = ['Point', 'y', 'dy', 'z', 'dz']\n",
    "laue = pd.DataFrame(measurements, columns=columns) "
   ]
  },
  {
   "cell_type": "code",
   "execution_count": 32,
   "id": "69bba92bfb54bf39",
   "metadata": {
    "ExecuteTime": {
     "end_time": "2024-03-30T03:23:54.721909Z",
     "start_time": "2024-03-30T03:23:54.715661Z"
    }
   },
   "outputs": [],
   "source": [
    "laue = laue.applymap(lambda x: x * ratio if not isinstance(x, str) else x)"
   ]
  },
  {
   "cell_type": "code",
   "execution_count": 33,
   "id": "37d79dc2b576d05a",
   "metadata": {
    "ExecuteTime": {
     "end_time": "2024-03-30T03:23:54.757692Z",
     "start_time": "2024-03-30T03:23:54.752198Z"
    }
   },
   "outputs": [],
   "source": [
    "laue['yz'] = laue.y / laue.z"
   ]
  },
  {
   "cell_type": "code",
   "execution_count": 34,
   "id": "e295ddeca261b17c",
   "metadata": {
    "ExecuteTime": {
     "end_time": "2024-03-30T03:23:54.790263Z",
     "start_time": "2024-03-30T03:23:54.783151Z"
    }
   },
   "outputs": [],
   "source": [
    "laue['dyz'] = laue.yz * ((laue.dy + dy) / laue.y + (laue.dz + dz) / laue.z)"
   ]
  },
  {
   "cell_type": "code",
   "execution_count": 35,
   "id": "fd40c7a64e042d04",
   "metadata": {
    "ExecuteTime": {
     "end_time": "2024-03-30T03:23:54.814065Z",
     "start_time": "2024-03-30T03:23:54.807190Z"
    }
   },
   "outputs": [],
   "source": [
    "laue['theta_exp'] = 1/2 * np.degrees(np.arctan(np.sqrt(laue.y ** 2 + laue.z ** 2) / D))"
   ]
  },
  {
   "cell_type": "code",
   "execution_count": 36,
   "id": "13b577166ed5316a",
   "metadata": {
    "ExecuteTime": {
     "end_time": "2024-03-30T03:23:54.843896Z",
     "start_time": "2024-03-30T03:23:54.836423Z"
    }
   },
   "outputs": [],
   "source": [
    "laue['dtheta_exp'] = 1/4 * np.degrees(\n",
    "    abs(\n",
    "        (np.sqrt((laue.y + laue.dy + dy) ** 2 + (laue.z + laue.dz + dz) ** 2) / (D - dD)) - (np.sqrt((laue.y - laue.dy - dy) ** 2 + (laue.z - laue.dz - dz) ** 2) / (D + dD))\n",
    "    )\n",
    ")"
   ]
  },
  {
   "cell_type": "code",
   "execution_count": 37,
   "id": "87f6b04e1d7f3aac",
   "metadata": {
    "ExecuteTime": {
     "end_time": "2024-03-30T03:23:54.869832Z",
     "start_time": "2024-03-30T03:23:54.864151Z"
    }
   },
   "outputs": [
    {
     "data": {
      "text/plain": [
       "0    0.042553\n",
       "1    0.266667\n",
       "2    0.482759\n",
       "3    0.846154\n",
       "4    0.878049\n",
       "Name: yz, dtype: float64"
      ]
     },
     "execution_count": 37,
     "metadata": {},
     "output_type": "execute_result"
    }
   ],
   "source": [
    "laue.yz"
   ]
  },
  {
   "cell_type": "code",
   "execution_count": 38,
   "id": "eb7c4d6263e49152",
   "metadata": {
    "ExecuteTime": {
     "end_time": "2024-03-30T03:23:54.914886Z",
     "start_time": "2024-03-30T03:23:54.911Z"
    }
   },
   "outputs": [],
   "source": [
    "laue['kl'] = [\n",
    "    0, \n",
    "    1/3,\n",
    "    1/2, \n",
    "    1,\n",
    "    1,\n",
    "]"
   ]
  },
  {
   "cell_type": "code",
   "execution_count": 39,
   "id": "33df4f0df8e584fc",
   "metadata": {
    "ExecuteTime": {
     "end_time": "2024-03-30T03:23:54.939191Z",
     "start_time": "2024-03-30T03:23:54.935286Z"
    }
   },
   "outputs": [],
   "source": [
    "laue['plane'] = [\n",
    "    '204',\n",
    "    '113',\n",
    "    '224',\n",
    "    '133',\n",
    "    '333'\n",
    "]"
   ]
  },
  {
   "cell_type": "code",
   "execution_count": 40,
   "id": "4a83067b63da7a5b",
   "metadata": {
    "ExecuteTime": {
     "end_time": "2024-03-30T03:23:54.967375Z",
     "start_time": "2024-03-30T03:23:54.958788Z"
    }
   },
   "outputs": [],
   "source": [
    "expected = []\n",
    "for h, k, l in laue.plane:\n",
    "    h = int(h)\n",
    "    k = int(k)\n",
    "    l = int(l)\n",
    "    expected.append(\n",
    "        np.degrees(np.arcsin(h / np.sqrt(h ** 2 + k ** 2 + l ** 2)))\n",
    "    )\n",
    "laue['theta_thy'] = expected"
   ]
  },
  {
   "cell_type": "code",
   "execution_count": 41,
   "id": "ef7ab01477e9d0a3",
   "metadata": {
    "ExecuteTime": {
     "end_time": "2024-03-30T03:23:54.984312Z",
     "start_time": "2024-03-30T03:23:54.976739Z"
    }
   },
   "outputs": [
    {
     "data": {
      "text/html": [
       "<div>\n",
       "<style scoped>\n",
       "    .dataframe tbody tr th:only-of-type {\n",
       "        vertical-align: middle;\n",
       "    }\n",
       "\n",
       "    .dataframe tbody tr th {\n",
       "        vertical-align: top;\n",
       "    }\n",
       "\n",
       "    .dataframe thead th {\n",
       "        text-align: right;\n",
       "    }\n",
       "</style>\n",
       "<table border=\"1\" class=\"dataframe\">\n",
       "  <thead>\n",
       "    <tr style=\"text-align: right;\">\n",
       "      <th></th>\n",
       "      <th>theta_exp</th>\n",
       "      <th>dtheta_exp</th>\n",
       "      <th>theta_thy</th>\n",
       "    </tr>\n",
       "  </thead>\n",
       "  <tbody>\n",
       "    <tr>\n",
       "      <th>0</th>\n",
       "      <td>20.267887</td>\n",
       "      <td>5.971579</td>\n",
       "      <td>26.565051</td>\n",
       "    </tr>\n",
       "    <tr>\n",
       "      <th>1</th>\n",
       "      <td>20.125910</td>\n",
       "      <td>6.919907</td>\n",
       "      <td>17.548401</td>\n",
       "    </tr>\n",
       "    <tr>\n",
       "      <th>2</th>\n",
       "      <td>24.749202</td>\n",
       "      <td>7.998224</td>\n",
       "      <td>24.094843</td>\n",
       "    </tr>\n",
       "    <tr>\n",
       "      <th>3</th>\n",
       "      <td>15.881575</td>\n",
       "      <td>8.427671</td>\n",
       "      <td>13.262676</td>\n",
       "    </tr>\n",
       "    <tr>\n",
       "      <th>4</th>\n",
       "      <td>22.382804</td>\n",
       "      <td>7.834634</td>\n",
       "      <td>35.264390</td>\n",
       "    </tr>\n",
       "  </tbody>\n",
       "</table>\n",
       "</div>"
      ],
      "text/plain": [
       "   theta_exp  dtheta_exp  theta_thy\n",
       "0  20.267887    5.971579  26.565051\n",
       "1  20.125910    6.919907  17.548401\n",
       "2  24.749202    7.998224  24.094843\n",
       "3  15.881575    8.427671  13.262676\n",
       "4  22.382804    7.834634  35.264390"
      ]
     },
     "execution_count": 41,
     "metadata": {},
     "output_type": "execute_result"
    }
   ],
   "source": [
    "laue[['theta_exp', 'dtheta_exp', 'theta_thy']]"
   ]
  },
  {
   "cell_type": "code",
   "execution_count": 42,
   "id": "4b76b56034a62f2a",
   "metadata": {
    "ExecuteTime": {
     "end_time": "2024-03-30T03:23:54.990142Z",
     "start_time": "2024-03-30T03:23:54.985700Z"
    }
   },
   "outputs": [],
   "source": [
    "wavelength = [\n",
    "    2 * a * np.sin(np.radians(t)) / np.sqrt(int(h) ** 2 + int(k) ** 2 + int(l) ** 2) for (h, k, l), t in zip(laue.plane, laue.theta_exp)\n",
    "]\n",
    "dwavelength = [\n",
    "    np.radians(dt) * 2 * a * np.cos(np.radians(t)) / np.sqrt(int(h) ** 2 + int(k) ** 2 + int(l) ** 2) for (h, k, l), t, dt in zip(laue.plane, laue.theta_exp, laue.dtheta_exp)\n",
    "]"
   ]
  },
  {
   "cell_type": "code",
   "execution_count": 43,
   "id": "afc83aee062eea0d",
   "metadata": {
    "ExecuteTime": {
     "end_time": "2024-03-30T03:23:55.011793Z",
     "start_time": "2024-03-30T03:23:55.007841Z"
    }
   },
   "outputs": [],
   "source": [
    "laue['wavelength'] = wavelength \n",
    "laue['dwavelength'] = dwavelength "
   ]
  },
  {
   "cell_type": "code",
   "execution_count": 44,
   "id": "95cff7b3d4646d0c",
   "metadata": {
    "ExecuteTime": {
     "end_time": "2024-03-30T03:23:55.029674Z",
     "start_time": "2024-03-30T03:23:55.013118Z"
    }
   },
   "outputs": [
    {
     "data": {
      "text/html": [
       "<div>\n",
       "<style scoped>\n",
       "    .dataframe tbody tr th:only-of-type {\n",
       "        vertical-align: middle;\n",
       "    }\n",
       "\n",
       "    .dataframe tbody tr th {\n",
       "        vertical-align: top;\n",
       "    }\n",
       "\n",
       "    .dataframe thead th {\n",
       "        text-align: right;\n",
       "    }\n",
       "</style>\n",
       "<table border=\"1\" class=\"dataframe\">\n",
       "  <thead>\n",
       "    <tr style=\"text-align: right;\">\n",
       "      <th></th>\n",
       "      <th>Point</th>\n",
       "      <th>y</th>\n",
       "      <th>dy</th>\n",
       "      <th>z</th>\n",
       "      <th>dz</th>\n",
       "      <th>yz</th>\n",
       "      <th>dyz</th>\n",
       "      <th>theta_exp</th>\n",
       "      <th>dtheta_exp</th>\n",
       "      <th>kl</th>\n",
       "      <th>plane</th>\n",
       "      <th>theta_thy</th>\n",
       "      <th>wavelength</th>\n",
       "      <th>dwavelength</th>\n",
       "    </tr>\n",
       "  </thead>\n",
       "  <tbody>\n",
       "    <tr>\n",
       "      <th>0</th>\n",
       "      <td>A</td>\n",
       "      <td>0.727139</td>\n",
       "      <td>0.363569</td>\n",
       "      <td>17.087758</td>\n",
       "      <td>0.727139</td>\n",
       "      <td>0.042553</td>\n",
       "      <td>0.146356</td>\n",
       "      <td>20.267887</td>\n",
       "      <td>5.971579</td>\n",
       "      <td>0.000000</td>\n",
       "      <td>204</td>\n",
       "      <td>26.565051</td>\n",
       "      <td>6.258737e-11</td>\n",
       "      <td>1.766462e-11</td>\n",
       "    </tr>\n",
       "    <tr>\n",
       "      <th>1</th>\n",
       "      <td>B</td>\n",
       "      <td>4.362832</td>\n",
       "      <td>1.454277</td>\n",
       "      <td>16.360619</td>\n",
       "      <td>0.727139</td>\n",
       "      <td>0.266667</td>\n",
       "      <td>0.263734</td>\n",
       "      <td>20.125910</td>\n",
       "      <td>6.919907</td>\n",
       "      <td>0.333333</td>\n",
       "      <td>113</td>\n",
       "      <td>17.548401</td>\n",
       "      <td>8.382623e-11</td>\n",
       "      <td>2.762676e-11</td>\n",
       "    </tr>\n",
       "    <tr>\n",
       "      <th>2</th>\n",
       "      <td>C</td>\n",
       "      <td>10.179941</td>\n",
       "      <td>1.454277</td>\n",
       "      <td>21.087021</td>\n",
       "      <td>0.727139</td>\n",
       "      <td>0.482759</td>\n",
       "      <td>0.237692</td>\n",
       "      <td>24.749202</td>\n",
       "      <td>7.998224</td>\n",
       "      <td>0.500000</td>\n",
       "      <td>224</td>\n",
       "      <td>24.094843</td>\n",
       "      <td>6.904843e-11</td>\n",
       "      <td>2.090902e-11</td>\n",
       "    </tr>\n",
       "    <tr>\n",
       "      <th>3</th>\n",
       "      <td>D</td>\n",
       "      <td>7.998525</td>\n",
       "      <td>1.454277</td>\n",
       "      <td>9.452802</td>\n",
       "      <td>1.454277</td>\n",
       "      <td>0.846154</td>\n",
       "      <td>0.719385</td>\n",
       "      <td>15.881575</td>\n",
       "      <td>8.427671</td>\n",
       "      <td>1.000000</td>\n",
       "      <td>133</td>\n",
       "      <td>13.262676</td>\n",
       "      <td>5.072592e-11</td>\n",
       "      <td>2.622512e-11</td>\n",
       "    </tr>\n",
       "    <tr>\n",
       "      <th>4</th>\n",
       "      <td>E</td>\n",
       "      <td>13.088496</td>\n",
       "      <td>1.090708</td>\n",
       "      <td>14.906342</td>\n",
       "      <td>0.727139</td>\n",
       "      <td>0.878049</td>\n",
       "      <td>0.397434</td>\n",
       "      <td>22.382804</td>\n",
       "      <td>7.834634</td>\n",
       "      <td>1.000000</td>\n",
       "      <td>333</td>\n",
       "      <td>35.264390</td>\n",
       "      <td>5.921317e-11</td>\n",
       "      <td>1.966110e-11</td>\n",
       "    </tr>\n",
       "  </tbody>\n",
       "</table>\n",
       "</div>"
      ],
      "text/plain": [
       "  Point          y        dy          z        dz        yz       dyz  \\\n",
       "0     A   0.727139  0.363569  17.087758  0.727139  0.042553  0.146356   \n",
       "1     B   4.362832  1.454277  16.360619  0.727139  0.266667  0.263734   \n",
       "2     C  10.179941  1.454277  21.087021  0.727139  0.482759  0.237692   \n",
       "3     D   7.998525  1.454277   9.452802  1.454277  0.846154  0.719385   \n",
       "4     E  13.088496  1.090708  14.906342  0.727139  0.878049  0.397434   \n",
       "\n",
       "   theta_exp  dtheta_exp        kl plane  theta_thy    wavelength  \\\n",
       "0  20.267887    5.971579  0.000000   204  26.565051  6.258737e-11   \n",
       "1  20.125910    6.919907  0.333333   113  17.548401  8.382623e-11   \n",
       "2  24.749202    7.998224  0.500000   224  24.094843  6.904843e-11   \n",
       "3  15.881575    8.427671  1.000000   133  13.262676  5.072592e-11   \n",
       "4  22.382804    7.834634  1.000000   333  35.264390  5.921317e-11   \n",
       "\n",
       "    dwavelength  \n",
       "0  1.766462e-11  \n",
       "1  2.762676e-11  \n",
       "2  2.090902e-11  \n",
       "3  2.622512e-11  \n",
       "4  1.966110e-11  "
      ]
     },
     "execution_count": 44,
     "metadata": {},
     "output_type": "execute_result"
    }
   ],
   "source": [
    "laue"
   ]
  },
  {
   "cell_type": "code",
   "execution_count": 45,
   "id": "c0f90adc6215192f",
   "metadata": {
    "ExecuteTime": {
     "end_time": "2024-03-30T03:23:55.043777Z",
     "start_time": "2024-03-30T03:23:55.031560Z"
    }
   },
   "outputs": [
    {
     "name": "stdout",
     "output_type": "stream",
     "text": [
      "\\begin{tabular}{c|c|c|c|c|c|c|c|c|c|c|c|c|c}\n",
      "\\hline\n",
      "Point & $y$ & $\\Delta y$ & $z$ & $\\Delta z$ & $\\frac{y}{z}$ & $\\Delta\\frac{y}{z}$ & $\\theta_{exp} (\\deg)$ & $\\Delta \\theta_{exp} (\\deg)$ & $\\frac{k}{l}$ & Plane & $\\theta_{thy} (\\deg)$ & $\\lambda (pm)$ & $\\Delta \\lambda (pm)$ \\\\\n",
      "\\hline\n",
      "A & 0.73 & 0.36 & 17.09 & 0.73 & 0.04 & 0.15 & 20.27 & 5.97 & 0.00 & 204 & 26.57 & 62.59 & 17.66 \\\\\n",
      "B & 4.36 & 1.45 & 16.36 & 0.73 & 0.27 & 0.26 & 20.13 & 6.92 & 0.33 & 113 & 17.55 & 83.83 & 27.63 \\\\\n",
      "C & 10.18 & 1.45 & 21.09 & 0.73 & 0.48 & 0.24 & 24.75 & 8.00 & 0.50 & 224 & 24.09 & 69.05 & 20.91 \\\\\n",
      "D & 8.00 & 1.45 & 9.45 & 1.45 & 0.85 & 0.72 & 15.88 & 8.43 & 1.00 & 133 & 13.26 & 50.73 & 26.23 \\\\\n",
      "E & 13.09 & 1.09 & 14.91 & 0.73 & 0.88 & 0.40 & 22.38 & 7.83 & 1.00 & 333 & 35.26 & 59.21 & 19.66 \\\\\n",
      "\\hline\n",
      "\\end{tabular}\n"
     ]
    }
   ],
   "source": [
    "latex = laue.copy()\n",
    "latex.wavelength = latex.wavelength / 1e-12\n",
    "latex.dwavelength = latex.dwavelength / 1e-12\n",
    "latex.columns = [\n",
    "    'Point',\n",
    "    r'$y$',\n",
    "    r'$\\Delta y$',\n",
    "    r'$z$',\n",
    "    r'$\\Delta z$',\n",
    "    r'$\\frac{y}{z}$',\n",
    "    r'$\\Delta\\frac{y}{z}$',\n",
    "    r'$\\theta_{exp} (\\deg)$',\n",
    "    r'$\\Delta \\theta_{exp} (\\deg)$',\n",
    "    r'$\\frac{k}{l}$',\n",
    "    'Plane',\n",
    "    r'$\\theta_{thy} (\\deg)$',\n",
    "    r'$\\lambda (pm)$',\n",
    "    r'$\\Delta \\lambda (pm)$'\n",
    "]\n",
    "latex = latex.to_latex(index=False, float_format='{:.2f}'.format, column_format='|'.join('c' * 14))\n",
    "for old, new in [\n",
    "    (r'\\toprule', r'\\hline'),\n",
    "    (r'\\midrule', r'\\hline'),\n",
    "    (r'\\bottomrule', r'\\hline')\n",
    "]:\n",
    "    latex = latex.replace(old, new)\n",
    "    \n",
    "print(latex)"
   ]
  },
  {
   "cell_type": "code",
   "execution_count": 46,
   "id": "8c901d27b920cdf",
   "metadata": {
    "ExecuteTime": {
     "end_time": "2024-03-30T03:23:55.055430Z",
     "start_time": "2024-03-30T03:23:55.045312Z"
    }
   },
   "outputs": [
    {
     "name": "stdout",
     "output_type": "stream",
     "text": [
      "3.545211342964152e-08\n"
     ]
    }
   ],
   "source": [
    "E = 35 * 1e3 * 1.602e-10\n",
    "l = 6.626e-34 * 3e8 / E / 1e-12\n",
    "print(l)"
   ]
  }
 ],
 "metadata": {
  "kernelspec": {
   "display_name": "Python 3 (ipykernel)",
   "language": "python",
   "name": "python3"
  },
  "language_info": {
   "codemirror_mode": {
    "name": "ipython",
    "version": 3
   },
   "file_extension": ".py",
   "mimetype": "text/x-python",
   "name": "python",
   "nbconvert_exporter": "python",
   "pygments_lexer": "ipython3",
   "version": "3.10.12"
  }
 },
 "nbformat": 4,
 "nbformat_minor": 5
}

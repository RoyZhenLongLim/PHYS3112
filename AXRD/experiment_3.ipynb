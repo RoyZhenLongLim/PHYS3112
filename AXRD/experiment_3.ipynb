{
 "cells": [
  {
   "cell_type": "markdown",
   "source": [
    "# Experiment 3\n",
    "All units are in mm"
   ],
   "metadata": {
    "collapsed": false
   },
   "id": "49a59e5dccc1eaae"
  },
  {
   "cell_type": "code",
   "execution_count": 1,
   "id": "ca6d9d6c5dd404c0",
   "metadata": {
    "collapsed": false,
    "ExecuteTime": {
     "end_time": "2024-03-07T06:37:17.092361Z",
     "start_time": "2024-03-07T06:37:17.021669Z"
    }
   },
   "outputs": [],
   "source": [
    "import numpy as np"
   ]
  },
  {
   "cell_type": "code",
   "outputs": [],
   "source": [
    "unit_to_mm = 49.3 / 21.5"
   ],
   "metadata": {
    "collapsed": true,
    "ExecuteTime": {
     "end_time": "2024-03-07T06:37:17.097669Z",
     "start_time": "2024-03-07T06:37:17.094243Z"
    }
   },
   "id": "initial_id",
   "execution_count": 2
  },
  {
   "cell_type": "code",
   "outputs": [],
   "source": [
    "yz = [\n",
    "    (3.1, 7.3),\n",
    "    (1.3, 4.2),\n",
    "    (6.7, 3.5),\n",
    "    (4.5, 1.5)\n",
    "]"
   ],
   "metadata": {
    "collapsed": false,
    "ExecuteTime": {
     "end_time": "2024-03-07T06:37:17.103466Z",
     "start_time": "2024-03-07T06:37:17.100037Z"
    }
   },
   "id": "54f40141cf502106",
   "execution_count": 3
  },
  {
   "cell_type": "code",
   "outputs": [],
   "source": [
    "# Uncertainty = 1/2 lowest increment of graduation\n",
    "uncertainty = 0.5 * unit_to_mm"
   ],
   "metadata": {
    "collapsed": false,
    "ExecuteTime": {
     "end_time": "2024-03-07T07:27:31.456406Z",
     "start_time": "2024-03-07T07:27:31.452053Z"
    }
   },
   "id": "b5912982d1a79833",
   "execution_count": 12
  },
  {
   "cell_type": "code",
   "outputs": [],
   "source": [
    "D = 20"
   ],
   "metadata": {
    "collapsed": false,
    "ExecuteTime": {
     "end_time": "2024-03-07T06:37:17.109362Z",
     "start_time": "2024-03-07T06:37:17.106420Z"
    }
   },
   "id": "90703586bdfba9a",
   "execution_count": 4
  },
  {
   "cell_type": "code",
   "outputs": [],
   "source": [
    "def compute_delta_angle(y, z):\n",
    "    return np.sqrt(\n",
    "        uncertainty * 1/2 * (y / np.sqrt(y ** 2 + z ** 2)) / (1 + (y ** 2 + z ** 2) / D ** 2) + \n",
    "        uncertainty * 1/2 * (z / np.sqrt(y ** 2 + z ** 2)) / (1 + (y ** 2 + z ** 2) / D ** 2)\n",
    "    )"
   ],
   "metadata": {
    "collapsed": false,
    "ExecuteTime": {
     "end_time": "2024-03-07T07:29:35.773683Z",
     "start_time": "2024-03-07T07:29:35.767710Z"
    }
   },
   "id": "3f387984b4611765",
   "execution_count": 14
  },
  {
   "cell_type": "code",
   "outputs": [
    {
     "name": "stdout",
     "output_type": "stream",
     "text": [
      "32.70+-0.81\n",
      "15.13+-0.83\n",
      "30.04+-0.82\n",
      "16.47+-0.83\n"
     ]
    }
   ],
   "source": [
    "angles = []\n",
    "\n",
    "for point, (y, z) in zip(['A', 'B', 'C', 'D'], yz):\n",
    "    deg = np.degrees(1/2 * np.arcsin(np.sqrt(y ** 2 + z ** 2) * unit_to_mm / D))\n",
    "    delta_deg = compute_delta_angle(y, z)\n",
    "    print(f\"{deg:.2f}+-{delta_deg:.2f}\")\n",
    "    angles.append(\n",
    "        (point, deg, delta_deg)\n",
    "    )"
   ],
   "metadata": {
    "collapsed": false,
    "ExecuteTime": {
     "end_time": "2024-03-07T07:29:56.055943Z",
     "start_time": "2024-03-07T07:29:56.047467Z"
    }
   },
   "id": "f5372707e90cfa7d",
   "execution_count": 17
  },
  {
   "cell_type": "code",
   "outputs": [
    {
     "name": "stderr",
     "output_type": "stream",
     "text": [
      "/tmp/ipykernel_53560/3315925370.py:7: RuntimeWarning: invalid value encountered in double_scalars\n",
      "  f\"{h, k, l}\", np.degrees(np.sin(h / np.sqrt(h ** 2 + k ** 2 + l ** 2)))\n"
     ]
    }
   ],
   "source": [
    "degree_expected = []\n",
    "for h in range(4):\n",
    "    for k in range(4):\n",
    "        for l in range(4):\n",
    "            degree_expected.append(\n",
    "                (\n",
    "                    f\"{h, k, l}\", np.degrees(np.sin(h / np.sqrt(h ** 2 + k ** 2 + l ** 2))) \n",
    "                )\n",
    "            )"
   ],
   "metadata": {
    "collapsed": false,
    "ExecuteTime": {
     "end_time": "2024-03-07T06:37:17.125154Z",
     "start_time": "2024-03-07T06:37:17.119797Z"
    }
   },
   "id": "1d8344c8cf451ce1",
   "execution_count": 6
  },
  {
   "cell_type": "code",
   "outputs": [],
   "source": [
    "def find_similar_planes(degree, delta_degree):\n",
    "    similar = []\n",
    "    for plane, theoretical_degree in degree_expected:\n",
    "        # This should theoretical be best if we could find the uncertainty but not sure if there is an easy way of doing this :(\n",
    "        if abs(degree - theoretical_degree) < delta_degree:\n",
    "            similar.append((plane, theoretical_degree))\n",
    "    return similar"
   ],
   "metadata": {
    "collapsed": false,
    "ExecuteTime": {
     "end_time": "2024-03-07T07:30:44.796618Z",
     "start_time": "2024-03-07T07:30:44.791464Z"
    }
   },
   "id": "d3fd4753176ad1af",
   "execution_count": 20
  },
  {
   "cell_type": "code",
   "outputs": [
    {
     "name": "stdout",
     "output_type": "stream",
     "text": [
      "A\n",
      "[]\n",
      "B\n",
      "[('(1, 2, 3)', 15.131294224366904), ('(1, 3, 2)', 15.131294224366904)]\n",
      "C\n",
      "[('(2, 0, 3)', 30.177026630572893), ('(2, 3, 0)', 30.177026630572893)]\n",
      "D\n",
      "[('(1, 1, 3)', 17.014767321817022), ('(1, 3, 1)', 17.014767321817022)]\n"
     ]
    }
   ],
   "source": [
    "for point, deg, delta in angles:\n",
    "    print(point)\n",
    "    print(find_similar_planes(deg, delta))"
   ],
   "metadata": {
    "collapsed": false,
    "ExecuteTime": {
     "end_time": "2024-03-07T07:30:45.472663Z",
     "start_time": "2024-03-07T07:30:45.465181Z"
    }
   },
   "id": "a1b5cdae17f14bf0",
   "execution_count": 21
  }
 ],
 "metadata": {
  "kernelspec": {
   "display_name": "Python 3",
   "language": "python",
   "name": "python3"
  },
  "language_info": {
   "codemirror_mode": {
    "name": "ipython",
    "version": 2
   },
   "file_extension": ".py",
   "mimetype": "text/x-python",
   "name": "python",
   "nbconvert_exporter": "python",
   "pygments_lexer": "ipython2",
   "version": "2.7.6"
  }
 },
 "nbformat": 4,
 "nbformat_minor": 5
}

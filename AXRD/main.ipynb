{
 "cells": [
  {
   "cell_type": "code",
   "execution_count": 34,
   "id": "initial_id",
   "metadata": {
    "collapsed": true,
    "ExecuteTime": {
     "end_time": "2024-02-12T07:14:56.287747934Z",
     "start_time": "2024-02-12T07:14:56.283504844Z"
    }
   },
   "outputs": [],
   "source": [
    "import pandas as pd\n",
    "import numpy as np"
   ]
  },
  {
   "cell_type": "markdown",
   "source": [
    "# Diffraction Peak Table\n",
    "Q5 "
   ],
   "metadata": {
    "collapsed": false
   },
   "id": "bda3512f90b8b5f4"
  },
  {
   "cell_type": "code",
   "outputs": [],
   "source": [
    "columns = [\"Line\", \"h\", \"k\", \"l\", \"theta2\", \"theta\", \"sin(theta)/lambda\", \"fK\", \"fBr\", \"sign\", \"F\", \"F2\", \"p\", \"L-p\", \"I\", \"Thy\", \"Exp\"]"
   ],
   "metadata": {
    "collapsed": false,
    "ExecuteTime": {
     "end_time": "2024-02-12T07:18:35.265721292Z",
     "start_time": "2024-02-12T07:18:35.221760625Z"
    }
   },
   "id": "ccb40e3ad4d3a7a0",
   "execution_count": 40
  },
  {
   "cell_type": "code",
   "outputs": [],
   "source": [
    "dpt = pd.DataFrame(columns=columns)"
   ],
   "metadata": {
    "collapsed": false,
    "ExecuteTime": {
     "end_time": "2024-02-12T07:18:36.275602305Z",
     "start_time": "2024-02-12T07:18:36.266334422Z"
    }
   },
   "id": "2f8e709ed3f6ca",
   "execution_count": 41
  },
  {
   "cell_type": "code",
   "outputs": [],
   "source": [
    "dpt.Line = [i for i in range(1, 12 + 1)]"
   ],
   "metadata": {
    "collapsed": false,
    "ExecuteTime": {
     "end_time": "2024-02-12T07:18:36.971880313Z",
     "start_time": "2024-02-12T07:18:36.953986925Z"
    }
   },
   "id": "91013e1c248ae99c",
   "execution_count": 42
  },
  {
   "cell_type": "code",
   "outputs": [],
   "source": [
    "dpt.h = [1, 2, 2, 3, 2, 4, 3, 4, 4, 3, 4, 6]\n",
    "dpt.k = [1, 0, 2, 1, 2, 0, 3, 2, 2, 3, 4, 0]\n",
    "dpt.l = [1, 0, 0, 1, 2, 0, 1, 0, 2, 3, 0, 0]"
   ],
   "metadata": {
    "collapsed": false,
    "ExecuteTime": {
     "end_time": "2024-02-12T07:18:13.846149578Z",
     "start_time": "2024-02-12T07:18:13.833311503Z"
    }
   },
   "id": "3fd4b3796cdc245",
   "execution_count": 38
  },
  {
   "cell_type": "code",
   "outputs": [],
   "source": [
    "# TODO: Add data here"
   ],
   "metadata": {
    "collapsed": false,
    "ExecuteTime": {
     "end_time": "2024-02-12T07:05:01.981219144Z",
     "start_time": "2024-02-12T07:05:01.979152258Z"
    }
   },
   "id": "de2d2ef81531c08e",
   "execution_count": 14
  },
  {
   "cell_type": "code",
   "outputs": [
    {
     "data": {
      "text/plain": "    Line    h    k    l theta2 theta sin(theta)/lambda   fK  fBr sign    F  \\\n0      1  NaN  NaN  NaN    NaN   NaN               NaN  NaN  NaN  NaN  NaN   \n1      2  NaN  NaN  NaN    NaN   NaN               NaN  NaN  NaN  NaN  NaN   \n2      3  NaN  NaN  NaN    NaN   NaN               NaN  NaN  NaN  NaN  NaN   \n3      4  NaN  NaN  NaN    NaN   NaN               NaN  NaN  NaN  NaN  NaN   \n4      5  NaN  NaN  NaN    NaN   NaN               NaN  NaN  NaN  NaN  NaN   \n5      6  NaN  NaN  NaN    NaN   NaN               NaN  NaN  NaN  NaN  NaN   \n6      7  NaN  NaN  NaN    NaN   NaN               NaN  NaN  NaN  NaN  NaN   \n7      8  NaN  NaN  NaN    NaN   NaN               NaN  NaN  NaN  NaN  NaN   \n8      9  NaN  NaN  NaN    NaN   NaN               NaN  NaN  NaN  NaN  NaN   \n9     10  NaN  NaN  NaN    NaN   NaN               NaN  NaN  NaN  NaN  NaN   \n10    11  NaN  NaN  NaN    NaN   NaN               NaN  NaN  NaN  NaN  NaN   \n11    12  NaN  NaN  NaN    NaN   NaN               NaN  NaN  NaN  NaN  NaN   \n\n     F2    p  L-p    I  Thy  Exp  \n0   NaN  NaN  NaN  NaN  NaN  NaN  \n1   NaN  NaN  NaN  NaN  NaN  NaN  \n2   NaN  NaN  NaN  NaN  NaN  NaN  \n3   NaN  NaN  NaN  NaN  NaN  NaN  \n4   NaN  NaN  NaN  NaN  NaN  NaN  \n5   NaN  NaN  NaN  NaN  NaN  NaN  \n6   NaN  NaN  NaN  NaN  NaN  NaN  \n7   NaN  NaN  NaN  NaN  NaN  NaN  \n8   NaN  NaN  NaN  NaN  NaN  NaN  \n9   NaN  NaN  NaN  NaN  NaN  NaN  \n10  NaN  NaN  NaN  NaN  NaN  NaN  \n11  NaN  NaN  NaN  NaN  NaN  NaN  ",
      "text/html": "<div>\n<style scoped>\n    .dataframe tbody tr th:only-of-type {\n        vertical-align: middle;\n    }\n\n    .dataframe tbody tr th {\n        vertical-align: top;\n    }\n\n    .dataframe thead th {\n        text-align: right;\n    }\n</style>\n<table border=\"1\" class=\"dataframe\">\n  <thead>\n    <tr style=\"text-align: right;\">\n      <th></th>\n      <th>Line</th>\n      <th>h</th>\n      <th>k</th>\n      <th>l</th>\n      <th>theta2</th>\n      <th>theta</th>\n      <th>sin(theta)/lambda</th>\n      <th>fK</th>\n      <th>fBr</th>\n      <th>sign</th>\n      <th>F</th>\n      <th>F2</th>\n      <th>p</th>\n      <th>L-p</th>\n      <th>I</th>\n      <th>Thy</th>\n      <th>Exp</th>\n    </tr>\n  </thead>\n  <tbody>\n    <tr>\n      <th>0</th>\n      <td>1</td>\n      <td>NaN</td>\n      <td>NaN</td>\n      <td>NaN</td>\n      <td>NaN</td>\n      <td>NaN</td>\n      <td>NaN</td>\n      <td>NaN</td>\n      <td>NaN</td>\n      <td>NaN</td>\n      <td>NaN</td>\n      <td>NaN</td>\n      <td>NaN</td>\n      <td>NaN</td>\n      <td>NaN</td>\n      <td>NaN</td>\n      <td>NaN</td>\n    </tr>\n    <tr>\n      <th>1</th>\n      <td>2</td>\n      <td>NaN</td>\n      <td>NaN</td>\n      <td>NaN</td>\n      <td>NaN</td>\n      <td>NaN</td>\n      <td>NaN</td>\n      <td>NaN</td>\n      <td>NaN</td>\n      <td>NaN</td>\n      <td>NaN</td>\n      <td>NaN</td>\n      <td>NaN</td>\n      <td>NaN</td>\n      <td>NaN</td>\n      <td>NaN</td>\n      <td>NaN</td>\n    </tr>\n    <tr>\n      <th>2</th>\n      <td>3</td>\n      <td>NaN</td>\n      <td>NaN</td>\n      <td>NaN</td>\n      <td>NaN</td>\n      <td>NaN</td>\n      <td>NaN</td>\n      <td>NaN</td>\n      <td>NaN</td>\n      <td>NaN</td>\n      <td>NaN</td>\n      <td>NaN</td>\n      <td>NaN</td>\n      <td>NaN</td>\n      <td>NaN</td>\n      <td>NaN</td>\n      <td>NaN</td>\n    </tr>\n    <tr>\n      <th>3</th>\n      <td>4</td>\n      <td>NaN</td>\n      <td>NaN</td>\n      <td>NaN</td>\n      <td>NaN</td>\n      <td>NaN</td>\n      <td>NaN</td>\n      <td>NaN</td>\n      <td>NaN</td>\n      <td>NaN</td>\n      <td>NaN</td>\n      <td>NaN</td>\n      <td>NaN</td>\n      <td>NaN</td>\n      <td>NaN</td>\n      <td>NaN</td>\n      <td>NaN</td>\n    </tr>\n    <tr>\n      <th>4</th>\n      <td>5</td>\n      <td>NaN</td>\n      <td>NaN</td>\n      <td>NaN</td>\n      <td>NaN</td>\n      <td>NaN</td>\n      <td>NaN</td>\n      <td>NaN</td>\n      <td>NaN</td>\n      <td>NaN</td>\n      <td>NaN</td>\n      <td>NaN</td>\n      <td>NaN</td>\n      <td>NaN</td>\n      <td>NaN</td>\n      <td>NaN</td>\n      <td>NaN</td>\n    </tr>\n    <tr>\n      <th>5</th>\n      <td>6</td>\n      <td>NaN</td>\n      <td>NaN</td>\n      <td>NaN</td>\n      <td>NaN</td>\n      <td>NaN</td>\n      <td>NaN</td>\n      <td>NaN</td>\n      <td>NaN</td>\n      <td>NaN</td>\n      <td>NaN</td>\n      <td>NaN</td>\n      <td>NaN</td>\n      <td>NaN</td>\n      <td>NaN</td>\n      <td>NaN</td>\n      <td>NaN</td>\n    </tr>\n    <tr>\n      <th>6</th>\n      <td>7</td>\n      <td>NaN</td>\n      <td>NaN</td>\n      <td>NaN</td>\n      <td>NaN</td>\n      <td>NaN</td>\n      <td>NaN</td>\n      <td>NaN</td>\n      <td>NaN</td>\n      <td>NaN</td>\n      <td>NaN</td>\n      <td>NaN</td>\n      <td>NaN</td>\n      <td>NaN</td>\n      <td>NaN</td>\n      <td>NaN</td>\n      <td>NaN</td>\n    </tr>\n    <tr>\n      <th>7</th>\n      <td>8</td>\n      <td>NaN</td>\n      <td>NaN</td>\n      <td>NaN</td>\n      <td>NaN</td>\n      <td>NaN</td>\n      <td>NaN</td>\n      <td>NaN</td>\n      <td>NaN</td>\n      <td>NaN</td>\n      <td>NaN</td>\n      <td>NaN</td>\n      <td>NaN</td>\n      <td>NaN</td>\n      <td>NaN</td>\n      <td>NaN</td>\n      <td>NaN</td>\n    </tr>\n    <tr>\n      <th>8</th>\n      <td>9</td>\n      <td>NaN</td>\n      <td>NaN</td>\n      <td>NaN</td>\n      <td>NaN</td>\n      <td>NaN</td>\n      <td>NaN</td>\n      <td>NaN</td>\n      <td>NaN</td>\n      <td>NaN</td>\n      <td>NaN</td>\n      <td>NaN</td>\n      <td>NaN</td>\n      <td>NaN</td>\n      <td>NaN</td>\n      <td>NaN</td>\n      <td>NaN</td>\n    </tr>\n    <tr>\n      <th>9</th>\n      <td>10</td>\n      <td>NaN</td>\n      <td>NaN</td>\n      <td>NaN</td>\n      <td>NaN</td>\n      <td>NaN</td>\n      <td>NaN</td>\n      <td>NaN</td>\n      <td>NaN</td>\n      <td>NaN</td>\n      <td>NaN</td>\n      <td>NaN</td>\n      <td>NaN</td>\n      <td>NaN</td>\n      <td>NaN</td>\n      <td>NaN</td>\n      <td>NaN</td>\n    </tr>\n    <tr>\n      <th>10</th>\n      <td>11</td>\n      <td>NaN</td>\n      <td>NaN</td>\n      <td>NaN</td>\n      <td>NaN</td>\n      <td>NaN</td>\n      <td>NaN</td>\n      <td>NaN</td>\n      <td>NaN</td>\n      <td>NaN</td>\n      <td>NaN</td>\n      <td>NaN</td>\n      <td>NaN</td>\n      <td>NaN</td>\n      <td>NaN</td>\n      <td>NaN</td>\n      <td>NaN</td>\n    </tr>\n    <tr>\n      <th>11</th>\n      <td>12</td>\n      <td>NaN</td>\n      <td>NaN</td>\n      <td>NaN</td>\n      <td>NaN</td>\n      <td>NaN</td>\n      <td>NaN</td>\n      <td>NaN</td>\n      <td>NaN</td>\n      <td>NaN</td>\n      <td>NaN</td>\n      <td>NaN</td>\n      <td>NaN</td>\n      <td>NaN</td>\n      <td>NaN</td>\n      <td>NaN</td>\n      <td>NaN</td>\n    </tr>\n  </tbody>\n</table>\n</div>"
     },
     "execution_count": 43,
     "metadata": {},
     "output_type": "execute_result"
    }
   ],
   "source": [
    "dpt"
   ],
   "metadata": {
    "collapsed": false,
    "ExecuteTime": {
     "end_time": "2024-02-12T07:18:37.941952412Z",
     "start_time": "2024-02-12T07:18:37.905795682Z"
    }
   },
   "id": "20908d5d0cea2032",
   "execution_count": 43
  },
  {
   "cell_type": "markdown",
   "source": [
    "Transform data"
   ],
   "metadata": {
    "collapsed": false
   },
   "id": "fb6fc903bb2392ec"
  },
  {
   "cell_type": "code",
   "outputs": [],
   "source": [
    "dpt.theta = dpt.theta2 / 2"
   ],
   "metadata": {
    "collapsed": false,
    "ExecuteTime": {
     "end_time": "2024-02-12T07:19:10.505325998Z",
     "start_time": "2024-02-12T07:19:10.487500827Z"
    }
   },
   "id": "41eb259b4336fa1c",
   "execution_count": 44
  },
  {
   "cell_type": "code",
   "outputs": [],
   "source": [
    "# sign is + if h + k + l is even, - otherwise\n",
    "dpt.sign = (dpt[[\"h\", \"k\", \"l\"]].sum(axis=1) % 2 == 0).map({True: \"+\", False: \"-\"})"
   ],
   "metadata": {
    "collapsed": false,
    "ExecuteTime": {
     "end_time": "2024-02-12T07:19:12.302486191Z",
     "start_time": "2024-02-12T07:19:12.286062922Z"
    }
   },
   "id": "f981e8d025210f24",
   "execution_count": 45
  },
  {
   "cell_type": "code",
   "outputs": [],
   "source": [
    "dpt.F = 4 * (dpt.fK + dpt.fBr)"
   ],
   "metadata": {
    "collapsed": false,
    "ExecuteTime": {
     "end_time": "2024-02-12T07:19:29.407194888Z",
     "start_time": "2024-02-12T07:19:29.393305014Z"
    }
   },
   "id": "a10597def91c871a",
   "execution_count": 48
  },
  {
   "cell_type": "code",
   "outputs": [
    {
     "ename": "TypeError",
     "evalue": "loop of ufunc does not support argument 0 of type float which has no callable cos method",
     "output_type": "error",
     "traceback": [
      "\u001B[0;31m---------------------------------------------------------------------------\u001B[0m",
      "\u001B[0;31mAttributeError\u001B[0m                            Traceback (most recent call last)",
      "\u001B[0;31mAttributeError\u001B[0m: 'float' object has no attribute 'cos'",
      "\nThe above exception was the direct cause of the following exception:\n",
      "\u001B[0;31mTypeError\u001B[0m                                 Traceback (most recent call last)",
      "Cell \u001B[0;32mIn[49], line 1\u001B[0m\n\u001B[0;32m----> 1\u001B[0m dpt\u001B[38;5;241m.\u001B[39mI \u001B[38;5;241m=\u001B[39m dpt\u001B[38;5;241m.\u001B[39mF2 \u001B[38;5;241m*\u001B[39m dpt\u001B[38;5;241m.\u001B[39mp \u001B[38;5;241m*\u001B[39m (\u001B[38;5;241m1\u001B[39m \u001B[38;5;241m+\u001B[39m \u001B[43mnp\u001B[49m\u001B[38;5;241;43m.\u001B[39;49m\u001B[43mcos\u001B[49m\u001B[43m(\u001B[49m\u001B[43mdpt\u001B[49m\u001B[38;5;241;43m.\u001B[39;49m\u001B[43mtheta2\u001B[49m\u001B[43m)\u001B[49m \u001B[38;5;241m*\u001B[39m\u001B[38;5;241m*\u001B[39m \u001B[38;5;241m2\u001B[39m) \u001B[38;5;241m/\u001B[39m (np\u001B[38;5;241m.\u001B[39msin(dpt\u001B[38;5;241m.\u001B[39mtheta) \u001B[38;5;241m*\u001B[39m\u001B[38;5;241m*\u001B[39m \u001B[38;5;241m2\u001B[39m \u001B[38;5;241m*\u001B[39m np\u001B[38;5;241m.\u001B[39mcos(dpt\u001B[38;5;241m.\u001B[39mtheta))\n",
      "File \u001B[0;32m~/.local/lib/python3.10/site-packages/pandas/core/generic.py:2016\u001B[0m, in \u001B[0;36mNDFrame.__array_ufunc__\u001B[0;34m(self, ufunc, method, *inputs, **kwargs)\u001B[0m\n\u001B[1;32m   2012\u001B[0m \u001B[38;5;129m@final\u001B[39m\n\u001B[1;32m   2013\u001B[0m \u001B[38;5;28;01mdef\u001B[39;00m \u001B[38;5;21m__array_ufunc__\u001B[39m(\n\u001B[1;32m   2014\u001B[0m     \u001B[38;5;28mself\u001B[39m, ufunc: np\u001B[38;5;241m.\u001B[39mufunc, method: \u001B[38;5;28mstr\u001B[39m, \u001B[38;5;241m*\u001B[39minputs: Any, \u001B[38;5;241m*\u001B[39m\u001B[38;5;241m*\u001B[39mkwargs: Any\n\u001B[1;32m   2015\u001B[0m ):\n\u001B[0;32m-> 2016\u001B[0m     \u001B[38;5;28;01mreturn\u001B[39;00m \u001B[43marraylike\u001B[49m\u001B[38;5;241;43m.\u001B[39;49m\u001B[43marray_ufunc\u001B[49m\u001B[43m(\u001B[49m\u001B[38;5;28;43mself\u001B[39;49m\u001B[43m,\u001B[49m\u001B[43m \u001B[49m\u001B[43mufunc\u001B[49m\u001B[43m,\u001B[49m\u001B[43m \u001B[49m\u001B[43mmethod\u001B[49m\u001B[43m,\u001B[49m\u001B[43m \u001B[49m\u001B[38;5;241;43m*\u001B[39;49m\u001B[43minputs\u001B[49m\u001B[43m,\u001B[49m\u001B[43m \u001B[49m\u001B[38;5;241;43m*\u001B[39;49m\u001B[38;5;241;43m*\u001B[39;49m\u001B[43mkwargs\u001B[49m\u001B[43m)\u001B[49m\n",
      "File \u001B[0;32m~/.local/lib/python3.10/site-packages/pandas/core/arraylike.py:396\u001B[0m, in \u001B[0;36marray_ufunc\u001B[0;34m(self, ufunc, method, *inputs, **kwargs)\u001B[0m\n\u001B[1;32m    393\u001B[0m \u001B[38;5;28;01melif\u001B[39;00m \u001B[38;5;28mself\u001B[39m\u001B[38;5;241m.\u001B[39mndim \u001B[38;5;241m==\u001B[39m \u001B[38;5;241m1\u001B[39m:\n\u001B[1;32m    394\u001B[0m     \u001B[38;5;66;03m# ufunc(series, ...)\u001B[39;00m\n\u001B[1;32m    395\u001B[0m     inputs \u001B[38;5;241m=\u001B[39m \u001B[38;5;28mtuple\u001B[39m(extract_array(x, extract_numpy\u001B[38;5;241m=\u001B[39m\u001B[38;5;28;01mTrue\u001B[39;00m) \u001B[38;5;28;01mfor\u001B[39;00m x \u001B[38;5;129;01min\u001B[39;00m inputs)\n\u001B[0;32m--> 396\u001B[0m     result \u001B[38;5;241m=\u001B[39m \u001B[38;5;28;43mgetattr\u001B[39;49m\u001B[43m(\u001B[49m\u001B[43mufunc\u001B[49m\u001B[43m,\u001B[49m\u001B[43m \u001B[49m\u001B[43mmethod\u001B[49m\u001B[43m)\u001B[49m\u001B[43m(\u001B[49m\u001B[38;5;241;43m*\u001B[39;49m\u001B[43minputs\u001B[49m\u001B[43m,\u001B[49m\u001B[43m \u001B[49m\u001B[38;5;241;43m*\u001B[39;49m\u001B[38;5;241;43m*\u001B[39;49m\u001B[43mkwargs\u001B[49m\u001B[43m)\u001B[49m\n\u001B[1;32m    397\u001B[0m \u001B[38;5;28;01melse\u001B[39;00m:\n\u001B[1;32m    398\u001B[0m     \u001B[38;5;66;03m# ufunc(dataframe)\u001B[39;00m\n\u001B[1;32m    399\u001B[0m     \u001B[38;5;28;01mif\u001B[39;00m method \u001B[38;5;241m==\u001B[39m \u001B[38;5;124m\"\u001B[39m\u001B[38;5;124m__call__\u001B[39m\u001B[38;5;124m\"\u001B[39m \u001B[38;5;129;01mand\u001B[39;00m \u001B[38;5;129;01mnot\u001B[39;00m kwargs:\n\u001B[1;32m    400\u001B[0m         \u001B[38;5;66;03m# for np.<ufunc>(..) calls\u001B[39;00m\n\u001B[1;32m    401\u001B[0m         \u001B[38;5;66;03m# kwargs cannot necessarily be handled block-by-block, so only\u001B[39;00m\n\u001B[1;32m    402\u001B[0m         \u001B[38;5;66;03m# take this path if there are no kwargs\u001B[39;00m\n",
      "\u001B[0;31mTypeError\u001B[0m: loop of ufunc does not support argument 0 of type float which has no callable cos method"
     ]
    }
   ],
   "source": [
    "dpt.I = dpt.F2 * dpt.p * (1 + np.cos(dpt.theta2) ** 2) / (np.sin(dpt.theta) ** 2 * np.cos(dpt.theta))"
   ],
   "metadata": {
    "collapsed": false,
    "ExecuteTime": {
     "end_time": "2024-02-12T07:19:30.688009345Z",
     "start_time": "2024-02-12T07:19:30.535226885Z"
    }
   },
   "id": "7aa60743d79fabb6",
   "execution_count": 49
  }
 ],
 "metadata": {
  "kernelspec": {
   "display_name": "Python 3",
   "language": "python",
   "name": "python3"
  },
  "language_info": {
   "codemirror_mode": {
    "name": "ipython",
    "version": 2
   },
   "file_extension": ".py",
   "mimetype": "text/x-python",
   "name": "python",
   "nbconvert_exporter": "python",
   "pygments_lexer": "ipython2",
   "version": "2.7.6"
  }
 },
 "nbformat": 4,
 "nbformat_minor": 5
}

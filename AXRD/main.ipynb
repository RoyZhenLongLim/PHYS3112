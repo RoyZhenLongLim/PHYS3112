{
 "cells": [
  {
   "cell_type": "code",
   "execution_count": 2,
   "id": "initial_id",
   "metadata": {
    "collapsed": true,
    "ExecuteTime": {
     "end_time": "2024-02-19T10:41:28.598972Z",
     "start_time": "2024-02-19T10:41:28.264742Z"
    }
   },
   "outputs": [],
   "source": [
    "import pandas as pd\n",
    "import numpy as np"
   ]
  },
  {
   "cell_type": "markdown",
   "source": [
    "# Q1"
   ],
   "metadata": {
    "collapsed": false
   },
   "id": "91e5dbf5ec997ebc"
  },
  {
   "cell_type": "code",
   "execution_count": 13,
   "outputs": [
    {
     "name": "stdout",
     "output_type": "stream",
     "text": [
      "13.262676008304844\n",
      "19.47122063449069\n",
      "24.094842552110705\n",
      "26.56505117707799\n"
     ]
    }
   ],
   "source": [
    "planes = [\n",
    "    [1, 3 ,3],\n",
    "    [2, 4, 4],\n",
    "    [2, 2, 4],\n",
    "    [2, 0, 4]\n",
    "]\n",
    "for (h, k, l) in planes:\n",
    "    print(\n",
    "        np.degrees(np.arcsin(h / np.sqrt(h ** 2 + k ** 2 + l** 2)))\n",
    "    )"
   ],
   "metadata": {
    "collapsed": false,
    "ExecuteTime": {
     "end_time": "2024-02-13T00:20:18.791111640Z",
     "start_time": "2024-02-13T00:20:18.767490851Z"
    }
   },
   "id": "9ecad27a7b0068f5"
  },
  {
   "cell_type": "markdown",
   "source": [
    "# Q3"
   ],
   "metadata": {
    "collapsed": false
   },
   "id": "8c8c859577830504"
  },
  {
   "cell_type": "code",
   "outputs": [
    {
     "name": "stdout",
     "output_type": "stream",
     "text": [
      "(1, 0, 0) 1.54e-10 7.80\n",
      "(1, 0, 0) 1.39e-10 7.04\n",
      "(2, 0, 0) 1.54e-10 15.45\n",
      "(2, 0, 0) 1.39e-10 13.98\n",
      "(3, 0, 0) 1.54e-10 22.82\n",
      "(3, 0, 0) 1.39e-10 20.70\n",
      "(4, 0, 0) 1.54e-10 29.76\n",
      "(4, 0, 0) 1.39e-10 27.11\n",
      "(1, 1, 0) 1.54e-10 10.99\n",
      "(1, 1, 0) 1.39e-10 9.93\n",
      "(2, 2, 0) 1.54e-10 21.58\n",
      "(2, 2, 0) 1.39e-10 19.57\n",
      "(3, 3, 0) 1.54e-10 31.36\n",
      "(3, 3, 0) 1.39e-10 28.61\n",
      "(4, 4, 0) 1.54e-10 39.98\n",
      "(4, 4, 0) 1.39e-10 36.78\n",
      "(1, 1, 1) 1.54e-10 13.42\n",
      "(1, 1, 1) 1.39e-10 12.14\n",
      "(2, 2, 2) 1.54e-10 26.10\n",
      "(2, 2, 2) 1.39e-10 23.72\n",
      "(3, 3, 3) 1.54e-10 37.32\n",
      "(3, 3, 3) 1.39e-10 34.23\n",
      "(4, 4, 4) 1.54e-10 46.47\n",
      "(4, 4, 4) 1.39e-10 43.19\n"
     ]
    }
   ],
   "source": [
    "a = 5.64e-10\n",
    "k_alpha = 1.54e-10\n",
    "k_beta = 1.39e-10\n",
    "planes = [\n",
    "    (1, 0, 0),\n",
    "    (2, 0, 0),\n",
    "    (3, 0, 0),\n",
    "    (4, 0, 0),\n",
    "    (1, 1, 0),\n",
    "    (2, 2, 0),\n",
    "    (3, 3, 0),\n",
    "    (4, 4, 0),\n",
    "    (1, 1, 1),\n",
    "    (2, 2, 2),\n",
    "    (3, 3, 3),\n",
    "    (4, 4, 4),\n",
    "    \n",
    "]\n",
    "for (h, k, l) in planes:\n",
    "    for wavelength in [k_alpha, k_beta]:\n",
    "        print(\n",
    "            (h, k, l),\n",
    "            wavelength, \n",
    "            f'{np.degrees(np.sin(wavelength / 2 * np.sqrt(h**2 + k**2 + l**2)/ a)):.2f}'\n",
    "        )\n",
    "    "
   ],
   "metadata": {
    "collapsed": false,
    "ExecuteTime": {
     "end_time": "2024-02-19T10:43:15.649015Z",
     "start_time": "2024-02-19T10:43:15.641940Z"
    }
   },
   "id": "35b31f9c8a54d98f",
   "execution_count": 10
  },
  {
   "cell_type": "markdown",
   "source": [
    "# Q5 "
   ],
   "metadata": {
    "collapsed": false
   },
   "id": "bda3512f90b8b5f4"
  },
  {
   "cell_type": "code",
   "outputs": [],
   "source": [
    "columns = [\"Line\", \"h\", \"k\", \"l\", \"theta2\", \"theta\", \"sin(theta)/lambda\", \"fK\", \"fBr\", \"sign\", \"F\", \"F2\", \"p\", \"Lp\", \"I\", \"Thy\", \"Exp\"]"
   ],
   "metadata": {
    "collapsed": false,
    "ExecuteTime": {
     "end_time": "2024-02-13T00:14:35.231244036Z",
     "start_time": "2024-02-13T00:14:35.224282227Z"
    }
   },
   "id": "ccb40e3ad4d3a7a0",
   "execution_count": 3
  },
  {
   "cell_type": "code",
   "outputs": [],
   "source": [
    "dpt = pd.DataFrame(columns=columns)"
   ],
   "metadata": {
    "collapsed": false,
    "ExecuteTime": {
     "end_time": "2024-02-13T00:14:36.556304686Z",
     "start_time": "2024-02-13T00:14:36.543900652Z"
    }
   },
   "id": "2f8e709ed3f6ca",
   "execution_count": 4
  },
  {
   "cell_type": "code",
   "outputs": [],
   "source": [
    "dpt.Line = [i for i in range(1, 12 + 1)]"
   ],
   "metadata": {
    "collapsed": false,
    "ExecuteTime": {
     "end_time": "2024-02-13T00:14:37.221781805Z",
     "start_time": "2024-02-13T00:14:37.210763654Z"
    }
   },
   "id": "91013e1c248ae99c",
   "execution_count": 5
  },
  {
   "cell_type": "code",
   "outputs": [],
   "source": [
    "dpt.h = [1, 2, 2, 3, 2, 4, 3, 4, 4, 3, 4, 6]\n",
    "dpt.k = [1, 0, 2, 1, 2, 0, 3, 2, 2, 3, 4, 0]\n",
    "dpt.l = [1, 0, 0, 1, 2, 0, 1, 0, 2, 3, 0, 0]"
   ],
   "metadata": {
    "collapsed": false,
    "ExecuteTime": {
     "end_time": "2024-02-13T00:14:37.835346323Z",
     "start_time": "2024-02-13T00:14:37.826894186Z"
    }
   },
   "id": "3fd4b3796cdc245",
   "execution_count": 6
  },
  {
   "cell_type": "code",
   "outputs": [],
   "source": [
    "# TODO: Add data here"
   ],
   "metadata": {
    "collapsed": false,
    "ExecuteTime": {
     "end_time": "2024-02-12T07:05:01.981219144Z",
     "start_time": "2024-02-12T07:05:01.979152258Z"
    }
   },
   "id": "de2d2ef81531c08e",
   "execution_count": 14
  },
  {
   "cell_type": "code",
   "outputs": [
    {
     "data": {
      "text/plain": "    Line  h  k  l theta2 theta sin(theta)/lambda   fK  fBr sign    F   F2  \\\n0      1  1  1  1    NaN   NaN               NaN  NaN  NaN  NaN  NaN  NaN   \n1      2  2  0  0    NaN   NaN               NaN  NaN  NaN  NaN  NaN  NaN   \n2      3  2  2  0    NaN   NaN               NaN  NaN  NaN  NaN  NaN  NaN   \n3      4  3  1  1    NaN   NaN               NaN  NaN  NaN  NaN  NaN  NaN   \n4      5  2  2  2    NaN   NaN               NaN  NaN  NaN  NaN  NaN  NaN   \n5      6  4  0  0    NaN   NaN               NaN  NaN  NaN  NaN  NaN  NaN   \n6      7  3  3  1    NaN   NaN               NaN  NaN  NaN  NaN  NaN  NaN   \n7      8  4  2  0    NaN   NaN               NaN  NaN  NaN  NaN  NaN  NaN   \n8      9  4  2  2    NaN   NaN               NaN  NaN  NaN  NaN  NaN  NaN   \n9     10  3  3  3    NaN   NaN               NaN  NaN  NaN  NaN  NaN  NaN   \n10    11  4  4  0    NaN   NaN               NaN  NaN  NaN  NaN  NaN  NaN   \n11    12  6  0  0    NaN   NaN               NaN  NaN  NaN  NaN  NaN  NaN   \n\n      p   Lp    I  Thy  Exp  \n0   NaN  NaN  NaN  NaN  NaN  \n1   NaN  NaN  NaN  NaN  NaN  \n2   NaN  NaN  NaN  NaN  NaN  \n3   NaN  NaN  NaN  NaN  NaN  \n4   NaN  NaN  NaN  NaN  NaN  \n5   NaN  NaN  NaN  NaN  NaN  \n6   NaN  NaN  NaN  NaN  NaN  \n7   NaN  NaN  NaN  NaN  NaN  \n8   NaN  NaN  NaN  NaN  NaN  \n9   NaN  NaN  NaN  NaN  NaN  \n10  NaN  NaN  NaN  NaN  NaN  \n11  NaN  NaN  NaN  NaN  NaN  ",
      "text/html": "<div>\n<style scoped>\n    .dataframe tbody tr th:only-of-type {\n        vertical-align: middle;\n    }\n\n    .dataframe tbody tr th {\n        vertical-align: top;\n    }\n\n    .dataframe thead th {\n        text-align: right;\n    }\n</style>\n<table border=\"1\" class=\"dataframe\">\n  <thead>\n    <tr style=\"text-align: right;\">\n      <th></th>\n      <th>Line</th>\n      <th>h</th>\n      <th>k</th>\n      <th>l</th>\n      <th>theta2</th>\n      <th>theta</th>\n      <th>sin(theta)/lambda</th>\n      <th>fK</th>\n      <th>fBr</th>\n      <th>sign</th>\n      <th>F</th>\n      <th>F2</th>\n      <th>p</th>\n      <th>Lp</th>\n      <th>I</th>\n      <th>Thy</th>\n      <th>Exp</th>\n    </tr>\n  </thead>\n  <tbody>\n    <tr>\n      <th>0</th>\n      <td>1</td>\n      <td>1</td>\n      <td>1</td>\n      <td>1</td>\n      <td>NaN</td>\n      <td>NaN</td>\n      <td>NaN</td>\n      <td>NaN</td>\n      <td>NaN</td>\n      <td>NaN</td>\n      <td>NaN</td>\n      <td>NaN</td>\n      <td>NaN</td>\n      <td>NaN</td>\n      <td>NaN</td>\n      <td>NaN</td>\n      <td>NaN</td>\n    </tr>\n    <tr>\n      <th>1</th>\n      <td>2</td>\n      <td>2</td>\n      <td>0</td>\n      <td>0</td>\n      <td>NaN</td>\n      <td>NaN</td>\n      <td>NaN</td>\n      <td>NaN</td>\n      <td>NaN</td>\n      <td>NaN</td>\n      <td>NaN</td>\n      <td>NaN</td>\n      <td>NaN</td>\n      <td>NaN</td>\n      <td>NaN</td>\n      <td>NaN</td>\n      <td>NaN</td>\n    </tr>\n    <tr>\n      <th>2</th>\n      <td>3</td>\n      <td>2</td>\n      <td>2</td>\n      <td>0</td>\n      <td>NaN</td>\n      <td>NaN</td>\n      <td>NaN</td>\n      <td>NaN</td>\n      <td>NaN</td>\n      <td>NaN</td>\n      <td>NaN</td>\n      <td>NaN</td>\n      <td>NaN</td>\n      <td>NaN</td>\n      <td>NaN</td>\n      <td>NaN</td>\n      <td>NaN</td>\n    </tr>\n    <tr>\n      <th>3</th>\n      <td>4</td>\n      <td>3</td>\n      <td>1</td>\n      <td>1</td>\n      <td>NaN</td>\n      <td>NaN</td>\n      <td>NaN</td>\n      <td>NaN</td>\n      <td>NaN</td>\n      <td>NaN</td>\n      <td>NaN</td>\n      <td>NaN</td>\n      <td>NaN</td>\n      <td>NaN</td>\n      <td>NaN</td>\n      <td>NaN</td>\n      <td>NaN</td>\n    </tr>\n    <tr>\n      <th>4</th>\n      <td>5</td>\n      <td>2</td>\n      <td>2</td>\n      <td>2</td>\n      <td>NaN</td>\n      <td>NaN</td>\n      <td>NaN</td>\n      <td>NaN</td>\n      <td>NaN</td>\n      <td>NaN</td>\n      <td>NaN</td>\n      <td>NaN</td>\n      <td>NaN</td>\n      <td>NaN</td>\n      <td>NaN</td>\n      <td>NaN</td>\n      <td>NaN</td>\n    </tr>\n    <tr>\n      <th>5</th>\n      <td>6</td>\n      <td>4</td>\n      <td>0</td>\n      <td>0</td>\n      <td>NaN</td>\n      <td>NaN</td>\n      <td>NaN</td>\n      <td>NaN</td>\n      <td>NaN</td>\n      <td>NaN</td>\n      <td>NaN</td>\n      <td>NaN</td>\n      <td>NaN</td>\n      <td>NaN</td>\n      <td>NaN</td>\n      <td>NaN</td>\n      <td>NaN</td>\n    </tr>\n    <tr>\n      <th>6</th>\n      <td>7</td>\n      <td>3</td>\n      <td>3</td>\n      <td>1</td>\n      <td>NaN</td>\n      <td>NaN</td>\n      <td>NaN</td>\n      <td>NaN</td>\n      <td>NaN</td>\n      <td>NaN</td>\n      <td>NaN</td>\n      <td>NaN</td>\n      <td>NaN</td>\n      <td>NaN</td>\n      <td>NaN</td>\n      <td>NaN</td>\n      <td>NaN</td>\n    </tr>\n    <tr>\n      <th>7</th>\n      <td>8</td>\n      <td>4</td>\n      <td>2</td>\n      <td>0</td>\n      <td>NaN</td>\n      <td>NaN</td>\n      <td>NaN</td>\n      <td>NaN</td>\n      <td>NaN</td>\n      <td>NaN</td>\n      <td>NaN</td>\n      <td>NaN</td>\n      <td>NaN</td>\n      <td>NaN</td>\n      <td>NaN</td>\n      <td>NaN</td>\n      <td>NaN</td>\n    </tr>\n    <tr>\n      <th>8</th>\n      <td>9</td>\n      <td>4</td>\n      <td>2</td>\n      <td>2</td>\n      <td>NaN</td>\n      <td>NaN</td>\n      <td>NaN</td>\n      <td>NaN</td>\n      <td>NaN</td>\n      <td>NaN</td>\n      <td>NaN</td>\n      <td>NaN</td>\n      <td>NaN</td>\n      <td>NaN</td>\n      <td>NaN</td>\n      <td>NaN</td>\n      <td>NaN</td>\n    </tr>\n    <tr>\n      <th>9</th>\n      <td>10</td>\n      <td>3</td>\n      <td>3</td>\n      <td>3</td>\n      <td>NaN</td>\n      <td>NaN</td>\n      <td>NaN</td>\n      <td>NaN</td>\n      <td>NaN</td>\n      <td>NaN</td>\n      <td>NaN</td>\n      <td>NaN</td>\n      <td>NaN</td>\n      <td>NaN</td>\n      <td>NaN</td>\n      <td>NaN</td>\n      <td>NaN</td>\n    </tr>\n    <tr>\n      <th>10</th>\n      <td>11</td>\n      <td>4</td>\n      <td>4</td>\n      <td>0</td>\n      <td>NaN</td>\n      <td>NaN</td>\n      <td>NaN</td>\n      <td>NaN</td>\n      <td>NaN</td>\n      <td>NaN</td>\n      <td>NaN</td>\n      <td>NaN</td>\n      <td>NaN</td>\n      <td>NaN</td>\n      <td>NaN</td>\n      <td>NaN</td>\n      <td>NaN</td>\n    </tr>\n    <tr>\n      <th>11</th>\n      <td>12</td>\n      <td>6</td>\n      <td>0</td>\n      <td>0</td>\n      <td>NaN</td>\n      <td>NaN</td>\n      <td>NaN</td>\n      <td>NaN</td>\n      <td>NaN</td>\n      <td>NaN</td>\n      <td>NaN</td>\n      <td>NaN</td>\n      <td>NaN</td>\n      <td>NaN</td>\n      <td>NaN</td>\n      <td>NaN</td>\n      <td>NaN</td>\n    </tr>\n  </tbody>\n</table>\n</div>"
     },
     "execution_count": 7,
     "metadata": {},
     "output_type": "execute_result"
    }
   ],
   "source": [
    "dpt"
   ],
   "metadata": {
    "collapsed": false,
    "ExecuteTime": {
     "end_time": "2024-02-13T00:14:39.168695907Z",
     "start_time": "2024-02-13T00:14:39.120569158Z"
    }
   },
   "id": "20908d5d0cea2032",
   "execution_count": 7
  },
  {
   "cell_type": "markdown",
   "source": [
    "Transform data"
   ],
   "metadata": {
    "collapsed": false
   },
   "id": "fb6fc903bb2392ec"
  },
  {
   "cell_type": "code",
   "outputs": [],
   "source": [
    "dpt.theta = dpt.theta2 / 2"
   ],
   "metadata": {
    "collapsed": false,
    "ExecuteTime": {
     "end_time": "2024-02-13T00:14:46.140183343Z",
     "start_time": "2024-02-13T00:14:46.134111135Z"
    }
   },
   "id": "41eb259b4336fa1c",
   "execution_count": 8
  },
  {
   "cell_type": "code",
   "outputs": [],
   "source": [
    "# sign is + if h + k + l is even, - otherwise\n",
    "dpt.sign = (dpt[[\"h\", \"k\", \"l\"]].sum(axis=1) % 2 == 0).map({True: \"+\", False: \"-\"})"
   ],
   "metadata": {
    "collapsed": false,
    "ExecuteTime": {
     "end_time": "2024-02-13T00:14:46.912182497Z",
     "start_time": "2024-02-13T00:14:46.905352695Z"
    }
   },
   "id": "f981e8d025210f24",
   "execution_count": 9
  },
  {
   "cell_type": "code",
   "outputs": [],
   "source": [
    "dpt.F = 4 * (dpt.fK + dpt.fBr)"
   ],
   "metadata": {
    "collapsed": false,
    "ExecuteTime": {
     "end_time": "2024-02-13T00:14:47.474204153Z",
     "start_time": "2024-02-13T00:14:47.466737997Z"
    }
   },
   "id": "a10597def91c871a",
   "execution_count": 10
  },
  {
   "cell_type": "code",
   "outputs": [
    {
     "ename": "TypeError",
     "evalue": "loop of ufunc does not support argument 0 of type float which has no callable cos method",
     "output_type": "error",
     "traceback": [
      "\u001B[0;31m---------------------------------------------------------------------------\u001B[0m",
      "\u001B[0;31mAttributeError\u001B[0m                            Traceback (most recent call last)",
      "\u001B[0;31mAttributeError\u001B[0m: 'float' object has no attribute 'cos'",
      "\nThe above exception was the direct cause of the following exception:\n",
      "\u001B[0;31mTypeError\u001B[0m                                 Traceback (most recent call last)",
      "Cell \u001B[0;32mIn[11], line 1\u001B[0m\n\u001B[0;32m----> 1\u001B[0m dpt\u001B[38;5;241m.\u001B[39mI \u001B[38;5;241m=\u001B[39m dpt\u001B[38;5;241m.\u001B[39mF2 \u001B[38;5;241m*\u001B[39m dpt\u001B[38;5;241m.\u001B[39mp \u001B[38;5;241m*\u001B[39m (\u001B[38;5;241m1\u001B[39m \u001B[38;5;241m+\u001B[39m \u001B[43mnp\u001B[49m\u001B[38;5;241;43m.\u001B[39;49m\u001B[43mcos\u001B[49m\u001B[43m(\u001B[49m\u001B[43mdpt\u001B[49m\u001B[38;5;241;43m.\u001B[39;49m\u001B[43mtheta2\u001B[49m\u001B[43m)\u001B[49m \u001B[38;5;241m*\u001B[39m\u001B[38;5;241m*\u001B[39m \u001B[38;5;241m2\u001B[39m) \u001B[38;5;241m/\u001B[39m (np\u001B[38;5;241m.\u001B[39msin(dpt\u001B[38;5;241m.\u001B[39mtheta) \u001B[38;5;241m*\u001B[39m\u001B[38;5;241m*\u001B[39m \u001B[38;5;241m2\u001B[39m \u001B[38;5;241m*\u001B[39m np\u001B[38;5;241m.\u001B[39mcos(dpt\u001B[38;5;241m.\u001B[39mtheta))\n",
      "File \u001B[0;32m~/DataspellProjects/PHYS3112/venv/lib/python3.10/site-packages/pandas/core/generic.py:2168\u001B[0m, in \u001B[0;36mNDFrame.__array_ufunc__\u001B[0;34m(self, ufunc, method, *inputs, **kwargs)\u001B[0m\n\u001B[1;32m   2164\u001B[0m \u001B[38;5;129m@final\u001B[39m\n\u001B[1;32m   2165\u001B[0m \u001B[38;5;28;01mdef\u001B[39;00m \u001B[38;5;21m__array_ufunc__\u001B[39m(\n\u001B[1;32m   2166\u001B[0m     \u001B[38;5;28mself\u001B[39m, ufunc: np\u001B[38;5;241m.\u001B[39mufunc, method: \u001B[38;5;28mstr\u001B[39m, \u001B[38;5;241m*\u001B[39minputs: Any, \u001B[38;5;241m*\u001B[39m\u001B[38;5;241m*\u001B[39mkwargs: Any\n\u001B[1;32m   2167\u001B[0m ):\n\u001B[0;32m-> 2168\u001B[0m     \u001B[38;5;28;01mreturn\u001B[39;00m \u001B[43marraylike\u001B[49m\u001B[38;5;241;43m.\u001B[39;49m\u001B[43marray_ufunc\u001B[49m\u001B[43m(\u001B[49m\u001B[38;5;28;43mself\u001B[39;49m\u001B[43m,\u001B[49m\u001B[43m \u001B[49m\u001B[43mufunc\u001B[49m\u001B[43m,\u001B[49m\u001B[43m \u001B[49m\u001B[43mmethod\u001B[49m\u001B[43m,\u001B[49m\u001B[43m \u001B[49m\u001B[38;5;241;43m*\u001B[39;49m\u001B[43minputs\u001B[49m\u001B[43m,\u001B[49m\u001B[43m \u001B[49m\u001B[38;5;241;43m*\u001B[39;49m\u001B[38;5;241;43m*\u001B[39;49m\u001B[43mkwargs\u001B[49m\u001B[43m)\u001B[49m\n",
      "File \u001B[0;32m~/DataspellProjects/PHYS3112/venv/lib/python3.10/site-packages/pandas/core/arraylike.py:399\u001B[0m, in \u001B[0;36marray_ufunc\u001B[0;34m(self, ufunc, method, *inputs, **kwargs)\u001B[0m\n\u001B[1;32m    396\u001B[0m \u001B[38;5;28;01melif\u001B[39;00m \u001B[38;5;28mself\u001B[39m\u001B[38;5;241m.\u001B[39mndim \u001B[38;5;241m==\u001B[39m \u001B[38;5;241m1\u001B[39m:\n\u001B[1;32m    397\u001B[0m     \u001B[38;5;66;03m# ufunc(series, ...)\u001B[39;00m\n\u001B[1;32m    398\u001B[0m     inputs \u001B[38;5;241m=\u001B[39m \u001B[38;5;28mtuple\u001B[39m(extract_array(x, extract_numpy\u001B[38;5;241m=\u001B[39m\u001B[38;5;28;01mTrue\u001B[39;00m) \u001B[38;5;28;01mfor\u001B[39;00m x \u001B[38;5;129;01min\u001B[39;00m inputs)\n\u001B[0;32m--> 399\u001B[0m     result \u001B[38;5;241m=\u001B[39m \u001B[38;5;28;43mgetattr\u001B[39;49m\u001B[43m(\u001B[49m\u001B[43mufunc\u001B[49m\u001B[43m,\u001B[49m\u001B[43m \u001B[49m\u001B[43mmethod\u001B[49m\u001B[43m)\u001B[49m\u001B[43m(\u001B[49m\u001B[38;5;241;43m*\u001B[39;49m\u001B[43minputs\u001B[49m\u001B[43m,\u001B[49m\u001B[43m \u001B[49m\u001B[38;5;241;43m*\u001B[39;49m\u001B[38;5;241;43m*\u001B[39;49m\u001B[43mkwargs\u001B[49m\u001B[43m)\u001B[49m\n\u001B[1;32m    400\u001B[0m \u001B[38;5;28;01melse\u001B[39;00m:\n\u001B[1;32m    401\u001B[0m     \u001B[38;5;66;03m# ufunc(dataframe)\u001B[39;00m\n\u001B[1;32m    402\u001B[0m     \u001B[38;5;28;01mif\u001B[39;00m method \u001B[38;5;241m==\u001B[39m \u001B[38;5;124m\"\u001B[39m\u001B[38;5;124m__call__\u001B[39m\u001B[38;5;124m\"\u001B[39m \u001B[38;5;129;01mand\u001B[39;00m \u001B[38;5;129;01mnot\u001B[39;00m kwargs:\n\u001B[1;32m    403\u001B[0m         \u001B[38;5;66;03m# for np.<ufunc>(..) calls\u001B[39;00m\n\u001B[1;32m    404\u001B[0m         \u001B[38;5;66;03m# kwargs cannot necessarily be handled block-by-block, so only\u001B[39;00m\n\u001B[1;32m    405\u001B[0m         \u001B[38;5;66;03m# take this path if there are no kwargs\u001B[39;00m\n",
      "\u001B[0;31mTypeError\u001B[0m: loop of ufunc does not support argument 0 of type float which has no callable cos method"
     ]
    }
   ],
   "source": [
    "dpt.I = dpt.F2 * dpt.p * (1 + np.cos(dpt.theta2) ** 2) / (np.sin(dpt.theta) ** 2 * np.cos(dpt.theta))"
   ],
   "metadata": {
    "collapsed": false,
    "ExecuteTime": {
     "end_time": "2024-02-13T00:14:48.638071308Z",
     "start_time": "2024-02-13T00:14:48.089925716Z"
    }
   },
   "id": "7aa60743d79fabb6",
   "execution_count": 11
  }
 ],
 "metadata": {
  "kernelspec": {
   "display_name": "Python 3",
   "language": "python",
   "name": "python3"
  },
  "language_info": {
   "codemirror_mode": {
    "name": "ipython",
    "version": 2
   },
   "file_extension": ".py",
   "mimetype": "text/x-python",
   "name": "python",
   "nbconvert_exporter": "python",
   "pygments_lexer": "ipython2",
   "version": "2.7.6"
  }
 },
 "nbformat": 4,
 "nbformat_minor": 5
}

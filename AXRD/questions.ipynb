{
 "cells": [
  {
   "cell_type": "code",
   "execution_count": 139,
   "id": "initial_id",
   "metadata": {
    "ExecuteTime": {
     "end_time": "2024-03-05T05:05:36.330562Z",
     "start_time": "2024-03-05T05:05:36.326940Z"
    },
    "collapsed": true
   },
   "outputs": [],
   "source": [
    "import pandas as pd\n",
    "import numpy as np"
   ]
  },
  {
   "cell_type": "markdown",
   "id": "16dbda9cdc301cd3",
   "metadata": {},
   "source": [
    "# Q1"
   ]
  },
  {
   "cell_type": "code",
   "execution_count": 140,
   "id": "9ecad27a7b0068f5",
   "metadata": {
    "ExecuteTime": {
     "end_time": "2024-03-05T05:05:36.525989Z",
     "start_time": "2024-03-05T05:05:36.519777Z"
    }
   },
   "outputs": [
    {
     "name": "stdout",
     "output_type": "stream",
     "text": [
      "13.262676008304844\n",
      "19.47122063449069\n",
      "24.094842552110705\n",
      "26.56505117707799\n"
     ]
    }
   ],
   "source": [
    "planes = [\n",
    "    [1, 3 ,3],\n",
    "    [2, 4, 4],\n",
    "    [2, 2, 4],\n",
    "    [2, 0, 4]\n",
    "]\n",
    "for (h, k, l) in planes:\n",
    "    print(\n",
    "        np.degrees(np.arcsin(h / np.sqrt(h ** 2 + k ** 2 + l** 2)))\n",
    "    )"
   ]
  },
  {
   "cell_type": "markdown",
   "id": "8c8c859577830504",
   "metadata": {},
   "source": [
    "# Q3"
   ]
  },
  {
   "cell_type": "code",
   "execution_count": 141,
   "id": "35b31f9c8a54d98f",
   "metadata": {
    "ExecuteTime": {
     "end_time": "2024-03-05T05:05:36.535252Z",
     "start_time": "2024-03-05T05:05:36.527848Z"
    }
   },
   "outputs": [
    {
     "name": "stdout",
     "output_type": "stream",
     "text": [
      "(1, 0, 0) 1.54e-10 7.80\n",
      "(1, 0, 0) 1.39e-10 7.04\n",
      "(2, 0, 0) 1.54e-10 15.45\n",
      "(2, 0, 0) 1.39e-10 13.98\n",
      "(3, 0, 0) 1.54e-10 22.82\n",
      "(3, 0, 0) 1.39e-10 20.70\n",
      "(4, 0, 0) 1.54e-10 29.76\n",
      "(4, 0, 0) 1.39e-10 27.11\n",
      "(1, 1, 0) 1.54e-10 10.99\n",
      "(1, 1, 0) 1.39e-10 9.93\n",
      "(2, 2, 0) 1.54e-10 21.58\n",
      "(2, 2, 0) 1.39e-10 19.57\n",
      "(3, 3, 0) 1.54e-10 31.36\n",
      "(3, 3, 0) 1.39e-10 28.61\n",
      "(4, 4, 0) 1.54e-10 39.98\n",
      "(4, 4, 0) 1.39e-10 36.78\n",
      "(1, 1, 1) 1.54e-10 13.42\n",
      "(1, 1, 1) 1.39e-10 12.14\n",
      "(2, 2, 2) 1.54e-10 26.10\n",
      "(2, 2, 2) 1.39e-10 23.72\n",
      "(3, 3, 3) 1.54e-10 37.32\n",
      "(3, 3, 3) 1.39e-10 34.23\n",
      "(4, 4, 4) 1.54e-10 46.47\n",
      "(4, 4, 4) 1.39e-10 43.19\n"
     ]
    }
   ],
   "source": [
    "a = 5.64e-10\n",
    "k_alpha = 1.54e-10\n",
    "k_beta = 1.39e-10\n",
    "planes = [\n",
    "    (1, 0, 0),\n",
    "    (2, 0, 0),\n",
    "    (3, 0, 0),\n",
    "    (4, 0, 0),\n",
    "    (1, 1, 0),\n",
    "    (2, 2, 0),\n",
    "    (3, 3, 0),\n",
    "    (4, 4, 0),\n",
    "    (1, 1, 1),\n",
    "    (2, 2, 2),\n",
    "    (3, 3, 3),\n",
    "    (4, 4, 4),\n",
    "    \n",
    "]\n",
    "for (h, k, l) in planes:\n",
    "    for wavelength in [k_alpha, k_beta]:\n",
    "        print(\n",
    "            (h, k, l),\n",
    "            wavelength, \n",
    "            f'{np.degrees(np.sin(wavelength / 2 * np.sqrt(h**2 + k**2 + l**2)/ a)):.2f}'\n",
    "        )\n",
    "    "
   ]
  },
  {
   "cell_type": "markdown",
   "id": "bda3512f90b8b5f4",
   "metadata": {},
   "source": [
    "# Q5 "
   ]
  },
  {
   "cell_type": "code",
   "execution_count": 1,
   "id": "ccb40e3ad4d3a7a0",
   "metadata": {
    "ExecuteTime": {
     "end_time": "2024-03-30T04:12:04.782795Z",
     "start_time": "2024-03-30T04:12:04.771796Z"
    }
   },
   "outputs": [],
   "source": [
    "columns = [\"Line\", \"h\", \"k\", \"l\", \"theta2\", \"theta\", \"stl\", \"fK\", \"fBr\", \"sign\", \"F\", \"F2\", \"p\", \"Lp\", \"I\", \"Thy\", \"Exp\"]"
   ]
  },
  {
   "cell_type": "code",
   "execution_count": 143,
   "id": "2f8e709ed3f6ca",
   "metadata": {
    "ExecuteTime": {
     "end_time": "2024-03-05T05:05:36.604631Z",
     "start_time": "2024-03-05T05:05:36.598761Z"
    }
   },
   "outputs": [],
   "source": [
    "dpt = pd.DataFrame(columns=columns)"
   ]
  },
  {
   "cell_type": "code",
   "execution_count": 144,
   "id": "91013e1c248ae99c",
   "metadata": {
    "ExecuteTime": {
     "end_time": "2024-03-05T05:05:36.614915Z",
     "start_time": "2024-03-05T05:05:36.606298Z"
    }
   },
   "outputs": [],
   "source": [
    "dpt.Line = [i for i in range(1, 12 + 1)]"
   ]
  },
  {
   "cell_type": "code",
   "execution_count": 145,
   "id": "3fd4b3796cdc245",
   "metadata": {
    "ExecuteTime": {
     "end_time": "2024-03-05T05:05:36.643682Z",
     "start_time": "2024-03-05T05:05:36.635932Z"
    }
   },
   "outputs": [],
   "source": [
    "dpt.h = [1, 2, 2, 3, 2, 4, 3, 4, 4, 3, 4, 6]\n",
    "dpt.k = [1, 0, 2, 1, 2, 0, 3, 2, 2, 3, 4, 0]\n",
    "dpt.l = [1, 0, 0, 1, 2, 0, 1, 0, 2, 3, 0, 0]"
   ]
  },
  {
   "cell_type": "code",
   "execution_count": 146,
   "id": "de2d2ef81531c08e",
   "metadata": {
    "ExecuteTime": {
     "end_time": "2024-03-05T05:05:36.692357Z",
     "start_time": "2024-03-05T05:05:36.686259Z"
    }
   },
   "outputs": [],
   "source": [
    "wavelength =1.540562e-10 \n",
    "dpt.theta2 = [23.35, 27.05, 38.65, 45.60, 47.80, 55.75, 61.20, 63.00, 69.80, 74.75, 82.70, 88.95]\n",
    "dpt.theta = dpt.theta2 / 2\n",
    "dpt.stl = np.sin(np.radians(dpt.theta)) / wavelength"
   ]
  },
  {
   "cell_type": "code",
   "execution_count": 160,
   "id": "b49ba3dd91c943eb",
   "metadata": {
    "ExecuteTime": {
     "end_time": "2024-03-05T05:25:33.680994Z",
     "start_time": "2024-03-05T05:25:33.675275Z"
    }
   },
   "outputs": [
    {
     "data": {
      "text/plain": [
       "0    0.13\n",
       "1    0.15\n",
       "2    0.21\n",
       "3    0.25\n",
       "4    0.26\n",
       "5    0.30\n",
       "6    0.33\n",
       "7    0.34\n",
       "8    0.37\n",
       "9    0.39\n",
       "10   0.43\n",
       "11   0.45\n",
       "Name: stl, dtype: float64"
      ]
     },
     "execution_count": 160,
     "metadata": {},
     "output_type": "execute_result"
    }
   ],
   "source": [
    "dpt.stl / 1e10"
   ]
  },
  {
   "cell_type": "code",
   "execution_count": 147,
   "id": "b85fe4cd9c38ce3a",
   "metadata": {
    "ExecuteTime": {
     "end_time": "2024-03-05T05:05:36.715920Z",
     "start_time": "2024-03-05T05:05:36.710139Z"
    }
   },
   "outputs": [],
   "source": [
    "dpt.fK = [14.519, 15.297, 13.150, 12.275, 11.997, 10.972, 10.515, 10.097, 9.369, 9.056, 8.518, 8.399 ]\n",
    "dpt.fBr = [26.548, 26.099, 23.622, 22.606, 22.261, 19.832, 19.146, 18.469, 17.157, 16.528, 15.332, 15.046]"
   ]
  },
  {
   "cell_type": "code",
   "execution_count": 148,
   "id": "f981e8d025210f24",
   "metadata": {
    "ExecuteTime": {
     "end_time": "2024-03-05T05:05:36.746490Z",
     "start_time": "2024-03-05T05:05:36.739269Z"
    }
   },
   "outputs": [],
   "source": [
    "# sign is + if h + k + l is even, - otherwise\n",
    "dpt.sign = (dpt[[\"h\", \"k\", \"l\"]].sum(axis=1) % 2 == 0).map({True: 1, False: -1})"
   ]
  },
  {
   "cell_type": "code",
   "execution_count": 149,
   "id": "a10597def91c871a",
   "metadata": {
    "ExecuteTime": {
     "end_time": "2024-03-05T05:05:36.765078Z",
     "start_time": "2024-03-05T05:05:36.760077Z"
    }
   },
   "outputs": [],
   "source": [
    "dpt.F = 4 * (dpt.fK + dpt.sign * dpt.fBr)\n",
    "dpt.F2 = dpt.F ** 2"
   ]
  },
  {
   "cell_type": "code",
   "execution_count": 150,
   "id": "5d83c5d94fa287ca",
   "metadata": {
    "ExecuteTime": {
     "end_time": "2024-03-05T05:05:36.791402Z",
     "start_time": "2024-03-05T05:05:36.782079Z"
    }
   },
   "outputs": [],
   "source": [
    "dpt.Lp = (1 + np.cos(dpt.theta2)) / (np.sin(dpt.theta) ** 2 * np.cos(dpt.theta))"
   ]
  },
  {
   "cell_type": "code",
   "execution_count": 151,
   "id": "91cfe00bb759e8c1",
   "metadata": {
    "ExecuteTime": {
     "end_time": "2024-03-05T05:05:36.800041Z",
     "start_time": "2024-03-05T05:05:36.793929Z"
    }
   },
   "outputs": [],
   "source": [
    "dpt.p = [8, 6, 12, 24, 8, 6, 24, 48, 24, 8, 12, 6]"
   ]
  },
  {
   "cell_type": "code",
   "execution_count": 152,
   "id": "4d48d2e287ec86e2",
   "metadata": {
    "ExecuteTime": {
     "end_time": "2024-03-05T05:05:36.808220Z",
     "start_time": "2024-03-05T05:05:36.803665Z"
    }
   },
   "outputs": [],
   "source": [
    "dpt.I = dpt.F2 * dpt.p * dpt.Lp"
   ]
  },
  {
   "cell_type": "code",
   "execution_count": 153,
   "id": "2a94fe5207c7c63a",
   "metadata": {
    "ExecuteTime": {
     "end_time": "2024-03-05T05:05:36.816549Z",
     "start_time": "2024-03-05T05:05:36.809958Z"
    }
   },
   "outputs": [],
   "source": [
    "dpt.Lp = dpt.F2 * dpt.p * (1 + np.cos(np.radians(dpt.theta2)) ** 2) / (np.sin(np.radians(dpt.theta) ** 2 * np.cos(np.radians(dpt.theta)))) "
   ]
  },
  {
   "cell_type": "code",
   "execution_count": 154,
   "id": "cc8577467486ae79",
   "metadata": {
    "ExecuteTime": {
     "end_time": "2024-03-05T05:05:36.823027Z",
     "start_time": "2024-03-05T05:05:36.818314Z"
    }
   },
   "outputs": [],
   "source": [
    "dpt.Thy = dpt.Lp / max(dpt.Lp)"
   ]
  },
  {
   "cell_type": "code",
   "execution_count": 155,
   "id": "86fa3c610378d217",
   "metadata": {
    "ExecuteTime": {
     "end_time": "2024-03-05T05:05:36.837405Z",
     "start_time": "2024-03-05T05:05:36.832039Z"
    }
   },
   "outputs": [],
   "source": [
    "dpt.Exp = np.array([1284, 7344, 3977, 1009, 1602, 1340, 588, 1911, 1133, 521, 647, 802]) / 7344"
   ]
  },
  {
   "cell_type": "code",
   "execution_count": 156,
   "id": "dc005ca4fd2443f5",
   "metadata": {
    "ExecuteTime": {
     "end_time": "2024-03-05T05:05:36.866578Z",
     "start_time": "2024-03-05T05:05:36.854333Z"
    }
   },
   "outputs": [
    {
     "data": {
      "text/html": [
       "<div>\n",
       "<style scoped>\n",
       "    .dataframe tbody tr th:only-of-type {\n",
       "        vertical-align: middle;\n",
       "    }\n",
       "\n",
       "    .dataframe tbody tr th {\n",
       "        vertical-align: top;\n",
       "    }\n",
       "\n",
       "    .dataframe thead th {\n",
       "        text-align: right;\n",
       "    }\n",
       "</style>\n",
       "<table border=\"1\" class=\"dataframe\">\n",
       "  <thead>\n",
       "    <tr style=\"text-align: right;\">\n",
       "      <th></th>\n",
       "      <th>Line</th>\n",
       "      <th>h</th>\n",
       "      <th>k</th>\n",
       "      <th>l</th>\n",
       "      <th>theta2</th>\n",
       "      <th>theta</th>\n",
       "      <th>stl</th>\n",
       "      <th>fK</th>\n",
       "      <th>fBr</th>\n",
       "      <th>sign</th>\n",
       "      <th>F</th>\n",
       "      <th>F2</th>\n",
       "      <th>p</th>\n",
       "      <th>Lp</th>\n",
       "      <th>I</th>\n",
       "      <th>Thy</th>\n",
       "      <th>Exp</th>\n",
       "    </tr>\n",
       "  </thead>\n",
       "  <tbody>\n",
       "    <tr>\n",
       "      <th>0</th>\n",
       "      <td>1</td>\n",
       "      <td>1</td>\n",
       "      <td>1</td>\n",
       "      <td>1</td>\n",
       "      <td>23.35</td>\n",
       "      <td>11.68</td>\n",
       "      <td>1313546676.55</td>\n",
       "      <td>14.52</td>\n",
       "      <td>26.55</td>\n",
       "      <td>-1</td>\n",
       "      <td>-48.12</td>\n",
       "      <td>2315.15</td>\n",
       "      <td>8</td>\n",
       "      <td>839659.88</td>\n",
       "      <td>38460.33</td>\n",
       "      <td>0.15</td>\n",
       "      <td>0.17</td>\n",
       "    </tr>\n",
       "    <tr>\n",
       "      <th>1</th>\n",
       "      <td>2</td>\n",
       "      <td>2</td>\n",
       "      <td>0</td>\n",
       "      <td>0</td>\n",
       "      <td>27.05</td>\n",
       "      <td>13.53</td>\n",
       "      <td>1518079882.77</td>\n",
       "      <td>15.30</td>\n",
       "      <td>26.10</td>\n",
       "      <td>1</td>\n",
       "      <td>165.58</td>\n",
       "      <td>27418.06</td>\n",
       "      <td>6</td>\n",
       "      <td>5447667.42</td>\n",
       "      <td>282279.46</td>\n",
       "      <td>1.00</td>\n",
       "      <td>1.00</td>\n",
       "    </tr>\n",
       "    <tr>\n",
       "      <th>2</th>\n",
       "      <td>3</td>\n",
       "      <td>2</td>\n",
       "      <td>2</td>\n",
       "      <td>0</td>\n",
       "      <td>38.65</td>\n",
       "      <td>19.32</td>\n",
       "      <td>2148087334.94</td>\n",
       "      <td>13.15</td>\n",
       "      <td>23.62</td>\n",
       "      <td>1</td>\n",
       "      <td>147.09</td>\n",
       "      <td>21634.88</td>\n",
       "      <td>12</td>\n",
       "      <td>3900924.99</td>\n",
       "      <td>2203363.63</td>\n",
       "      <td>0.72</td>\n",
       "      <td>0.54</td>\n",
       "    </tr>\n",
       "    <tr>\n",
       "      <th>3</th>\n",
       "      <td>4</td>\n",
       "      <td>3</td>\n",
       "      <td>1</td>\n",
       "      <td>1</td>\n",
       "      <td>45.60</td>\n",
       "      <td>22.80</td>\n",
       "      <td>2515417013.09</td>\n",
       "      <td>12.28</td>\n",
       "      <td>22.61</td>\n",
       "      <td>-1</td>\n",
       "      <td>-41.32</td>\n",
       "      <td>1707.67</td>\n",
       "      <td>24</td>\n",
       "      <td>419679.28</td>\n",
       "      <td>-108101.53</td>\n",
       "      <td>0.08</td>\n",
       "      <td>0.14</td>\n",
       "    </tr>\n",
       "    <tr>\n",
       "      <th>4</th>\n",
       "      <td>5</td>\n",
       "      <td>2</td>\n",
       "      <td>2</td>\n",
       "      <td>2</td>\n",
       "      <td>47.80</td>\n",
       "      <td>23.90</td>\n",
       "      <td>2629829807.43</td>\n",
       "      <td>12.00</td>\n",
       "      <td>22.26</td>\n",
       "      <td>1</td>\n",
       "      <td>137.03</td>\n",
       "      <td>18777.77</td>\n",
       "      <td>8</td>\n",
       "      <td>1376194.21</td>\n",
       "      <td>111957.88</td>\n",
       "      <td>0.25</td>\n",
       "      <td>0.22</td>\n",
       "    </tr>\n",
       "    <tr>\n",
       "      <th>5</th>\n",
       "      <td>6</td>\n",
       "      <td>4</td>\n",
       "      <td>0</td>\n",
       "      <td>0</td>\n",
       "      <td>55.75</td>\n",
       "      <td>27.88</td>\n",
       "      <td>3034893462.44</td>\n",
       "      <td>10.97</td>\n",
       "      <td>19.83</td>\n",
       "      <td>1</td>\n",
       "      <td>123.22</td>\n",
       "      <td>15182.18</td>\n",
       "      <td>6</td>\n",
       "      <td>577484.08</td>\n",
       "      <td>-1110357.90</td>\n",
       "      <td>0.11</td>\n",
       "      <td>0.18</td>\n",
       "    </tr>\n",
       "    <tr>\n",
       "      <th>6</th>\n",
       "      <td>7</td>\n",
       "      <td>3</td>\n",
       "      <td>3</td>\n",
       "      <td>1</td>\n",
       "      <td>61.20</td>\n",
       "      <td>30.60</td>\n",
       "      <td>3304257899.07</td>\n",
       "      <td>10.52</td>\n",
       "      <td>19.15</td>\n",
       "      <td>-1</td>\n",
       "      <td>-34.52</td>\n",
       "      <td>1191.91</td>\n",
       "      <td>24</td>\n",
       "      <td>145009.28</td>\n",
       "      <td>73893.09</td>\n",
       "      <td>0.03</td>\n",
       "      <td>0.08</td>\n",
       "    </tr>\n",
       "    <tr>\n",
       "      <th>7</th>\n",
       "      <td>8</td>\n",
       "      <td>4</td>\n",
       "      <td>2</td>\n",
       "      <td>0</td>\n",
       "      <td>63.00</td>\n",
       "      <td>31.50</td>\n",
       "      <td>3391610105.38</td>\n",
       "      <td>10.10</td>\n",
       "      <td>18.47</td>\n",
       "      <td>1</td>\n",
       "      <td>114.26</td>\n",
       "      <td>13056.26</td>\n",
       "      <td>48</td>\n",
       "      <td>2965668.35</td>\n",
       "      <td>177116491.51</td>\n",
       "      <td>0.54</td>\n",
       "      <td>0.26</td>\n",
       "    </tr>\n",
       "    <tr>\n",
       "      <th>8</th>\n",
       "      <td>9</td>\n",
       "      <td>4</td>\n",
       "      <td>2</td>\n",
       "      <td>2</td>\n",
       "      <td>69.80</td>\n",
       "      <td>34.90</td>\n",
       "      <td>3713877620.28</td>\n",
       "      <td>9.37</td>\n",
       "      <td>17.16</td>\n",
       "      <td>1</td>\n",
       "      <td>106.10</td>\n",
       "      <td>11258.06</td>\n",
       "      <td>24</td>\n",
       "      <td>1009294.26</td>\n",
       "      <td>-4513309.71</td>\n",
       "      <td>0.19</td>\n",
       "      <td>0.15</td>\n",
       "    </tr>\n",
       "    <tr>\n",
       "      <th>9</th>\n",
       "      <td>10</td>\n",
       "      <td>3</td>\n",
       "      <td>3</td>\n",
       "      <td>3</td>\n",
       "      <td>74.75</td>\n",
       "      <td>37.38</td>\n",
       "      <td>3940309790.50</td>\n",
       "      <td>9.06</td>\n",
       "      <td>16.53</td>\n",
       "      <td>-1</td>\n",
       "      <td>-29.89</td>\n",
       "      <td>893.29</td>\n",
       "      <td>8</td>\n",
       "      <td>23032.23</td>\n",
       "      <td>133586.60</td>\n",
       "      <td>0.00</td>\n",
       "      <td>0.07</td>\n",
       "    </tr>\n",
       "    <tr>\n",
       "      <th>10</th>\n",
       "      <td>11</td>\n",
       "      <td>4</td>\n",
       "      <td>4</td>\n",
       "      <td>0</td>\n",
       "      <td>82.70</td>\n",
       "      <td>41.35</td>\n",
       "      <td>4288415644.43</td>\n",
       "      <td>8.52</td>\n",
       "      <td>15.33</td>\n",
       "      <td>1</td>\n",
       "      <td>95.40</td>\n",
       "      <td>9101.16</td>\n",
       "      <td>12</td>\n",
       "      <td>291199.71</td>\n",
       "      <td>-802242.96</td>\n",
       "      <td>0.05</td>\n",
       "      <td>0.09</td>\n",
       "    </tr>\n",
       "    <tr>\n",
       "      <th>11</th>\n",
       "      <td>12</td>\n",
       "      <td>6</td>\n",
       "      <td>0</td>\n",
       "      <td>0</td>\n",
       "      <td>88.95</td>\n",
       "      <td>44.48</td>\n",
       "      <td>4547677947.20</td>\n",
       "      <td>8.40</td>\n",
       "      <td>15.05</td>\n",
       "      <td>1</td>\n",
       "      <td>93.78</td>\n",
       "      <td>8794.69</td>\n",
       "      <td>6</td>\n",
       "      <td>126638.66</td>\n",
       "      <td>415592.06</td>\n",
       "      <td>0.02</td>\n",
       "      <td>0.11</td>\n",
       "    </tr>\n",
       "  </tbody>\n",
       "</table>\n",
       "</div>"
      ],
      "text/plain": [
       "    Line  h  k  l  theta2  theta           stl    fK   fBr  sign      F  \\\n",
       "0      1  1  1  1   23.35  11.68 1313546676.55 14.52 26.55    -1 -48.12   \n",
       "1      2  2  0  0   27.05  13.53 1518079882.77 15.30 26.10     1 165.58   \n",
       "2      3  2  2  0   38.65  19.32 2148087334.94 13.15 23.62     1 147.09   \n",
       "3      4  3  1  1   45.60  22.80 2515417013.09 12.28 22.61    -1 -41.32   \n",
       "4      5  2  2  2   47.80  23.90 2629829807.43 12.00 22.26     1 137.03   \n",
       "5      6  4  0  0   55.75  27.88 3034893462.44 10.97 19.83     1 123.22   \n",
       "6      7  3  3  1   61.20  30.60 3304257899.07 10.52 19.15    -1 -34.52   \n",
       "7      8  4  2  0   63.00  31.50 3391610105.38 10.10 18.47     1 114.26   \n",
       "8      9  4  2  2   69.80  34.90 3713877620.28  9.37 17.16     1 106.10   \n",
       "9     10  3  3  3   74.75  37.38 3940309790.50  9.06 16.53    -1 -29.89   \n",
       "10    11  4  4  0   82.70  41.35 4288415644.43  8.52 15.33     1  95.40   \n",
       "11    12  6  0  0   88.95  44.48 4547677947.20  8.40 15.05     1  93.78   \n",
       "\n",
       "         F2   p         Lp            I  Thy  Exp  \n",
       "0   2315.15   8  839659.88     38460.33 0.15 0.17  \n",
       "1  27418.06   6 5447667.42    282279.46 1.00 1.00  \n",
       "2  21634.88  12 3900924.99   2203363.63 0.72 0.54  \n",
       "3   1707.67  24  419679.28   -108101.53 0.08 0.14  \n",
       "4  18777.77   8 1376194.21    111957.88 0.25 0.22  \n",
       "5  15182.18   6  577484.08  -1110357.90 0.11 0.18  \n",
       "6   1191.91  24  145009.28     73893.09 0.03 0.08  \n",
       "7  13056.26  48 2965668.35 177116491.51 0.54 0.26  \n",
       "8  11258.06  24 1009294.26  -4513309.71 0.19 0.15  \n",
       "9    893.29   8   23032.23    133586.60 0.00 0.07  \n",
       "10  9101.16  12  291199.71   -802242.96 0.05 0.09  \n",
       "11  8794.69   6  126638.66    415592.06 0.02 0.11  "
      ]
     },
     "execution_count": 156,
     "metadata": {},
     "output_type": "execute_result"
    }
   ],
   "source": [
    "dpt"
   ]
  },
  {
   "cell_type": "code",
   "execution_count": 158,
   "id": "961d009fc63ff6e6",
   "metadata": {
    "ExecuteTime": {
     "end_time": "2024-03-05T05:23:13.242150Z",
     "start_time": "2024-03-05T05:23:13.229919Z"
    }
   },
   "outputs": [
    {
     "name": "stdout",
     "output_type": "stream",
     "text": [
      "\\begin{tabular}{rrrrrrrrrrrrrrrrr}\n",
      "\\toprule\n",
      "Line & h & k & l & theta2 & theta & stl & fK & fBr & sign & F & F2 & p & Lp & I & Thy & Exp \\\\\n",
      "\\midrule\n",
      "1 & 1 & 1 & 1 & 23.350000 & 11.675000 & 1313546676.552136 & 14.519000 & 26.548000 & -1 & -48.116000 & 2315.149456 & 8 & 839659.876456 & 38460.325569 & 0.154132 & 0.174837 \\\\\n",
      "2 & 2 & 0 & 0 & 27.050000 & 13.525000 & 1518079882.773618 & 15.297000 & 26.099000 & 1 & 165.584000 & 27418.061056 & 6 & 5447667.416975 & 282279.460151 & 1.000000 & 1.000000 \\\\\n",
      "3 & 2 & 2 & 0 & 38.650000 & 19.325000 & 2148087334.944864 & 13.150000 & 23.622000 & 1 & 147.088000 & 21634.879744 & 12 & 3900924.987610 & 2203363.634893 & 0.716073 & 0.541531 \\\\\n",
      "4 & 3 & 1 & 1 & 45.600000 & 22.800000 & 2515417013.090696 & 12.275000 & 22.606000 & -1 & -41.324000 & 1707.672976 & 24 & 419679.276593 & -108101.529088 & 0.077038 & 0.137391 \\\\\n",
      "5 & 2 & 2 & 2 & 47.800000 & 23.900000 & 2629829807.433018 & 11.997000 & 22.261000 & 1 & 137.032000 & 18777.769024 & 8 & 1376194.214657 & 111957.879121 & 0.252621 & 0.218137 \\\\\n",
      "6 & 4 & 0 & 0 & 55.750000 & 27.875000 & 3034893462.435581 & 10.972000 & 19.832000 & 1 & 123.216000 & 15182.182656 & 6 & 577484.081134 & -1110357.899361 & 0.106006 & 0.182462 \\\\\n",
      "7 & 3 & 3 & 1 & 61.200000 & 30.600000 & 3304257899.067816 & 10.515000 & 19.146000 & -1 & -34.524000 & 1191.906576 & 24 & 145009.276432 & 73893.086962 & 0.026619 & 0.080065 \\\\\n",
      "8 & 4 & 2 & 0 & 63.000000 & 31.500000 & 3391610105.376796 & 10.097000 & 18.469000 & 1 & 114.264000 & 13056.261696 & 48 & 2965668.351412 & 177116491.507739 & 0.544392 & 0.260212 \\\\\n",
      "9 & 4 & 2 & 2 & 69.800000 & 34.900000 & 3713877620.280885 & 9.369000 & 17.157000 & 1 & 106.104000 & 11258.058816 & 24 & 1009294.257515 & -4513309.713068 & 0.185271 & 0.154276 \\\\\n",
      "10 & 3 & 3 & 3 & 74.750000 & 37.375000 & 3940309790.502000 & 9.056000 & 16.528000 & -1 & -29.888000 & 893.292544 & 8 & 23032.225766 & 133586.601773 & 0.004228 & 0.070942 \\\\\n",
      "11 & 4 & 4 & 0 & 82.700000 & 41.350000 & 4288415644.432510 & 8.518000 & 15.332000 & 1 & 95.400000 & 9101.160000 & 12 & 291199.705234 & -802242.962431 & 0.053454 & 0.088099 \\\\\n",
      "12 & 6 & 0 & 0 & 88.950000 & 44.475000 & 4547677947.202930 & 8.399000 & 15.046000 & 1 & 93.780000 & 8794.688400 & 6 & 126638.661807 & 415592.055750 & 0.023246 & 0.109205 \\\\\n",
      "\\bottomrule\n",
      "\\end{tabular}\n"
     ]
    }
   ],
   "source": [
    "print(dpt.to_latex(index=False))"
   ]
  }
 ],
 "metadata": {
  "kernelspec": {
   "display_name": "Python 3 (ipykernel)",
   "language": "python",
   "name": "python3"
  },
  "language_info": {
   "codemirror_mode": {
    "name": "ipython",
    "version": 3
   },
   "file_extension": ".py",
   "mimetype": "text/x-python",
   "name": "python",
   "nbconvert_exporter": "python",
   "pygments_lexer": "ipython3",
   "version": "3.10.12"
  }
 },
 "nbformat": 4,
 "nbformat_minor": 5
}

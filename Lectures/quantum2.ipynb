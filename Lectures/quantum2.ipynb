{
 "cells": [
  {
   "cell_type": "markdown",
   "metadata": {},
   "source": [
    "# Quantum measurements lecture 2: quantum tomography of ensembles\n",
    "<b>Dr. Matthew House <matthew.house@unsw.edu.au></b>\n",
    "\n",
    "A basic problem that arises when studying a quantum system experimentally is to determine its state in terms of measureable quantities like position and momentum. Classically, this can be a straightforward problem: for a single particle if we can measure both the position $\\vec{x}$ and momentum $\\vec{p}$, we know everything about it. Determining the state only becomes an \"interesting\" problem to solve if the information we can acquire about the system is incomplete. <b>Tomography</b> is the process of determining the full state of a system from limited information. For example, it might be reconstructing a three-dimensional object from a set of two-dimensional images, or reconstructing a crystal structure from Bragg diffraction interference patterns.\n",
    "\n",
    "When we study quantum systems, we can never gain full information about the state of the system from a single measurement, for two reasons. The first is that when we perform a measurement, we \"collapse the wavefunction\" to a single value, which doesn't tell us very much about what the overall wavefunction looked like before we performed the measurement. The second complication is that the position and momentum of a particle, or any other pair of non-commuting observables, must obey the Heisenberg uncertainty principle,\n",
    "$$\\Delta x \\Delta p \\geq \\frac{\\hbar}{4}.$$\n",
    "The system is never in a definite state of both position and momentum, and furthermore a measurement of one of these will destroy information about the other. \n",
    "\n",
    "How then can we characterise what the state of the system was before any measurements were made? How do we choose a set of measurements that will reveal complete information about the system? Addressing these questions is the subject of <b>quantum state tomography</b>."
   ]
  },
  {
   "cell_type": "markdown",
   "metadata": {},
   "source": [
    "## Model system: the Stern-Gerlach experiment\n",
    "As an example of why this is an interesting problem, recall the Stern-Gerlach experiment, which demonstrated the quantization of angular momentum.\n",
    "<img src=\"http://mcba11.phys.unsw.edu.au/~mcba/phys3112/Stern-Gerlach_experiment_svg.svg\" width=\"75%\", height=\"75%\" />\n",
    "A beam of silver atoms was directed through an inhomogeneous magnetic field, which deflected the atoms depending on their angular momentum. They observed two bright spots in their detector where atoms landed, one corresponding to angular momentum (or spin) $+\\hbar/2$ and one for $-\\hbar/2$ in the $\\vec{z}$ direction. \n",
    "\n",
    "In the historical experiment, the atoms were prepared in an oven which ejected the atoms with a completely random spin, so exactly 50% of them were \"spin up\" and 50% \"spin down\". But you might realise that they would have seen the same outcome if the spins were always completely polarised so that they pointed in the $\\vec{x}$ direction. A spin pointing in the $+x$ direction is also an equal superposition of pointing in the $\\pm z$ directions:\n",
    "$$\\left| +_x \\right> = \\frac{1}{\\sqrt{2}} \\left( \\left| +_z \\right> + \\left| -_z \\right> \\right)$$\n",
    "\n",
    "A measurement of this spin state along the z direction will yield $+\\hbar/2$ 50% of the time and $-\\hbar/2$ 50% of the time, just as was observed in the original experiment. What if we asked the question whether the atoms coming out of the oven were truly random? With only one measurement, we can't distinguish between a completely random spin state and one which is always pointing in the $x$ or $y$ direction. To learn more, we must perform multiple measurements, for example by rotating the magnets in the experiment so that they measure the atoms spin along a different axis. \n",
    "\n",
    "For these reasons, we will always require more than one measurement to fully characterise the system."
   ]
  },
  {
   "cell_type": "markdown",
   "metadata": {
    "collapsed": true
   },
   "source": [
    "## Spin-½ system\n",
    "To keep things simple I will use the spin-½ as an example system, although all of the discussion applies to any quantum system. Before we continue, let's summarize the rules of the spin-½ system. We represent the observable spin measurements along the three axes with the 2x2 Pauli spin matrix operators,\n",
    "\n",
    "$$\\hat{S_x} = \\frac{\\hbar}{2} \\left(\\begin{array} 00 & 1 \\\\ 1 & 0 \\end{array} \\right),\n",
    "\\hat{S_y} = \\frac{\\hbar}{2} \\left(\\begin{array} 00 & -i \\\\ i & 0 \\end{array} \\right),\n",
    "\\hat{S_z} = \\frac{\\hbar}{2} \\left(\\begin{array} 01 & 0 \\\\ 0 & -1 \\end{array} \\right)$$\n",
    "\n",
    "The eigenstates of the $\\hat{S_z}$ operator are,\n",
    "\n",
    "$$\\left | S_z + \\right> = \\left( \\begin{array}  01 \\\\ 0 \\end{array} \\right),\n",
    "\\left | S_z - \\right> = \\left( \\begin{array}  00 \\\\ 1 \\end{array} \\right)$$\n",
    "with corresponding eigenvalues $\\pm \\hbar/2$. The eigenstates of the $\\hat{S_x}$ are,\n",
    "\n",
    "$$\\left | S_x + \\right> = \\left( \\begin{array}. \\frac{1}{\\sqrt{2}} \\\\ \\frac{1}{\\sqrt{2}} \\end{array} \\right),\n",
    "\\left | S_x - \\right> = \\left( \\begin{array}.  \\frac{1}{\\sqrt{2}} \\\\ \\frac{-1}{\\sqrt{2}} \\end{array} \\right)$$\n",
    "\n",
    "Using these statevectors we can confirm that in this reprsentation the state $\\left | S_x + \\right>$, when measured in the z direction gives the result $+\\hbar/2$ with probability $\\left | \\left< S_z + \\right| \\left. S_x + \\right> \\right|^2 = \\left| \\left(\\begin{array} 01 & 0 \\end{array}\\right) \\left( \\begin{array}. \\frac{1}{\\sqrt{2}} \\\\ \\frac{1}{\\sqrt{2}} \\end{array} \\right) \\right|^2= 0.5$, and result $-\\hbar/2$ with probability $\\left | \\left< S_z + \\right| \\left. S_x - \\right> \\right|^2 = \\left| \\left(\\begin{array} 01 & 0 \\end{array}\\right) \\left( \\begin{array}. \\frac{1}{\\sqrt{2}} \\\\ -\\frac{1}{\\sqrt{2}} \\end{array} \\right) \\right|^2= 0.5$."
   ]
  },
  {
   "cell_type": "markdown",
   "metadata": {},
   "source": [
    "## Ensembles \n",
    "The fact that we need to perform multiple measurements means we cannot perform tomography on a single particle, because each measurement modifies the state of the particle, destroying information about it. The best we can do is to make an *ensemble* of many particles, which have all been prepared in the same way (such as many atoms ejected from the same oven), then perform each measurement on a subset of the ensemble. So quantum state tomography is always about characterizing an *ensemble* of particles. Let's stop and introduce the terms and mathematical formalisms we use to describe an ensemble. I will continue to use the spin-½ system as an example, but the description applies generally to any quantum system.\n",
    "\n",
    "We represent the state of a single particle system by a state vector, often written as a ket, $\\left | \\psi \\right>$. An ensemble composed of just one state is called a **pure state** or **pure ensemble**. \n",
    "\n",
    "A **mixed state** or **mixed ensemble** is one in which the ensemble is composed of some fraction of more than one pure state. For example, we might have a situation where 30% of the spins are pointed in the $+z$ direction, 50% are pointed in the $+x$ direction, and 20% in the $+y$ direction. \n",
    "\n",
    "A **perfectly mixed state** or **completely random ensemble** is the extreme case of a mixed state in which the spin is completely random, such as in the original Stern-Gerlach experiment.\n",
    "\n",
    "Suppose we make a measurement on a mixed ensemble of spins, along the z direction. What is the average measured value of the z component of spin? For a pure state it is the usual quantum mechanical expectation value of the observable,\n",
    "$$\\left< \\hat{S_z} \\right> = \\left< \\psi \\right |  \\hat{S_z} \\left | \\psi \\right > $$\n",
    "\n",
    "For a mixture of $N$ pure states with state $\\left | \\psi_n \\right >$ appearing with probability $w_n$, we sum over the pure states to get the **ensemble average** of the measurement:\n",
    "$$\\left< \\hat{S_z} \\right> = \\sum_{n=1}^N w_n \\left< \\psi_n \\right |  \\hat{S_z} \\left | \\psi_n \\right > $$"
   ]
  },
  {
   "cell_type": "markdown",
   "metadata": {},
   "source": [
    "### Example 1: What is the ensemble average of the measured z component of spin for an ensemble in which 30% of the spins are pointed in the $+z$ direction, 50% are pointed in the $+x$ direction, and 20% in the $+y$ direction?\n",
    "We simply need to sum over the expectation values of the three different parts of the mixture, and weight by their probabilities.\n",
    "$$\\left< \\hat{S_z} \\right> = .3 \\left<S_z+ \\right| \\hat{S_z} \\left | S_z+ \\right>\n",
    "+.5 \\left<S_x+ \\right| \\hat{S_z} \\left | S_x+ \\right>\n",
    "+.2 \\left<S_y- \\right| \\hat{S_z} \\left | S_y- \\right> \n",
    "= .3 \\frac{\\hbar}{2} + .5 \\times 0 + .2 \\times 0 \n",
    "= .15 \\hbar $$\n"
   ]
  },
  {
   "cell_type": "markdown",
   "metadata": {},
   "source": [
    "## Density matrix \n",
    "There is a convenient mathematical representation of the ensemble which simplifies calculations like the one above. Let's generalize the above example so that we describe the ensemble in terms of an arbitrary basis given by a set of orthogonal vectors $\\left\\{ \\left | b \\right > \\right\\}$. The ensemble average of an operator $A$ is,\n",
    "\n",
    "$$\\begin{array}. \\left< \\hat{A} \\right> & = \\sum_{n=1}^{N} w_n \\sum_{b^\\prime} \\sum_{b^{\\prime \\prime}} \n",
    "\\left< \\psi_n \\right| \\left. b^{\\prime} \\right> \n",
    "\\left< b^{\\prime} \\right| A \\left| b^{\\prime \\prime} \\right> \n",
    "\\left< b^{\\prime \\prime}  \\right| \\left.\\psi_n  \\right> \\\\\n",
    " & = \\sum_{b^\\prime} \\sum_{b^{\\prime \\prime}} \\left( \\sum_{n=1}^{N} w_n \n",
    " \\left< b^{\\prime \\prime} \\right| \\left. \\psi_n \\right> \n",
    " \\left< \\psi_n \\right| \\left. b^{\\prime} \\right> \\right) \\left< b^{\\prime} \\right| A \\left| b^{\\prime \\prime} \\right> \n",
    "\\end{array}\n",
    "$$\n",
    "\n",
    "Notice that the middle part of the last expression in parentheses is independent of the operator we want to measure, $A$. This suggests we can define a new operator, the <b>density operator</b>, also called the <b>density matrix</b>, which describes the ensemble independent of any observable. It is defined as,\n",
    "\n",
    "$$ \\hat{\\rho} \\equiv \\sum_n w_n \\left| \\psi_n \\right> \\left< \\psi_n \\right| \n",
    "$$\n",
    "\n",
    "With this definition, the ensemble average above can be written in a simple form,\n",
    "\n",
    "$$ \\begin{array}. \\left< \\hat{A} \\right> & = \\sum_{b^\\prime} \\sum_{b^{\\prime \\prime}} \n",
    " \\left< b^{\\prime \\prime} \\right| \\left. \\hat{\\rho} \\right| \\left. b^{\\prime} \\right> \\left< b^{\\prime} \\right| A \\left| b^{\\prime \\prime} \\right> \\\\ \n",
    " & = tr\\left( \\hat{\\rho} \\hat{A} \\right)\n",
    " \\end{array}\n",
    " $$\n",
    " \n",
    "Here $tr()$ represents the trace of the matrix: the sum of the diagonal elements. The trace is independent of the basis used, so we now have a very convenient way to predict the outcomes of measurements on the ensemble for any observable. **The density matrix contains all information about the observable properties of an ensemble.** So we can re-state the goal of quantum state tomography's: to determine the density matrix from a set of measurements on an ensemble. "
   ]
  },
  {
   "cell_type": "markdown",
   "metadata": {},
   "source": [
    "#### Example 2: What is the density matrix for a pure state of $\\left| S_z+ \\right>$?\n",
    "$$\\hat{\\rho} = \\left| S_z+ \\right> \\left< S_z+ \\right| = \\left( \\begin{array}. 1 \\\\ 0 \\end{array} \\right) \\left( 1, 0 \\right) = \\left( \\begin{array}. 1 & 0 \\\\ 0 & 0 \\end{array} \\right)\n",
    "$$\n",
    "#### Example 3: What is the density matrix for a pure state of $\\left| S_x+ \\right>$?\n",
    "$$\\hat{\\rho} = \\left| S_x+ \\right> \\left< S_x+ \\right| = \\left( \\begin{array}. \\frac{1}{\\sqrt{2}} \\\\ \\frac{1}{\\sqrt{2}} \\end{array} \\right) \\left(  \\frac{1}{\\sqrt{2}}, \\frac{1}{\\sqrt{2}} \\right) = \\left( \\begin{array}. \\frac{1}{2} & \\frac{1}{2}  \\\\ \\frac{1}{2}  & \\frac{1}{2}  \\end{array} \\right)\n",
    "$$\n",
    "#### Example 4: What is the density matrix of a perfectly random mixed state?\n",
    "$$\\hat{\\rho} = \\frac{1}{2} \\left| S_x+ \\right> \\left< S_x+ \\right| + \\frac{1}{2} \\left| S_x- \\right> \\left< S_x- \\right| \n",
    "=\\frac{1}{2} \\left( \\begin{array}. 1 \\\\ 0 \\end{array} \\right) \\left(  1, 0 \\right) + \\frac{1}{2} \\left( \\begin{array}. 0 \\\\ 1 \\end{array} \\right) \\left(  0, 1 \\right) \n",
    "= \\left( \\begin{array}. \\frac{1}{2} & 0  \\\\ 0  & \\frac{1}{2}  \\end{array} \\right)\n",
    "$$\n",
    "You can easily prove for yourself that we get the same result if we consider the ensemble to be 50% of each $\\pm x$ or $\\pm y$. In fact, for any mixed state there is always more than one equivalent way to represent it in terms of sums of pure states -- but the density matrix is always the same!"
   ]
  },
  {
   "cell_type": "markdown",
   "metadata": {},
   "source": [
    "### Some important properties of the density matrix\n",
    "These are some important properties of the density matrix that are relatively easy to prove. It is a useful exercise to prove them for yourself.\n",
    "* The density matrix is hermitian, $\\hat{\\rho}^\\dagger = \\hat{\\rho}$\n",
    "* The trace of a density matrix is 1. $$tr \\left( \\hat{\\rho} \\right) = 1$$\n",
    "This can be proved from the definition of the density matrix above, and it reflects the fact that the density matrix must be normalised so that the sum of all probabilities is 1.\n",
    "* The time evolution of an ensemble under a Hamiltonian $\\hat{H}$ is,\n",
    "$$ i \\hbar \\frac{\\partial \\rho}{\\partial t} = - \\left[ \\hat{\\rho}, \\hat{H} \\right] = -\\left( \\hat{\\rho} \\hat{H} - \\hat{H}\\hat{\\rho} \\right) $$\n",
    "You can prove this by applying the Schrodinger equation to each of the states in the definition of the density matrix.\n",
    "* If and only if $\\hat{\\rho}$ is a pure ensemble, $$ \\hat{\\rho}^2 = \\hat{\\rho}$$ and, $$ tr \\left( \\hat{\\rho}^2 \\right) = 1$$ This is a convenient way to test whether or not a given ensemble is pure or not."
   ]
  },
  {
   "cell_type": "markdown",
   "metadata": {},
   "source": [
    "### Quantum state tomography of the spin-½ system\n",
    "Since the density matrix is a full representation of any ensemble, the goal of quantum state tomography must be to recover the density matrix from a set of measurements. In our example, the density matrix has four complex valued elements, but when we consider that it must be Hermitian and have trace equal to 1 we can reduce it to the form,\n",
    "$$ \\hat{\\rho} = \\left( \\begin{array}. \\frac{1}{2} + A & B - iC \\\\ B + iC & \\frac{1}{2} - A \\end{array} \\right)$$\n",
    "where A, B, and C are real scalars. I chose this particular representation because it makes the result come out nicely. There are three degrees of freedom, therefore we need three independent pieces of information (measurements) to fully determine the density matrix. The three measurements we can make are of the spin along each of the three orthogonal directions. The expectation values of measurements along each of the three axes are,\n",
    "$$\\left< S_x \\right> = tr \\left(\\hat{\\rho} \\hat{S_x} \\right) \n",
    "= tr \\left[  \\left( \\begin{array}. \\frac{1}{2} + A & B - iC \\\\ B + iC & \\frac{1}{2} - A \\end{array} \\right) \\frac{\\hbar}{2} \\left(\\begin{array}. 0 & 1 \\\\ 1 & 0 \\end{array} \\right) \\right] = B \\hbar $$\n",
    "$$\\left< S_y \\right> = tr \\left(\\hat{\\rho} \\hat{S_y} \\right) \n",
    "= tr \\left[  \\left( \\begin{array}. \\frac{1}{2} + A & B - iC \\\\ B + iC & \\frac{1}{2} - A \\end{array} \\right) \\frac{\\hbar}{2} \\left(\\begin{array}. 0 & -i \\\\ i & 0 \\end{array} \\right) \\right] = C \\hbar $$\n",
    "$$\\left< S_z \\right> = tr \\left(\\hat{\\rho} \\hat{S_z} \\right) \n",
    "= tr \\left[  \\left( \\begin{array}. \\frac{1}{2} + A & B - iC \\\\ B + iC & \\frac{1}{2} - A \\end{array} \\right)  \\frac{\\hbar}{2} \\left(\\begin{array}. 1 & 0 \\\\ 0 & -1 \\end{array} \\right) \\right] = A \\hbar $$\n",
    "So if we measure these average values, $\\left< S_x \\right>$, $\\left< S_y \\right>$, $\\left< S_z \\right>$, then the density matrix elements are just, \n",
    "$$A = \\frac{1}{\\hbar} \\left< S_z \\right>, B = \\frac{1}{\\hbar} \\left< S_x \\right>, C = \\frac{1}{\\hbar} \\left< S_y \\right>$$\n",
    "\n",
    "A convenient way of writing the whole density matrix again is,\n",
    "$$\\hat{\\rho} = \\frac{1}{2} \\left( \\begin{array}. 1 & 0 \\\\ 0 & 1 \\end{array} \\right) \n",
    "+\\frac{2}{\\hbar} \\left< S_x \\right> \\left( \\begin{array}. 0 & 1 \\\\ 1 & 0 \\end{array} \\right) \n",
    "+\\frac{2}{\\hbar} \\left< S_y \\right> \\left( \\begin{array}. 0 & -i \\\\ i & 0 \\end{array} \\right) \n",
    "+\\frac{2}{\\hbar} \\left< S_z \\right> \\left( \\begin{array}. 1 & 0 \\\\ 0 & -1 \\end{array} \\right) $$\n",
    "where each of these matrices is the Pauli spin matrix, plus the identity matrix (which is sometimes called the 'zeroth' Pauli matrix.\n",
    "\n",
    "Notice that in the Stern-Gerlach experiment, the two spots on the screen were equally bright, so the average value of the spin was $\\left< S_z \\right> = 0$. This would have been true (we presume!) no matter which way the magnetic field was aligned, so $\\left< S_x \\right> = \\left< S_y \\right> = 0$ as well. In that case, we indeed recover the density matrix which describes the completely mixed state (completely random spin):\n",
    "$$\\hat{\\rho} = \\left( \\begin{array}. \\frac{1}{2} & 0 \\\\ 0 & \\frac{1}{2} \\end{array} \\right)$$\n",
    "\n",
    "Below I give a simple calculator for determining the density matrix from a set of three orthogonal spin-½ measurements."
   ]
  },
  {
   "cell_type": "code",
   "execution_count": 31,
   "metadata": {
    "collapsed": false,
    "scrolled": true
   },
   "outputs": [
    {
     "name": "stdout",
     "output_type": "stream",
     "text": [
      "Density matrix reconstructed:\n",
      "[[ 0.5+0.j  0.0+0.j]\n",
      " [ 0.0+0.j  0.5+0.j]]\n"
     ]
    }
   ],
   "source": [
    "import numpy as np\n",
    "\n",
    "# the measured values of the average spin in three orthogonal directions\n",
    "# I have left off the factor of hbar\n",
    "px = 0\n",
    "py = 0\n",
    "pz = 0\n",
    "\n",
    "# define the Pauli matrices\n",
    "pauli0 = np.array([[1,0],[0,1]])\n",
    "paulix = np.array([[0,1],[1,0]])\n",
    "pauliy = np.array([[0,-1j],[1j,0]])\n",
    "pauliz = np.array([[1,0],[0,-1]])\n",
    "\n",
    "# calculate the density matrix\n",
    "rho = 0.5 * pauli0 + px * paulix + py * pauliy + pz*pauliz\n",
    "print(\"Density matrix reconstructed:\\n{}\".format(rho))"
   ]
  },
  {
   "cell_type": "markdown",
   "metadata": {},
   "source": [
    "Things get a bit more difficult if we consider some realistic considerations. In a real experiment, there is always some uncertainty or noise in our measurements. For example, when we measure the \"average\" value it is always over a finite number of samples, so there is sampling error. Sometimes this can lead to unphysical reconstructions of the density matrix, such as having trace less than 1, or being non-Hermitian, especially if we did not set our measurement angles perfectly with the aparatus."
   ]
  },
  {
   "cell_type": "code",
   "execution_count": 67,
   "metadata": {
    "collapsed": false
   },
   "outputs": [
    {
     "name": "stdout",
     "output_type": "stream",
     "text": [
      "A few measured spins: [-0.5 -0.5 -0.5  0.5 -0.5 -0.5  0.5 -0.5  0.5 -0.5]\n",
      "measured mean x = -0.11 (actual: -0.14)\n",
      "measured mean y = -0.06 (actual: 0)\n",
      "measured mean z = -0.01 (actual: 0)\n",
      "True density matrix: \n",
      "[[ 0.50+0.j -0.14+0.j]\n",
      " [-0.14+0.j  0.50+0.j]]\n",
      "Reconstructed density matrix: \n",
      "[[ 0.49+0.j   -0.11+0.06j]\n",
      " [-0.11-0.06j  0.51+0.j  ]]\n"
     ]
    }
   ],
   "source": [
    "import numpy as np\n",
    "\n",
    "# Here are the \"true\" expectation values of the spin measurements, leaving off hbar\n",
    "px = -.14\n",
    "py = 0\n",
    "pz = 0\n",
    "\n",
    "# number of \"shots\" measured\n",
    "num_shots = 100\n",
    "\n",
    "# generate finite sets of samples with these averages\n",
    "# these represent the actual measurement outcomes in our experiment\n",
    "samples_x = np.array([0.5 if p < (px + .5) else -0.5 for p in np.random.uniform(size=num_shots)])\n",
    "samples_y = np.array([0.5 if p < (py + .5) else -0.5 for p in np.random.uniform(size=num_shots)])\n",
    "samples_z = np.array([0.5 if p < (pz + .5) else -0.5 for p in np.random.uniform(size=num_shots)])\n",
    "\n",
    "print(\"A few measured spins: {}\".format(samples_x[0:10]))\n",
    "\n",
    "# calculate the average spin in each direction\n",
    "mean_x = np.mean(samples_x)\n",
    "mean_y = np.mean(samples_y)\n",
    "mean_z = np.mean(samples_z)\n",
    "\n",
    "print(\"measured mean x = {} (actual: {})\".format(mean_x, px))\n",
    "print(\"measured mean y = {} (actual: {})\".format(mean_y, py))\n",
    "print(\"measured mean z = {} (actual: {})\".format(mean_z, pz))\n",
    "\n",
    "# define the Pauli matrices\n",
    "pauli0 = np.array([[1,0],[0,1]])\n",
    "paulix = np.array([[0,1],[1,0]])\n",
    "pauliy = np.array([[0,-1j],[1j,0]])\n",
    "pauliz = np.array([[1,0],[0,-1]])\n",
    "\n",
    "# calculate the true and the \"measured\" density matrix\n",
    "true_rho = 0.5 * pauli0 +     px * paulix +     py * pauliy +     pz * pauliz\n",
    "rho      = 0.5 * pauli0 + mean_x * paulix + mean_y * pauliy + mean_z * pauliz\n",
    "\n",
    "print(\"True density matrix: \\n{}\".format(true_rho))\n",
    "print(\"Reconstructed density matrix: \\n{}\".format(rho))"
   ]
  },
  {
   "cell_type": "markdown",
   "metadata": {},
   "source": [
    "### Multiple spins (qubits!) \n",
    "Estimating the density matrix for an ensemble of individual spin-½ may have made the problem of quantum state tomography seem a bit too easy. But there are several things we should consider. One is, what happens if the system we want to study is two spin-½ particles, which may be entangled with one another. Now there are four orthogonal quantum states, $++, +-, -+, --$, so the density matrix is 4x4 complex elements. After accounting for the fact that it must be Hermitian and have trace 1, there are still 15 independent numbers required to describe the whole matrix:\n",
    "\n",
    "$$ \\hat{\\rho} = \\left ( \\begin{array}.\n",
    "A_1 & B_1 - i C_1 & B_2 - i C_2 & B_3 - i C_3 \\\\\n",
    "B_1 + i C_1 & A_2 & B_4 - i C_4 & B_5 - i C_5 \\\\\n",
    "B_2 + i C_2 & B_4 + i C_4 & A_3 & B_6 - i C_6 \\\\\n",
    "B_3 + i C_3 & B_5 + i C_5 & B_6 + i C_6 & 1 - A_1 - A_2 - A_3\n",
    "\\end{array} \\right ) \n",
    "$$\n",
    "\n",
    "So to do tomography on such a system we will need to perform at least 15 orthogonal measurements, and invert a linear system of 15 equations with 15 unknowns. This is still reasonable, and many labs have done experiments like this. But it is not scaling well for us: next, if there are three spins we will need an 8x8 density matrix which has 63 independent parameters. A system of four spins has a 16x16 density matrix with 255 independent parameters. In general, a system of $N$ spins requires about $2^N$ numbers to describe the density matrix, which grows out of control very quickly. By the time we reach a system of about 100 spins, the amount of memory it would take to even store the density matrix exceeds all of the computer memory humans have ever produced. \n",
    "\n",
    "But think about that for a moment: 100 tiny microscopic particles in an entangled quantum state may contain more information than all the computers in the world combined. This is either a huge problem or a huge opportunity. Because what if we could *use* all of that quantum complexity to store information, we would have a tiny microscopic system with more storage capacity than all the computers in the world today. Plus, if we wanted to double its information capacity we would simply need to add one more spin to the system (if you want to double the memory of a classical computer, you must double the number of transistors!). The promise of using quantum systems to store and manipulate information is the motivation behind the field of **quantum computing**.  \n",
    "\n",
    "Quantum state tomography is an important tool for quantum information scientists. But it is really only practical on small systems. Performing full state tomography on a system of just a few spins is very time consuming, and we know that we will not be able to perform full tomography on larger quantum systems. **Quantum state verification and validation** is now an important subfield of research, which looks at ways of characterising large quantum systems with limited numbers of measurements. "
   ]
  }
 ],
 "metadata": {
  "anaconda-cloud": {},
  "kernelspec": {
   "display_name": "Python [default]",
   "language": "python",
   "name": "python3"
  },
  "language_info": {
   "codemirror_mode": {
    "name": "ipython",
    "version": 3
   },
   "file_extension": ".py",
   "mimetype": "text/x-python",
   "name": "python",
   "nbconvert_exporter": "python",
   "pygments_lexer": "ipython3",
   "version": "3.5.2"
  }
 },
 "nbformat": 4,
 "nbformat_minor": 2
}

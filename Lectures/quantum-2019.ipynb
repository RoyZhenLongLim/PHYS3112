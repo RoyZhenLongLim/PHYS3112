{
 "cells": [
  {
   "cell_type": "markdown",
   "metadata": {},
   "source": [
    "# Lecture 1 on quantum measurements\n",
    "Quantum measurement describes the quantum mechanical interaction of a system with a measurement apparatus, providing a microscopic view of how measurement works in quantum physics.  Quantum measurement is a modern topic in experimental physics research, and a subject of importance for technological applications such as quantum cryptography and quantum computing.\n",
    "\n",
    "The central theme of the lecture is measurement strength, the amount of information learned about a quantum system when it interacts with a quantum mechanical measurement device.  We will see among other things how the measurement strength ultimately determines the amount of information learned about the system, which can be traded off against the degree to which the quantum system is perturbed by the quantum measurement device (the \"measurement disturbance\").  "
   ]
  },
  {
   "cell_type": "markdown",
   "metadata": {},
   "source": [
    "## Model system: the Stern-Gerlach experiment\n",
    "The famous Stern-Gerlach experiment first demonstrated the quantization of angular momentum.\n",
    "\n",
    "![Stern-Gerlach image](Stern-Gerlach_experiment_svg.svg \"Stern-Gerlach experiment\")\n",
    "\n",
    "A beam of silver atoms was directed through an inhomogeneous magnetic field, which deflected the atoms depending on their angular momentum. The atoms then hit a flourescent screen, which emits light when atoms hit it. \n",
    "\n",
    "The angular momentum of the atom gives it a magnetic dipole moment, which the inhomogneous magnetic field applies a force to, deflecting the atom in a direction depending on the direction of the angular momentum. Classically, we would expect you could get any angular momentum, which would give a single smeared blob of light across the screen. Instead they observed two bright spots in their detector where atoms landed, one corresponding to angular momentum (or spin) $+\\hbar/2$ and one for $-\\hbar/2$ in the $\\vec{z}$ direction. \n"
   ]
  },
  {
   "cell_type": "markdown",
   "metadata": {},
   "source": [
    "## Quantum computing\n",
    "Computer programs (algorithms) are classified in terms the amount of memory or time (computer resources) required for their solution, as a function of the problem size $N$.  An example is the time required to sort a collection of $N$ numbers, which scales as $N \\log(N)$ for the best known algorithms.  The motivation for quantum computing is that resources for algorithms for optimization, cryptography, and quantum physics on conventional computers scale exponentially with system size, like $\\exp (N)$.  For values of $N$ of interest in many such problems their solution cannot be obtained in days or years, even using a supercomputer.  \n",
    "\n",
    "A quantum computer, if realized, could execute quantum algorithms which consume less time/memory. This is because each bit of information in a quantum computer is stored in a two-level quantum mechanical system allowing for a superposition of '0' and '1'.  Quantum measurements are important both for measuring and manipulating quantum information.\n",
    "\n",
    "The basic entity of information for a classical computer is a bit, either a '0' or a '1'.  In contrast, the basic entity of quantum information in a quantum computer is a quantum bit (qubit) that is encoded in the quantum superposition of states ('0' and '1') of a two-level quantum system.  In the Dirac notation it is written as\n",
    "\n",
    "$$\\left|\\psi\\right\\rangle=\\alpha\\left|0\\right\\rangle + \\beta\\left|1\\right\\rangle$$\n",
    "\n",
    "where $\\alpha$ and $\\beta$ are complex coefficients.  \n",
    "\n",
    "The spin of a single electron or atom (with spin-1/2), as measured in the Stern-Gerlach experiment, is a natural qubit which has two possible states.\n",
    "\n",
    "## Quantum state vectors\n",
    "In the Dirac notation, the state of a quantum system is described by 'ket' vector $\\left|\\psi\\right\\rangle$. The state can be written in an orthonormal basis of state vectors $\\left|a_n\\right\\rangle$ with $n=0\\cdots N-1$ as \n",
    "$$\\left|\\psi\\right\\rangle=\\sum_{n} \\alpha_n \\left|a_n\\right\\rangle$$\n",
    "where $\\alpha_n$ are complex numbers called probability amplitudes.\n",
    "\n",
    "Example: A qubit is a special case where $N=2$ and we denote $\\left|a_0\\right\\rangle=\\left|0\\right\\rangle$ and $\\left|a_1\\right\\rangle=\\left|1\\right\\rangle$ so that $\\left|\\psi\\right\\rangle=\\alpha\\left|0\\right\\rangle + \\beta\\left|1\\right\\rangle$.\n",
    "\n",
    "The hermitian conjugate of the state $\\left|\\psi\\right\\rangle^\\dagger$ is called a 'bra' and is given by $\\left\\langle\\psi\\right|=\\sum_{n} \\alpha_n^* \\left\\langle a_n\\right|$.\n",
    "\n",
    "For an orthonormal basis $\\left|a_n\\right\\rangle$, $\\left\\langle a_m|a_n\\right\\rangle$ is an inner product that satisfies $\\left\\langle a_m|a_n\\right\\rangle = \\delta_{mn}$ where $\\delta_{mn}$ is the Dirac delta function (which is 1 when $m=n$ and 0 otherwise).\n",
    "\n",
    "Any vector describing the state of a system must be normalized, that is, $\\left \\langle \\psi | \\psi \\right\\rangle = 1$.  In the $\\left|a_n\\right\\rangle$ basis this is:\n",
    "\n",
    "$$\\left\\langle \\psi | \\psi \\right\\rangle = \\sum_{m,n} \\alpha_m^* \\alpha_n \\left\\langle a_m | a_n\\right\\rangle=\\sum_m |\\alpha_m|^2=1$$\n",
    "\n",
    "Example: For a qubit $\\left|\\psi\\right\\rangle=\\alpha\\left|0\\right\\rangle + \\beta\\left|1\\right\\rangle$ the normalization condition is $|\\alpha|^2+|\\beta|^2=1$.\n"
   ]
  },
  {
   "cell_type": "markdown",
   "metadata": {},
   "source": [
    "## Dynamics\n",
    "In the Dirac notation, the dynamics of a quantum system is described by $i\\hbar \\frac{\\partial \\left|\\Psi\\right\\rangle}{\\partial t} = H\\left|\\Psi\\right\\rangle$, where $H$ the Hamiltonian that governs the state vector $\\left|\\Psi\\right\\rangle$.  \n",
    "\n",
    "The dynamics for a particular operator can be represented by $i\\hbar \\frac{\\partial A}{\\partial t}=HA - AH = [H, A]$.\n",
    "\n",
    "The unitary matrix $U(t)=\\exp(iHt/\\hbar)$ describes the time evolution of a state, such that $\\left|\\Psi(t)\\right\\rangle = U(t)\\left|\\Psi(0)\\right\\rangle$."
   ]
  },
  {
   "cell_type": "markdown",
   "metadata": {},
   "source": [
    "## Strong quantum measurements\n",
    "In quantum physics, the measurement process for the qubit alters the qubit state, except in special circumstances.  Strong measurements have the effect of the so-called \"collapse of the wavefunction\" into an eigenstate of a measurement operator.  In a strong quantum measurement we distinguish three quantities\n",
    "\n",
    "* The outcome of the measurement $m$\n",
    "* The probability for the measurement outcome $p(m)$\n",
    "* The state vector $\\left|\\psi_m\\right\\rangle$ after the measurement\n",
    "\n",
    "Let $\\left|\\psi\\right\\rangle$ be a pure quantum state.  The measurement process itself is described by linear operators $M_m$ for each measurement outcome $m$ which obey\n",
    "\n",
    "$$\\sum_{m}M_m^\\dagger M_m = I$$\n",
    "\n",
    "The probability $p(m)$ to obtain a measurement outcome $m$ is given by \n",
    "\n",
    "$$p(m)=\\left\\langle \\psi \\right |M_m^\\dagger M_m \\left|\\psi\\right\\rangle$$\n",
    "\n",
    "Example: Determine the probability of strong measurement $p(0)$ and $p(1)$ and the final state vectors $\\left|\\psi_0\\right\\rangle$ and $\\left|\\psi_1\\right\\rangle$ for measurement outcomes 0 and 1, on the qubit state $\\left|\\psi\\right\\rangle=\\alpha\\left|0\\right\\rangle + \\beta\\left|1\\right\\rangle$.  \n",
    "\n",
    "Using $M_0=\\left| 0 \\right\\rangle \\left\\langle 0\\right|$ and $M_1=\\left| 1 \\right\\rangle \\left\\langle 1\\right|$: \n",
    "The probability to measure 0 is $p(0)=|\\alpha|^2$, and after measurement, the state is $\\left|\\psi_0\\right\\rangle=\\left|0\\right\\rangle$ \n",
    "The probability to measure 1 is $p(1)=|\\beta|^2$, and after measurement, the state is $\\left|\\psi_1\\right\\rangle=\\left|1\\right\\rangle$\n",
    "\n",
    "Exercise: Check that in the basis $\\left|a\\right\\rangle$ of the operator $A$, $M_a=\\left| a \\right\\rangle \\left\\langle a\\right|$ satisfies $\\sum_{m}M_m^\\dagger M_m = I$."
   ]
  },
  {
   "cell_type": "markdown",
   "metadata": {},
   "source": [
    "## Spin-½ (qubit!) system\n",
    "Before we continue, let's summarize the rules of the spin-½ system. We represent the observable spin measurements along the three axes with the 2x2 Pauli spin matrix operators,\n",
    "\n",
    "$$\\hat{S_x} = \\frac{\\hbar}{2} \\left(\\begin{array} 00 & 1 \\\\ 1 & 0 \\end{array} \\right),\n",
    "\\hat{S_y} = \\frac{\\hbar}{2} \\left(\\begin{array} 00 & -i \\\\ i & 0 \\end{array} \\right),\n",
    "\\hat{S_z} = \\frac{\\hbar}{2} \\left(\\begin{array} 01 & 0 \\\\ 0 & -1 \\end{array} \\right)$$\n",
    "\n",
    "The eigenstates of the $\\hat{S_z}$ operator are,\n",
    "\n",
    "$$\\left | S_z + \\right> = \\left( \\begin{array}  01 \\\\ 0 \\end{array} \\right),\n",
    "\\left | S_z - \\right> = \\left( \\begin{array}  00 \\\\ 1 \\end{array} \\right)$$\n",
    "with corresponding eigenvalues $\\pm \\hbar/2$. The eigenstates of the $\\hat{S_x}$ are,\n",
    "\n",
    "$$\\left | S_x + \\right> = \\left( \\begin{array}. \\frac{1}{\\sqrt{2}} \\\\ \\frac{1}{\\sqrt{2}} \\end{array} \\right),\n",
    "\\left | S_x - \\right> = \\left( \\begin{array}.  \\frac{1}{\\sqrt{2}} \\\\ \\frac{-1}{\\sqrt{2}} \\end{array} \\right)$$\n",
    "\n",
    "Using these statevectors we can confirm that in this reprsentation the state $\\left | S_x + \\right>$, when measured in the z direction gives the result $+\\hbar/2$ with probability $\\left | \\left< S_z + \\right| \\left. S_x + \\right> \\right|^2 = \\left| \\left(\\begin{array} 01 & 0 \\end{array}\\right) \\left( \\begin{array}. \\frac{1}{\\sqrt{2}} \\\\ \\frac{1}{\\sqrt{2}} \\end{array} \\right) \\right|^2= 0.5$, and result $-\\hbar/2$ with probability $\\left | \\left< S_z + \\right| \\left. S_x - \\right> \\right|^2 = \\left| \\left(\\begin{array} 01 & 0 \\end{array}\\right) \\left( \\begin{array}. \\frac{1}{\\sqrt{2}} \\\\ -\\frac{1}{\\sqrt{2}} \\end{array} \\right) \\right|^2= 0.5$.\n",
    "\n",
    "Exercise: Show that $[S_x,S_y]=i\\hbar S_z$, $[S_y,S_z]=i\\hbar S_x$, and $[S_z,S_x]=i\\hbar S_y$, that is, that intrinsic angular momenta projected along different axes are incompatible observables.  "
   ]
  },
  {
   "cell_type": "code",
   "execution_count": 9,
   "metadata": {},
   "outputs": [
    {
     "name": "stdout",
     "output_type": "stream",
     "text": [
      "Sx\n",
      "[[0.  0.5]\n",
      " [0.5 0. ]]\n",
      "Sy\n",
      "[[ 0.+0.j  -0.-0.5j]\n",
      " [ 0.+0.5j  0.+0.j ]]\n",
      "Sz\n",
      "[[ 0.5  0. ]\n",
      " [ 0.  -0.5]]\n",
      "\n",
      "Expectation value: spinup*Sz*spinup\n",
      "[[0.5]]\n",
      "\n",
      "Expectation value: spinxPlus*Sx*spinxPlus\n",
      "[[0.5]]\n",
      "\n",
      "Probability of measuring +z spin when the state was spinxPlus: |spinxPlus*spinup|^2\n",
      "[[0]]\n"
     ]
    }
   ],
   "source": [
    "import numpy as np\n",
    "import matplotlib.pyplot as plt\n",
    "\n",
    "# Define Pauli matrix operators\n",
    "Sx=np.matrix([[0,1],[1,0]])/2\n",
    "Sy=np.matrix([[0,-1j],[1j,0]])/2\n",
    "Sz=np.matrix([[1,0],[0,-1]])/2\n",
    "\n",
    "# Define z spin eigenvectors\n",
    "spinup   = np.matrix([[1], [0]])\n",
    "spindown = np.matrix([[0], [1]])\n",
    "# Define x spin eigenvectors\n",
    "spinxPlus  = np.matrix([[1],[1]]) / np.sqrt(2)\n",
    "spinxMinus = np.matrix([[1],[-1]]) / np.sqrt(2)\n",
    "\n",
    "print('Sx')\n",
    "print(Sx)\n",
    "print('Sy')\n",
    "print(Sy)\n",
    "print('Sz')\n",
    "print(Sz)\n",
    "print(\"\")\n",
    "print('Expectation value: spinup*Sz*spinup')\n",
    "print(spinup.H @ Sz @ spinup)\n",
    "print(\"\")\n",
    "print('Expectation value: spinxPlus*Sx*spinxPlus')\n",
    "print(spinxPlus.H  @ Sx @ spinxPlus)\n",
    "print(\"\")\n",
    "print(\"Probability of measuring +z spin when the state was spinxPlus: |spinxPlus*spinup|^2\")\n",
    "print(np.square(spindown.H @ spinup))"
   ]
  },
  {
   "cell_type": "markdown",
   "metadata": {},
   "source": [
    "## Multi-particle states\n",
    "The composite quantum system consisting of subspace 1 for particle 1 (a qubit or measurement device) and subspace 2 for particle 2 (a qubit or a measurement device) is described by a tensor product\n",
    "\n",
    "$$\\left|\\Psi\\right\\rangle = \\left|\\psi\\right\\rangle_1 \\otimes \\left|\\psi\\right\\rangle_2$$\n",
    "\n",
    "A hermitian operator $A$ has eigenstates $\\left|a_n\\right\\rangle$ and eigenvalues $a_n$ that satisfy $\\left |a_n\\right\\rangle$.  \n",
    "\n",
    "Operators $A^1$ and $A^2$ that operate on different particles give\n",
    "$$A^1(\\left|a_n\\right\\rangle_1 \\otimes \\left|b_n\\right\\rangle_2) = (A^1\\left|a_n\\right\\rangle_1)\\otimes\\left|b_n\\right\\rangle_2=a_n^1\\left|a_n\\right\\rangle_1\\otimes\\left|b_n\\right\\rangle_2$$"
   ]
  },
  {
   "cell_type": "markdown",
   "metadata": {},
   "source": [
    "### Correlations in measurements of two particles of a composite quantum system\n",
    "Consider the state $\\left|\\Psi\\right\\rangle = 2^{-1/2}(\\left|0\\right\\rangle_1\\otimes\\left|0\\right\\rangle_2+ \\left|1\\right\\rangle_1\\otimes\\left|1\\right\\rangle_2)$. This state is called a maximally entangled Bell state.  What is the final state $\\left|\\Psi_m\\right\\rangle$ after measurement of qubit 1?  \n",
    "\n",
    "When the outcome of measuring qubit 1 is 0, calculate $\\left|\\Psi\\right\\rangle$ using the measurement operator $M_{0}^1=\\left| 0 \\right\\rangle_1 \\left\\langle 0\\right|_1$.  The final state is $\\left|\\Psi_{m}\\right\\rangle=\\left|0\\right\\rangle_1\\left|0\\right\\rangle_2$.\n",
    "\n",
    "When the outcome of measuring qubit 1 is 1, calculate $\\left|\\Psi\\right\\rangle$ using the measurement operator $M_{1}^1=\\left| 1 \\right\\rangle_1 \\left\\langle 1\\right|_1$.  The final state is $\\left|\\Psi_{m}\\right\\rangle=\\left|1\\right\\rangle_1\\left|1\\right\\rangle_2$.\n",
    "\n",
    "So, if we measure '0' for qubit 1, we always measure '0' for qubit 2.  \n",
    "If we measure '1' for qubit 1, we always measure '1' for qubit 2.\n",
    "\n",
    "The probability to measure '0','0' is 1/2.\n",
    "The probability to measure '1','1' is 1/2.\n",
    "\n",
    "A correlation is present in the properties of the particles in the quantum system due to the superposition.  This correlation is present when a the state of a composite system can not be factorized into a simple product of the states of its constituents, as for the above state.\n",
    "\n",
    "# Weak quantum measurements\n",
    "The term weak quantum measurement means that we can tune the strength of the measurement to learn more or less about the quantum system we wish to study.  The important question is how is this accomplished, and how much is the quantum system disturbed? \n",
    "\n",
    "In a weak measurement both the system being measured and the measurement device are quantum systems. The three steps in a weak quantum measurement are\n",
    "\n",
    "* The quantum measurement device is prepared in some known state.\n",
    "* We weakly couple the quantum measurement device to the quantum system.\n",
    "* After this we perform a strong quantum measurement on the measurement device.\n",
    "\n",
    "## The quantum measurement device (\"the needle\")\n",
    "Let the measurement device be a quantum system whose position degree of freedom will be prepared in an initial state, and weakly coupled to the quantum system.  \n",
    "\n",
    "The measurement device is prepared in a state \n",
    "$$\\left|\\phi(x)\\right\\rangle_d = \\int_x dx \\phi(x) \\left|x\\right\\rangle_d$$\n",
    "\n",
    "The position $x$ of the particle can be seen as a measurement 'needle' and the position is prepared with some uncertainty $\\sigma$ around $x=0$.\n",
    "\n",
    "$$\\phi(x)=(2\\pi\\sigma^2)^{-1/4}\\exp(-x^2/4\\sigma^2)$$\n",
    "\n",
    "The position operator $X^d$ describes the position of the measurement device, such that $X^d\\left|x\\right\\rangle_d = x\\left|x\\right\\rangle_d$.  \n",
    "\n",
    "## The quantum system to be measured\n",
    "Let the system to be measured be an unknown state $\\left|\\psi\\right\\rangle=\\sum_j \\alpha_j \\left|a_j\\right\\rangle$, and $A$ is the operator corresponding to the quantity that we wish to perform a weak measurement on.  That is, $A\\left|a_n\\right\\rangle = a_n\\left|a_n\\right\\rangle$.\n",
    "\n",
    "## Coupling the system and measurement device\n",
    "The Hamiltonian $H$ describes the interaction.  We choose $H=g(t)A\\otimes P^d$ to describe the interaction between the quantum measurement device and the quantum system.  Here, $P^d$ is the momentum of the quantum measurement device, and $g(t)$ is an impulse function with the property $\\int_0^T dt g(t)=1$.\n",
    "\n",
    "The meaning of this interaction is that a different impulse of momentum $P^d$ is applied to the measurement device needle for each element in the superposition. \n",
    "\n",
    "We wish to determine the value of the measurement needle after the system-measurement device interaction, by a strong quantum measurement of the measurement device.  As we will see, control over the strength of the measurement is provided by the ability to choose the initial distribution $\\phi(x)$ of the measurement device, relative to the separate between the eigenvalues $a_n$ of the quantum system to be measured.\n",
    "\n",
    "### Time evolution before strong measurement\n",
    "The derivation for the total quantum state including the needle deflection is presented here.  We start with the composite quantum state of the quantum system and measurement device.\n",
    "\n",
    "$$\\left|\\Psi(0)\\right\\rangle=\\left|\\psi\\right\\rangle\\otimes\\left|\\phi(x)\\right\\rangle_d$$\n",
    "\n",
    "Under the interaction $H$ the system evolves as\n",
    "\n",
    "$$\\left|\\Psi(t)\\right\\rangle=\\exp(iHt/\\hbar)\\left|\\psi\\right\\rangle\\otimes\\left|\\phi(x)\\right\\rangle_d$$\n",
    "\n",
    "The deflection of the needle is given by a strong measurement of the needle deflection $X^d(T)-X^d(0)$ at time $T$.  The operator for this deflection obeys \n",
    "\n",
    "$$X^d(T)-X^d(0)=\\int_0^T dt \\frac{\\partial X^d}{\\partial t}$$\n",
    "\n",
    "The operator $X^d$ evolves in time by the dynamical formula $\\frac{\\partial X^d}{\\partial t}=i/\\hbar[H,X^d]$ stated earlier.  Substituting $H=g(t)[A \\otimes P^d,X^d]$ and simplifying using the position/momentum uncertainty relation we obtain the result $\\frac{\\partial X^d}{\\partial t}=Ag(t)$.  \n",
    "\n",
    "Writing $\\left|\\psi\\right\\rangle=\\sum_n \\alpha_n \\left|a_n\\right\\rangle$, the final state obtained is\n",
    "\n",
    "$$\\left|\\Psi(T)\\right\\rangle=\\sum_j \\alpha_j\\left|a_j\\right\\rangle \\otimes \\int_x dx \\phi(x-a_j)\\left|x\\right\\rangle$$ \n",
    "\n",
    "which is the central result of weak measurement in these notes.\n",
    "\n",
    "## Strong measurement of the needle after interaction\n",
    "Inspecting $\\left|\\Psi(T)\\right\\rangle$, the interaction has introduced a correlation between the properties of the quantum system and the quantum measurement device, because the state of the composite system can no longer be factorized into a product.  The mechanism for the measurement is the generation of correlations of the type present in our earlier example of a Bell state.\n",
    "\n",
    "To see this more clearly, strong measurement of the position resulting in a value $x_0$ produces a final state \n",
    "\n",
    "$$M_{x_0}\\left|\\Psi(T)\\right\\rangle=\\sum_j \\alpha_j \\phi(x_0-a_j) \\left|a_j\\right\\rangle \\otimes \\left|x_0\\right\\rangle_d$$\n",
    "\n",
    "The state can now be factorized, since it is a simple product.  But the amount of information gained about the system depends on the values $\\phi(x_0-a_j)=\\exp(-(x_0-a_j)^2/4\\sigma^2)$.\n",
    "\n",
    "In the following example, the strength of the measurement is characterized by the ratio of the $\\sigma/(a_j-a_{j+1})$.  When $\\sigma$ is small compared to $a_j-a_{j+1}$ we recover the strong measurement case where the state is strongly perturbed and we learn a lot about the final state.  \n",
    "\n",
    "### Example: a modified Stern Gerlach experiment\n",
    "We wish to measure the spin degree of freedom of a beam of quantum particles.  Our needle is magnetic and is deflected by an amount that is proportional to the spin of the particle, and we can measure the needle position accurately.  \n",
    "\n",
    "For the quantum system we have $A=S_z$ the $z$ projection of the spin quantum number. Let us assume that the initial state of the quantum system is $\\left|\\psi\\right\\rangle = 2^{-1/2}(\\left|0\\right\\rangle + \\left|1\\right\\rangle)$.\n",
    "\n",
    "For the quantum measurement device (needle) we prepare the initial state with a distribution $\\phi(x_0-a_j)=\\exp(-(x_0-a_j)^2/4\\sigma^2)$.\n",
    "\n",
    "The interaction stays the same, $H=g(t)A \\otimes P^d$.\n",
    "\n",
    "Determine for $\\sigma=5(\\hbar/2)$ and $\\hbar/2$ the final state of the system for two cases: when $x=0$ and when $x=\\hbar/2$.\n",
    "\n",
    "The state after measurement of position $x_0$ is $$M_{x_0}\\left|\\Psi(T)\\right\\rangle= 2^{-1/2} \\phi(x_0-\\hbar/2) \\left|0\\right\\rangle \\otimes \\left|x_0\\right\\rangle_d+ 2^{-1/2}\\phi(x_0+\\hbar/2) \\left|1\\right\\rangle \\otimes \\left|x_0\\right\\rangle_d$$"
   ]
  },
  {
   "cell_type": "code",
   "execution_count": 10,
   "metadata": {},
   "outputs": [
    {
     "data": {
      "image/png": "[encoded data removed]",
      "text/plain": [
       "<Figure size 432x288 with 1 Axes>"
      ]
     },
     "metadata": {
      "needs_background": "light"
     },
     "output_type": "display_data"
    },
    {
     "name": "stdout",
     "output_type": "stream",
     "text": [
      "Psi_m for x=0\n",
      "[[0.96078944]\n",
      " [0.96078944]]\n",
      "Psi_m for x=\\hbar/2\n",
      "[[1.        ]\n",
      " [0.85214379]]\n"
     ]
    },
    {
     "data": {
      "image/png": "[encoded data removed]",
      "text/plain": [
       "<Figure size 432x288 with 1 Axes>"
      ]
     },
     "metadata": {
      "needs_background": "light"
     },
     "output_type": "display_data"
    },
    {
     "name": "stdout",
     "output_type": "stream",
     "text": [
      "Psi_m for x=0\n",
      "[[0.36787944]\n",
      " [0.36787944]]\n",
      "Psi_m for x=\\hbar/2\n",
      "[[1.        ]\n",
      " [0.01831564]]\n"
     ]
    }
   ],
   "source": [
    "import numpy as np\n",
    "import matplotlib.pyplot as plt\n",
    "\n",
    "x=np.array(np.arange(-8,8,0.01))\n",
    "sigma = 5\n",
    "phi0_ex1=np.exp(-(x-1/2)**2/(sigma*1/2)**2)\n",
    "phi1_ex1=np.exp(-(x+1/2)**2/(sigma*1/2)**2)\n",
    "\n",
    "plt.plot(x, phi0_ex1,x,phi1_ex1)\n",
    "plt.xlabel(\"x [units hbar]\")\n",
    "plt.ylabel(\"phi(0) and phi(1)\")\n",
    "plt.show()\n",
    "print(\"Psi_m for x=0\")\n",
    "psim_ex1_0=np.matrix([[np.exp(-(0-1/2)**2/(5*1/2)**2)],[np.exp(-(0+1/2)**2/(5*1/2)**2)]])\n",
    "print(psim_ex1_0)\n",
    "print(\"Psi_m for x=\\hbar/2\")\n",
    "psim_ex1_hbar2=np.matrix([[np.exp(-(1/2-1/2)**2/(5*1/2)**2)],[np.exp(-(1/2+1/2)**2/(5*1/2)**2)]])\n",
    "print(psim_ex1_hbar2)\n",
    "\n",
    "sigma = .1\n",
    "phi0_ex2=np.exp(-(x-1/2)**2/(sigma/2)**2)\n",
    "phi1_ex2=np.exp(-(x+1/2)**2/(sigma/2)**2)\n",
    "plt.plot(x, phi0_ex2,x,phi1_ex2)\n",
    "plt.xlabel(\"x [units hbar]\")\n",
    "plt.ylabel(\"phi(0) and phi(1)\")\n",
    "plt.show()\n",
    "print(\"Psi_m for x=0\")\n",
    "psim_ex2_0=np.matrix([[np.exp(-(0-1/2)**2/(1/2)**2)],[np.exp(-(0+1/2)**2/(1/2)**2)]])\n",
    "print(psim_ex2_0)\n",
    "print(\"Psi_m for x=\\hbar/2\")\n",
    "psim_ex2_hbar2=np.matrix([[np.exp(-(1/2-1/2)**2/(1/2)**2)],[np.exp(-(1/2+1/2)**2/(1/2)**2)]])\n",
    "print(psim_ex2_hbar2)"
   ]
  },
  {
   "cell_type": "code",
   "execution_count": null,
   "metadata": {
    "collapsed": true
   },
   "outputs": [],
   "source": []
  }
 ],
 "metadata": {
  "anaconda-cloud": {},
  "kernelspec": {
   "display_name": "Python 3",
   "language": "python",
   "name": "python3"
  },
  "language_info": {
   "codemirror_mode": {
    "name": "ipython",
    "version": 3
   },
   "file_extension": ".py",
   "mimetype": "text/x-python",
   "name": "python",
   "nbconvert_exporter": "python",
   "pygments_lexer": "ipython3",
   "version": "3.7.1"
  }
 },
 "nbformat": 4,
 "nbformat_minor": 2
}

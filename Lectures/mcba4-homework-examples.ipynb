{
 "cells": [
  {
   "cell_type": "markdown",
   "metadata": {},
   "source": [
    "# Homework: some examples to help with learning Python\n",
    "\n",
    "The best way to learn how to program computers is ... to program computers! Just like solving physics problems is an excellent (the only?) way of learning physics.\n",
    "\n",
    "There are lots of good on-line tutorials on learning Python. [Here is the tutorial that comes with the Python software itself ](https://docs.python.org/3/tutorial/).\n",
    "\n",
    "This notebook will introduce some new concepts and encourage you to try writing some programs.\n",
    "\n",
    "## User input\n",
    "\n",
    "The Python \"input()\" function waits for you to type some input, and then returns a character string containing that input. You can convert the character string to another data type if you wish.\n",
    "\n",
    "Exercise: try running the following program, with various inputs, and see if you can understand what it is doing. Note the \"format()\" operation that allows you to have control of the formatting (e.g., number of significant digits displayed, whether to use exponential notation) of your output."
   ]
  },
  {
   "cell_type": "code",
   "execution_count": null,
   "metadata": {},
   "outputs": [],
   "source": [
    "s = input(\"enter a number: \")\n",
    "x = float(s)\n",
    "print(s, s[::-1], x, \"{:10.3e}\".format(x))"
   ]
  },
  {
   "cell_type": "markdown",
   "metadata": {},
   "source": [
    "Here is a program that accepts two numbers from the keyboard, and prints them. Note that we have to use \"split()\" to split the input string into \"whitespace-delimited strings\", and we can then call \"float()\" on each string to convert it into a floating point number.\n",
    "\n",
    "The weird syntax in square brackets is known as a *list comprehension*, it is a python shorthand that is useful for creating lists. More on this in the next cell."
   ]
  },
  {
   "cell_type": "code",
   "execution_count": null,
   "metadata": {
    "scrolled": true
   },
   "outputs": [],
   "source": [
    "s = input(\"enter two numbers, separated by spaces: \")\n",
    "print(s)\n",
    "print(s.split())\n",
    "x, y = [float(ss) for ss in s.split()]\n",
    "print(\"the first number was {:6.2f}, the second was {:6.2f}\".format(x, y))"
   ]
  },
  {
   "cell_type": "markdown",
   "metadata": {},
   "source": [
    "The general form of a *list comprehension* is:\n",
    "\n",
    "`new_list = [expression for item in existing_list if conditional]`\n",
    "\n",
    "which is equivalent to\n",
    "\n",
    "```\n",
    "new_list = []\n",
    "for item in existing_list:\n",
    "    if conditional:\n",
    "       new_list.append(expression)\n",
    "```\n",
    "\n",
    "If you find this confusing, you are not alone. You can just avoid using list comprehensions. An example may help:"
   ]
  },
  {
   "cell_type": "code",
   "execution_count": null,
   "metadata": {},
   "outputs": [],
   "source": [
    "# Make a list of the squares of the even numbers less than 10.\n",
    "\n",
    "x = [i*i for i in range(10) if i % 2 == 0]\n",
    "print(x)\n",
    "\n",
    "# Python also allows \"set comprehensions\" \n",
    "# (and \"dictionary conprehensions\"). \n",
    "# Can you understand the reason for the output from this line?\n",
    "\n",
    "x = {i*i for i in range(10) if i % 2 == 0}\n",
    "print(x)"
   ]
  },
  {
   "cell_type": "markdown",
   "metadata": {},
   "source": [
    "**Challenge:** write a program to accept three numbers: a starting angle, an ending angle, and an increment (all in degrees). The program should then print out a nicely formatted table (i.e., columns aligned) giving the sin, cos, and tan for all angles in the given range.\n",
    "\n",
    "To get you started, here is a program fragment (with deliberate errors in it) that prints squares and cubes. You need to fix the errors, change to using trig functions, convert to degrees, and tidy up the output. Add some comments too."
   ]
  },
  {
   "cell_type": "code",
   "execution_count": null,
   "metadata": {},
   "outputs": [],
   "source": [
    "import numpy as np\n",
    "import math\n",
    "\n",
    "start, end, inc = [flot(ss) for s in input(\"enter 3 numbers: \").split()]\n",
    "print(math.pi)\n",
    "print(\"Table heading.  Angle,   Angle**2,   Angle**3\")\n",
    "for angle in np.linspace(start, end, (end - start + inc)/inc):\n",
    "    print(angle, angle**2, angle**3)\n",
    "\n",
    "\n"
   ]
  },
  {
   "cell_type": "markdown",
   "metadata": {},
   "source": [
    "## The Collatz Conjecture\n",
    "\n",
    "Take any positive integer $n$. If $n$ is even, divide it by 2 to get $n / 2$. If $n$ is odd, multiply it by 3 and add 1 to obtain $3n + 1$. Repeat the process indefinitely. The Collatz Conjecture is that no matter what number you start with, you will always eventually reach 1.\n",
    "\n",
    "No one knows if the conjecture is true.\n",
    "\n",
    "**Challenge:** write a program to print out the sequence of numbers for any $n$.\n",
    "\n",
    "Here is an example of what your output should be for an input of 19: 19, 58, 29, 88, 44, 22, 11, 34, 17, 52, 26, 13, 40, 20, 10, 5, 16, 8, 4, 2, 1\n",
    "\n",
    "**Challenge:** now alter your program to print out the longest sequence between two input numbers. \n",
    "\n",
    "The following plot shows the total sequence length for integers from 2 to 10 million.\n",
    "\n",
    "![](http://mcba11.phys.unsw.edu.au/~mcba/phys3112/Collatz-10Million.png)\n",
    "\n",
    "## Random number generator\n",
    "\n",
    "The linear congruential random number generator is a very simple, and moderately well-performing, random number generator. The equation used is:\n",
    "\n",
    "$$X_{n+1}=(aX_n+c)\\,\\,{\\rm mod}\\,\\,m$$\n",
    "\n",
    "Where $m$ is the modulus, $a$ is the multiplier, and $c$ is the increment.\n",
    "\n",
    "**Challenge:** write a program to generate a user-specified number of random numbers, starting from a user-specified starting point $X_0$ (the *seed* number), and using $m=2^{31}-1, a=1103515245,$ and $c=12345$ (these values are the ones used in the GNU C library).\n",
    "\n",
    "## Telescope mount slew performance\n",
    "\n",
    "This problem is a bit tricky for beginning programmers.\n",
    "\n",
    "[This file](http://mcba11.phys.unsw.edu.au/~mcba/phys3112/slew99.dat) contains three columns of numbers giving the time, and position (azimuth,  altitude, in degrees) to which a telescope (Gattini-IR at Mt Palomar Observatory in California) is pointing during a slew (a movement from one position on the sky to another). Here are the first lines in the file:\n",
    "\n",
    "```\n",
    ".12096000 86.513291655 45.021083333\n",
    ".31622400 86.396833320 45.141388888\n",
    ".51408000 86.181333330 45.355111111\n",
    ".70675200 85.920166665 45.663194444\n",
    ".91238400 85.651208325 46.071666666\n",
    "1.15776000 85.327875000 46.562250000\n",
    "1.40400000 85.005333330 47.052194444\n",
    "1.64851200 84.681333330 47.541055555\n",
    "```\n",
    "\n",
    "**Challenge:** write a program to display the velocity (in degrees per second, assuming a great circle path from one position to the next) as a function of time, and the distance (in log10 arcseconds) to the target position (which you can assume is the last row in the file).\n",
    "\n",
    "**Hints:** use numpy.genfromtxt() to read the data into a 2D array. Make use of numpy vector arithmetic to eliminate the need to code loops. To calculate great circle distances, use the haversine formula.\n",
    "\n",
    "**Expected output:** your last plot should show evidence of an exponential final approach (straight line on the log10 plot) to the final position."
   ]
  },
  {
   "cell_type": "code",
   "execution_count": null,
   "metadata": {},
   "outputs": [],
   "source": []
  }
 ],
 "metadata": {
  "anaconda-cloud": {},
  "kernelspec": {
   "display_name": "Python 3",
   "language": "python",
   "name": "python3"
  },
  "language_info": {
   "codemirror_mode": {
    "name": "ipython",
    "version": 3
   },
   "file_extension": ".py",
   "mimetype": "text/x-python",
   "name": "python",
   "nbconvert_exporter": "python",
   "pygments_lexer": "ipython3",
   "version": "3.7.4"
  }
 },
 "nbformat": 4,
 "nbformat_minor": 1
}

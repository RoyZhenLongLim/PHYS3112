{
 "cells": [
  {
   "cell_type": "code",
   "outputs": [],
   "source": [
    "import numpy as np"
   ],
   "metadata": {
    "collapsed": false,
    "ExecuteTime": {
     "end_time": "2024-04-04T07:33:51.275143Z",
     "start_time": "2024-04-04T07:33:51.214336Z"
    }
   },
   "id": "4bfe0ae0481ec1d2",
   "execution_count": 2
  },
  {
   "cell_type": "code",
   "outputs": [
    {
     "name": "stdout",
     "output_type": "stream",
     "text": [
      "Eigenvalues (energy levels) are [3.81740610e+01 3.12113680e+06 3.12113680e+06 1.24844327e+07\n",
      " 1.24844327e+07 2.80899258e+07 2.80899258e+07 4.99376162e+07\n",
      " 4.99376162e+07 7.80275038e+07]\n",
      "The energy gap is 3.121 MeV\n"
     ]
    }
   ],
   "source": [
    "#constants\n",
    "hbar = 1.055e-34 #Js\n",
    "q = 1.602e-19    #C\n",
    "m = 0.2 * 9.1e-31 # effective mass in silicon\n",
    "\n",
    "#grid\n",
    "Np = 100\n",
    "a = 1e-10    #m\n",
    "X = a*np.linspace(1, Np, Np)/1e-9  #nm\n",
    "\n",
    "# define Hamiltonian as a tridiagonal matrix\n",
    "t0 = (hbar*hbar)/(2*m*a*a)/q #divide by q to convert to eV\n",
    "on = 2.0*t0*np.ones(Np)\n",
    "off = -t0*np.ones(Np-1)\n",
    "\n",
    "# define single quantum dot potential\n",
    "def single_qd_potential(alpha, x, x1):\n",
    "    return alpha * (x - x1)**2\n",
    "\n",
    "alpha = 5e+7 # quantum harmonic oscillator\n",
    "U = np.ones(100)\n",
    "i = 1\n",
    "while i <= 100:\n",
    "    U[i-1] = single_qd_potential(alpha, i*a, Np/2 * a)/q # to get in eV\n",
    "    i = i + 1\n",
    "\n",
    "# define Hamiltonian\n",
    "H = np.diag(on + U) + np.diag(off, 1) + np.diag(off, -1)\n",
    "# print(H)\n",
    "\n",
    "# solve for eigenvalues and vectors\n",
    "W, V = np.linalg.eig(H)\n",
    "idx = W.argsort()[::1]\n",
    "W = W[idx]\n",
    "V = V[:,idx]\n",
    "#print(W)\n",
    "#print(V)\n",
    "\n",
    "# print eigenvalues and energy gaps\n",
    "print(f'Eigenvalues (energy levels) are {W[0:10]}')\n",
    "Energy_gap=W[1]-W[0]\n",
    "print(f'The energy gap is {((Energy_gap)/1e6):.3f} MeV')"
   ],
   "metadata": {
    "collapsed": false,
    "ExecuteTime": {
     "end_time": "2024-04-04T07:33:51.864827Z",
     "start_time": "2024-04-04T07:33:51.844081Z"
    }
   },
   "id": "5a1e230e3d34d866",
   "execution_count": 3
  }
 ],
 "metadata": {
  "kernelspec": {
   "display_name": "Python 3",
   "language": "python",
   "name": "python3"
  },
  "language_info": {
   "codemirror_mode": {
    "name": "ipython",
    "version": 2
   },
   "file_extension": ".py",
   "mimetype": "text/x-python",
   "name": "python",
   "nbconvert_exporter": "python",
   "pygments_lexer": "ipython2",
   "version": "2.7.6"
  }
 },
 "nbformat": 4,
 "nbformat_minor": 5
}

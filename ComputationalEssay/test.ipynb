{
 "cells": [
  {
   "cell_type": "code",
   "execution_count": 6,
   "id": "initial_id",
   "metadata": {
    "collapsed": true,
    "ExecuteTime": {
     "end_time": "2024-03-25T07:51:50.629612Z",
     "start_time": "2024-03-25T07:51:50.206187Z"
    }
   },
   "outputs": [],
   "source": [
    "import numpy as np\n",
    "import matplotlib.pyplot as plt"
   ]
  },
  {
   "cell_type": "code",
   "outputs": [],
   "source": [
    "# Constants\n",
    "hbar = 1.055e-34      # Js\n",
    "q = 1.602e-19         # C   \n",
    "m = 9.1e-31           # kg\n",
    "a = 1e-10"
   ],
   "metadata": {
    "collapsed": false,
    "ExecuteTime": {
     "end_time": "2024-03-25T07:51:51.441169Z",
     "start_time": "2024-03-25T07:51:51.437921Z"
    }
   },
   "id": "5675e2c96f7ac367",
   "execution_count": 7
  },
  {
   "cell_type": "code",
   "outputs": [],
   "source": [
    "def VQD(alpha, x1, x):\n",
    "    return alpha * (x - x1) ** 2"
   ],
   "metadata": {
    "collapsed": false,
    "ExecuteTime": {
     "end_time": "2024-03-25T07:51:52.053108Z",
     "start_time": "2024-03-25T07:51:52.050210Z"
    }
   },
   "id": "5ce9993759730e59",
   "execution_count": 8
  },
  {
   "cell_type": "code",
   "outputs": [],
   "source": [
    "def get_eigenvalue_and_eigenvectors(alpha):\n",
    "    # Create Hamiltonian\n",
    "    Np = 100\n",
    "    a = 1e-10  # m\n",
    "    X = a * np.linspace(1, Np, Np) / 1e-9 # nm\n",
    "    # divide by q to convert to eV, accounting for mass of quantum dot ~ 0.2 mass of electron\n",
    "    t0 = (hbar * hbar) / (2 * 0.2 * m * a * a) / q\n",
    "    on = 2.0 * t0 * np.ones(Np)\n",
    "    off = -t0 * np.ones(Np - 1)\n",
    "    \n",
    "    x1 = 5 # nm\n",
    "    U = np.array([VQD(alpha, x1, x) for x in X])\n",
    "    H = np.diag(on + U) + np.diag(off, 1) + np.diag(off, -1)\n",
    "    W, V = np.linalg.eig(H)\n",
    "    idx = W.argsort()[::1]\n",
    "    W = W[idx]\n",
    "    V = V[:, idx]\n",
    "    \n",
    "    return W, V"
   ],
   "metadata": {
    "collapsed": false,
    "ExecuteTime": {
     "end_time": "2024-03-25T07:51:52.612992Z",
     "start_time": "2024-03-25T07:51:52.607550Z"
    }
   },
   "id": "62d636947ecae0d9",
   "execution_count": 9
  },
  {
   "cell_type": "code",
   "outputs": [
    {
     "name": "stdout",
     "output_type": "stream",
     "text": [
      "8.712695892376569e-07 MeV : 0\n",
      "2.737893094628711e-06 MeV : 1\n",
      "8.480014115974772e-06 MeV : 2\n",
      "2.4892833992072676e-05 MeV : 3\n",
      "0.00010566396535100114 MeV : 4\n",
      "0.0010006067377948526 MeV : 5\n",
      "0.010000060719403561 MeV : 6\n",
      "0.10000000607198604 MeV : 7\n",
      "1.0000000006072016 MeV : 8\n",
      "10.00000000006074 MeV : 9\n",
      "100.0000000000062 MeV : 10\n",
      "999.999999999994 MeV : 11\n",
      "9999.99999999993 MeV : 12\n",
      "99999.9999999993 MeV : 13\n",
      "999999.999999993 MeV : 14\n",
      "9999999.99999993 MeV : 15\n",
      "99999999.99999928 MeV : 16\n",
      "999999999.9999926 MeV : 17\n",
      "9999999999.99993 MeV : 18\n",
      "99999999999.9993 MeV : 19\n",
      "999999999999.9929 MeV : 20\n",
      "9999999999999.928 MeV : 21\n",
      "99999999999999.3 MeV : 22\n",
      "999999999999992.8 MeV : 23\n",
      "9999999999999928.0 MeV : 24\n",
      "9.99999999999993e+16 MeV : 25\n",
      "9.99999999999993e+17 MeV : 26\n",
      "9.99999999999993e+18 MeV : 27\n",
      "9.999999999999928e+19 MeV : 28\n",
      "9.999999999999929e+20 MeV : 29\n",
      "9.999999999999929e+21 MeV : 30\n",
      "9.999999999999929e+22 MeV : 31\n",
      "9.99999999999993e+23 MeV : 32\n",
      "9.999999999999928e+24 MeV : 33\n"
     ]
    }
   ],
   "source": [
    "for power in range(0, 34):\n",
    "    print(get_energy_gap(10 ** power) / 1e6, 'MeV', f': {power}')"
   ],
   "metadata": {
    "collapsed": false,
    "ExecuteTime": {
     "end_time": "2024-03-25T07:58:56.996322Z",
     "start_time": "2024-03-25T07:58:56.800148Z"
    }
   },
   "id": "78f1974dacb0a85d",
   "execution_count": 13
  }
 ],
 "metadata": {
  "kernelspec": {
   "display_name": "Python 3",
   "language": "python",
   "name": "python3"
  },
  "language_info": {
   "codemirror_mode": {
    "name": "ipython",
    "version": 2
   },
   "file_extension": ".py",
   "mimetype": "text/x-python",
   "name": "python",
   "nbconvert_exporter": "python",
   "pygments_lexer": "ipython2",
   "version": "2.7.6"
  }
 },
 "nbformat": 4,
 "nbformat_minor": 5
}

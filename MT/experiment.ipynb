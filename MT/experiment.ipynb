{
 "cells": [
  {
   "cell_type": "code",
   "execution_count": 1,
   "id": "initial_id",
   "metadata": {
    "collapsed": true,
    "ExecuteTime": {
     "end_time": "2024-02-26T08:50:32.591785Z",
     "start_time": "2024-02-26T08:50:32.571033Z"
    }
   },
   "outputs": [],
   "source": [
    "jg = [\n",
    "    (7/2, 2),\n",
    "    (6, 3),\n",
    "    (15/2, 4/3),\n",
    "    (8, 5/4),\n",
    "    (15/2, 6/5),\n",
    "    (6, 7/6)\n",
    "]"
   ]
  },
  {
   "cell_type": "code",
   "outputs": [
    {
     "name": "stdout",
     "output_type": "stream",
     "text": [
      "15.75\n",
      "168.00\n",
      "7.08\n",
      "4.50\n",
      "2.55\n",
      "1.17\n"
     ]
    }
   ],
   "source": [
    "for j, g in jg:\n",
    "    print(\n",
    "        f'{(g-1) ** 2 * j * (j + 1):.2f}'\n",
    "    )"
   ],
   "metadata": {
    "collapsed": false,
    "ExecuteTime": {
     "end_time": "2024-02-26T08:51:01.090042Z",
     "start_time": "2024-02-26T08:51:01.082192Z"
    }
   },
   "id": "f64eb8a38f952c51",
   "execution_count": 3
  }
 ],
 "metadata": {
  "kernelspec": {
   "display_name": "Python 3",
   "language": "python",
   "name": "python3"
  },
  "language_info": {
   "codemirror_mode": {
    "name": "ipython",
    "version": 2
   },
   "file_extension": ".py",
   "mimetype": "text/x-python",
   "name": "python",
   "nbconvert_exporter": "python",
   "pygments_lexer": "ipython2",
   "version": "2.7.6"
  }
 },
 "nbformat": 4,
 "nbformat_minor": 5
}
